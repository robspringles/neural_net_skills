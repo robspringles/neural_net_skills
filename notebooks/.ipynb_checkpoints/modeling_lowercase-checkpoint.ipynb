{
 "cells": [
  {
   "cell_type": "markdown",
   "metadata": {},
   "source": [
    "# Parse JDs, extract skills\n",
    "\n",
    "But lowercase the data first"
   ]
  },
  {
   "cell_type": "code",
   "execution_count": 3,
   "metadata": {},
   "outputs": [
    {
     "name": "stdout",
     "output_type": "stream",
     "text": [
      "[nltk_data] Downloading package punkt to /home/goodgame/nltk_data...\n",
      "[nltk_data]   Unzipping tokenizers/punkt.zip.\n",
      "[nltk_data] Downloading package wordnet to /home/goodgame/nltk_data...\n",
      "[nltk_data]   Unzipping corpora/wordnet.zip.\n",
      "[nltk_data] Downloading package words to /home/goodgame/nltk_data...\n",
      "[nltk_data]   Unzipping corpora/words.zip.\n",
      "[nltk_data] Downloading package averaged_perceptron_tagger to\n",
      "[nltk_data]     /home/goodgame/nltk_data...\n",
      "[nltk_data]   Unzipping taggers/averaged_perceptron_tagger.zip.\n",
      "[nltk_data] Downloading package maxent_ne_chunker to\n",
      "[nltk_data]     /home/goodgame/nltk_data...\n",
      "[nltk_data]   Unzipping chunkers/maxent_ne_chunker.zip.\n",
      "[nltk_data] Downloading package stopwords to\n",
      "[nltk_data]     /home/goodgame/nltk_data...\n",
      "[nltk_data]   Unzipping corpora/stopwords.zip.\n"
     ]
    }
   ],
   "source": [
    "import os\n",
    "import re\n",
    "import json\n",
    "from pprint import pprint\n",
    "from bs4 import BeautifulSoup\n",
    "from bs4.element import Comment\n",
    "\n",
    "import nltk\n",
    "from nltk import word_tokenize          \n",
    "from nltk.stem import WordNetLemmatizer\n",
    "from nltk.stem.porter import PorterStemmer\n",
    "from nltk.chunk import conlltags2tree, tree2conlltags\n",
    "from nltk import word_tokenize, pos_tag, ne_chunk\n",
    "from nltk.corpus import stopwords\n",
    "from nltk import RegexpTokenizer\n",
    "\n",
    "from sklearn.feature_extraction.text import TfidfVectorizer\n",
    "from sklearn.cluster import KMeans\n",
    "\n",
    "import gensim\n",
    "from pprint import pprint\n",
    "\n",
    "import codecs\n",
    "import os\n",
    "import time\n",
    "\n",
    "nltk.download('punkt')\n",
    "nltk.download('wordnet')\n",
    "nltk.download('words')\n",
    "nltk.download('averaged_perceptron_tagger')\n",
    "nltk.download('maxent_ne_chunker')\n",
    "nltk.download('stopwords')\n",
    "\n",
    "import spacy\n",
    "import pandas as pd\n",
    "import itertools as it\n",
    "import en_core_web_sm\n",
    "\n",
    "import spacy\n",
    "nlp = spacy.load('en')"
   ]
  },
  {
   "cell_type": "code",
   "execution_count": null,
   "metadata": {
    "collapsed": true
   },
   "outputs": [],
   "source": [
    "import codecs\n",
    "import boto3"
   ]
  },
  {
   "cell_type": "code",
   "execution_count": 3,
   "metadata": {
    "collapsed": true
   },
   "outputs": [],
   "source": [
    "s3 = boto3.resource('s3')"
   ]
  },
  {
   "cell_type": "code",
   "execution_count": 4,
   "metadata": {
    "collapsed": true
   },
   "outputs": [],
   "source": [
    "# Raghu's code to pull down jobs\n",
    "BUCKET_NAME = 'tech-salary-project'"
   ]
  },
  {
   "cell_type": "code",
   "execution_count": 5,
   "metadata": {},
   "outputs": [
    {
     "name": "stdout",
     "output_type": "stream",
     "text": [
      "CPU times: user 31.3 s, sys: 2.14 s, total: 33.5 s\n",
      "Wall time: 15min 22s\n"
     ]
    }
   ],
   "source": [
    "%%time\n",
    "\n",
    "bucket = s3.Bucket(BUCKET_NAME)\n",
    "all_job_titles = []\n",
    "all_job_ids = []\n",
    "all_summaries = []\n",
    "for o in bucket.objects.all():\n",
    "    if o.key.startswith('salaries'):\n",
    "        continue\n",
    "    \n",
    "    object = bucket.Object(o.key)\n",
    "    try :\n",
    "        lines = object.get()['Body'].read().decode('utf-8').splitlines()\n",
    "        for line in lines:\n",
    "            d = json.loads(line)\n",
    "            \n",
    "            title = d['title']\n",
    "            jid = d['id']\n",
    "            summary = d['summary']\n",
    "            \n",
    "            all_job_ids.append(jid)\n",
    "            all_job_titles.append(title)\n",
    "            all_summaries.append(summary)\n",
    "    except Exception as e:\n",
    "        continue"
   ]
  },
  {
   "cell_type": "code",
   "execution_count": 6,
   "metadata": {},
   "outputs": [
    {
     "name": "stdout",
     "output_type": "stream",
     "text": [
      "Number of all job titles: 41777\n",
      "Number of unique job titles: 21917\n",
      "Number of all job ids: 41777\n",
      "Number of unique job ids: 39692\n",
      "Number of unique job ids: 39692\n",
      "\n",
      "Number of summaries: 41777\n",
      "Number of unique summaries: 39300\n"
     ]
    }
   ],
   "source": [
    "print('Number of all job titles:', len(all_job_titles))\n",
    "uniq_job_titles = set(all_job_titles)\n",
    "print('Number of unique job titles:', len(uniq_job_titles))\n",
    "\n",
    "print('Number of all job ids:', len(all_job_ids))\n",
    "uniq_job_ids = set(all_job_ids)\n",
    "print('Number of unique job ids:', len(uniq_job_ids))\n",
    "\n",
    "uniq_job_ids = set(all_job_ids)\n",
    "print('Number of unique job ids:', len(uniq_job_ids))\n",
    "\n",
    "print('\\nNumber of summaries:',len(all_summaries))\n",
    "unique_summaries = set(all_summaries)\n",
    "print('Number of unique summaries:', len(unique_summaries))"
   ]
  },
  {
   "cell_type": "markdown",
   "metadata": {},
   "source": [
    "## Use BS4 to convert the 'summary' field HTML into visible text, and load the files into memory"
   ]
  },
  {
   "cell_type": "code",
   "execution_count": 7,
   "metadata": {
    "collapsed": true
   },
   "outputs": [],
   "source": [
    "def tag_visible(element):\n",
    "    if element.parent.name in ['style', 'script', 'head', 'title', 'meta', '[document]']:\n",
    "        return False\n",
    "    if isinstance(element, Comment):\n",
    "        return False\n",
    "    return True\n",
    "\n",
    "def make_text(text):\n",
    "    soup = BeautifulSoup(text, \"html5lib\")\n",
    "    texts = soup.findAll(text=True)\n",
    "    visible_texts = filter(tag_visible, texts)\n",
    "    return u\" \".join(t.strip().lower() for t in visible_texts) # Modified 27MAR18 to produce lowercase results"
   ]
  },
  {
   "cell_type": "code",
   "execution_count": 8,
   "metadata": {},
   "outputs": [
    {
     "name": "stdout",
     "output_type": "stream",
     "text": [
      "CPU times: user 4min 20s, sys: 603 ms, total: 4min 21s\n",
      "Wall time: 4min 21s\n"
     ]
    }
   ],
   "source": [
    "%%time\n",
    "texts = []\n",
    "\n",
    "for item in unique_summaries:\n",
    "    texts.append(make_text(item))"
   ]
  },
  {
   "cell_type": "markdown",
   "metadata": {},
   "source": [
    "# Note: All texts are lowercase at this point."
   ]
  },
  {
   "cell_type": "code",
   "execution_count": 143,
   "metadata": {
    "collapsed": true
   },
   "outputs": [],
   "source": [
    "# Optional preprocessing step... maybe see if this works later\n",
    "\n",
    "# remove words that appear only once\n",
    "# texts = [[word for word in document.lower().split() if word not in stop_words]\n",
    "#          for document in parsed_dataset]\n",
    "\n",
    "# from collections import defaultdict\n",
    "# frequency = defaultdict(int)\n",
    "# for text in texts:\n",
    "#     for token in text:\n",
    "#         frequency[token] += 1\n",
    "\n",
    "# texts = [[token for token in text if frequency[token] > 1] for text in texts]"
   ]
  },
  {
   "cell_type": "code",
   "execution_count": 59,
   "metadata": {
    "collapsed": true
   },
   "outputs": [],
   "source": [
    "def punct_space(token):\n",
    "    \"\"\"\n",
    "    helper function to eliminate tokens\n",
    "    that are pure punctuation or whitespace\n",
    "    \"\"\"\n",
    "    \n",
    "    return token.is_punct or token.is_space\n",
    "\n",
    "def line_review(filename):\n",
    "    \"\"\"\n",
    "    SRG: modified for a list\n",
    "    generator function to read in reviews from the file\n",
    "    and un-escape the original line breaks in the text\n",
    "    \"\"\"\n",
    "    \n",
    "    for review in filename:\n",
    "        yield review.replace('\\\\n', '\\n')\n",
    "            \n",
    "def lemmatized_sentence_corpus(filename):\n",
    "    \"\"\"\n",
    "    generator function to use spaCy to parse reviews,\n",
    "    lemmatize the text, and yield sentences\n",
    "    \"\"\"\n",
    "    \n",
    "    for parsed_review in nlp.pipe(line_review(filename),\n",
    "                                  batch_size=10000, n_threads=4):\n",
    "        \n",
    "        for sent in parsed_review.sents:\n",
    "            yield u' '.join([token.lemma_ for token in sent\n",
    "                             if not punct_space(token)])"
   ]
  },
  {
   "cell_type": "code",
   "execution_count": 61,
   "metadata": {},
   "outputs": [
    {
     "name": "stdout",
     "output_type": "stream",
     "text": [
      "CPU times: user 1h 36min 17s, sys: 1h 38min 36s, total: 3h 14min 54s\n",
      "Wall time: 2h 19min 18s\n"
     ]
    }
   ],
   "source": [
    "%%time\n",
    "\n",
    "with codecs.open('../models_data_lower/spacy_jds_concat_parsed.txt', 'w', encoding='utf_8') as f:\n",
    "    for sentence in lemmatized_sentence_corpus(texts): # Changed 28MAR18 to include tokenization function call\n",
    "        f.write(sentence + '\\n')"
   ]
  },
  {
   "cell_type": "code",
   "execution_count": 1,
   "metadata": {},
   "outputs": [
    {
     "ename": "NameError",
     "evalue": "name 'LineSentence' is not defined",
     "output_type": "error",
     "traceback": [
      "\u001b[0;31m---------------------------------------------------------------------------\u001b[0m",
      "\u001b[0;31mNameError\u001b[0m                                 Traceback (most recent call last)",
      "\u001b[0;32m<ipython-input-1-9b73ae7c2c08>\u001b[0m in \u001b[0;36m<module>\u001b[0;34m()\u001b[0m\n\u001b[0;32m----> 1\u001b[0;31m \u001b[0munigram_sentences\u001b[0m \u001b[0;34m=\u001b[0m \u001b[0mLineSentence\u001b[0m\u001b[0;34m(\u001b[0m\u001b[0;34m'../models_data_lower/spacy_jds_concat_parsed.txt'\u001b[0m\u001b[0;34m)\u001b[0m\u001b[0;34m\u001b[0m\u001b[0m\n\u001b[0m",
      "\u001b[0;31mNameError\u001b[0m: name 'LineSentence' is not defined"
     ]
    }
   ],
   "source": [
    "unigram_sentences = LineSentence('../models_data_lower/spacy_jds_concat_parsed.txt')"
   ]
  },
  {
   "cell_type": "markdown",
   "metadata": {},
   "source": [
    "# Stopped Here 18 1312 MAR 18"
   ]
  },
  {
   "cell_type": "code",
   "execution_count": 63,
   "metadata": {},
   "outputs": [
    {
     "name": "stdout",
     "output_type": "stream",
     "text": [
      "-PRON- relish the opportunity to work on build optimization that improve datum processing performance across different use case that include batch request response and real time system\n",
      "\n",
      "-PRON- responsibility the successful candidate will be base in redwood city ca and will be responsible for facilitate the collaboration and engagement between senior member of the team to ensure sound design and implementation of big functional area for the product incubate and design the next generation platform for complex heterogeneous system and application involve cut edge technology work closely with architect and development and qa engineer to discuss and evangelize feature collaborate with geographically disperse cross functional team in an agile environment participate in internal cross team meeting scoping decision make and technical documentation mentor junior engineer on technical architectural design and related issue proactively identify architectural weakness and recommend appropriate solution take architectural ownership of functional area in the product representative accountability may include but be not limited to lead and drive the delivery and architecture for significantly large functional area in the product take ownership for feature in the platform that cut across multiple product group design implement document analyze and operationaliz platform feature clearly to ensure that other may readily utilize -PRON- interact with qa and documentation team to clearly communicate the feature and behavior of the system review functional and test specification and conduct training session for global service and support team assist customer and field engineer with troubleshoot issue and problem -PRON- qualification 10 or more year of relevant professional experience a portion of which be within an enterprise software company demonstrate ability to write quality code in java knowledge of hadoop technology especially spark hive and hdfs knowledge of cloud ecosystem such as amazon aws and microsoft azure be a plus prove ability to work well with other in a fast paced iterative product definition and development environment ability to communicate and express thought and idea in a big group strong interpersonal and relationship building skill within an organization able to work independently with little direct supervision and take initiative willing to mentor and develop other strong analytical problem solve and decision making skill bs in computer science or a related technical discipline advanced degree at informatica -PRON- datum\n",
      "\n",
      "-PRON- do good act as one team think customer first and aspire for the future\n",
      "\n",
      "informatica enable company to unleash the power of datum to become more agile realize new growth opportunity lead to new invention result in intelligent market disruption\n",
      "\n",
      "a career with informatica give -PRON- all the opportunity and benefit that can only come from work for the trusted industry leader include amazing energetic team member a globally diverse workplace and a company dedicate to -PRON- success growth and advancement\n",
      "\n",
      "informatica\n",
      "\n",
      "17 day ago\n",
      "\n",
      "job description report to senior product marketing manager location lehi ut workfront have fast become the lead saa enterprise work management software vendor and -PRON- growth be through the roof\n",
      "\n",
      "-PRON- help individual and team leader do -PRON- work more efficiently manage workflow and project more effectively and truly collaborate with -PRON- team\n",
      "\n",
      "workfront be seek an associate product marketing manager who will be responsible for drive product marketing to achieve product economic and market leadership goal\n",
      "\n"
     ]
    }
   ],
   "source": [
    "# print some examples\n",
    "for unigram_sentence in it.islice(unigram_sentences, 230, 240):\n",
    "    print(u' '.join(unigram_sentence))\n",
    "    print(u'')"
   ]
  },
  {
   "cell_type": "code",
   "execution_count": 23,
   "metadata": {},
   "outputs": [
    {
     "name": "stdout",
     "output_type": "stream",
     "text": [
      "CPU times: user 36.9 s, sys: 775 ms, total: 37.7 s\n",
      "Wall time: 37.9 s\n"
     ]
    }
   ],
   "source": [
    "%%time\n",
    "\n",
    "bigram_model = Phrases(unigram_sentences)\n",
    "bigram_model.save('../models_data_lower/spacy_bigram_model_all_PARSED')"
   ]
  },
  {
   "cell_type": "code",
   "execution_count": 24,
   "metadata": {
    "collapsed": true
   },
   "outputs": [],
   "source": [
    "# load the finished model from disk\n",
    "bigram_model = Phrases.load('../models_data_lower/spacy_bigram_model_all_PARSED')"
   ]
  },
  {
   "cell_type": "code",
   "execution_count": 25,
   "metadata": {},
   "outputs": [
    {
     "name": "stderr",
     "output_type": "stream",
     "text": [
      "/usr/local/lib/python3.6/site-packages/gensim/models/phrases.py:486: UserWarning: For a faster implementation, use the gensim.models.phrases.Phraser class\n",
      "  warnings.warn(\"For a faster implementation, use the gensim.models.phrases.Phraser class\")\n"
     ]
    },
    {
     "name": "stdout",
     "output_type": "stream",
     "text": [
      "CPU times: user 1min 11s, sys: 273 ms, total: 1min 11s\n",
      "Wall time: 1min 11s\n"
     ]
    }
   ],
   "source": [
    "%%time\n",
    "\n",
    "with codecs.open('../models_data_lower/spacy_bigram_sentences_PARSED.txt', 'w', encoding='utf_8') as f:\n",
    "    for unigram_sentence in unigram_sentences:\n",
    "        bigram_sentence = u' '.join(bigram_model[unigram_sentence])\n",
    "        f.write(bigram_sentence + '\\n')"
   ]
  },
  {
   "cell_type": "code",
   "execution_count": 26,
   "metadata": {
    "collapsed": true
   },
   "outputs": [],
   "source": [
    "bigram_sentences = LineSentence('../models_data_lower/spacy_bigram_sentences_PARSED.txt')"
   ]
  },
  {
   "cell_type": "code",
   "execution_count": 27,
   "metadata": {
    "collapsed": true
   },
   "outputs": [],
   "source": [
    "# print examples; certain bigrams are underlined\n",
    "# for bigram_sentence in it.islice(bigram_sentences, 240, 250):\n",
    "#     print(u' '.join(bigram_sentence))\n",
    "#     print(u'')"
   ]
  },
  {
   "cell_type": "code",
   "execution_count": 28,
   "metadata": {},
   "outputs": [
    {
     "name": "stdout",
     "output_type": "stream",
     "text": [
      "CPU times: user 36.8 s, sys: 845 ms, total: 37.7 s\n",
      "Wall time: 38.1 s\n"
     ]
    }
   ],
   "source": [
    "%%time\n",
    "trigram_model = Phrases(bigram_sentences)\n",
    "trigram_model.save('../models_data_lower/spacy_trigram_model_all_PARSED')"
   ]
  },
  {
   "cell_type": "code",
   "execution_count": 29,
   "metadata": {
    "collapsed": true
   },
   "outputs": [],
   "source": [
    "# load the finished model from disk\n",
    "trigram_model = Phrases.load('../models_data_lower/spacy_trigram_model_all_PARSED')"
   ]
  },
  {
   "cell_type": "code",
   "execution_count": 30,
   "metadata": {},
   "outputs": [
    {
     "name": "stderr",
     "output_type": "stream",
     "text": [
      "/usr/local/lib/python3.6/site-packages/gensim/models/phrases.py:486: UserWarning: For a faster implementation, use the gensim.models.phrases.Phraser class\n",
      "  warnings.warn(\"For a faster implementation, use the gensim.models.phrases.Phraser class\")\n"
     ]
    },
    {
     "name": "stdout",
     "output_type": "stream",
     "text": [
      "CPU times: user 1min 4s, sys: 208 ms, total: 1min 5s\n",
      "Wall time: 1min 5s\n"
     ]
    }
   ],
   "source": [
    "%%time\n",
    "\n",
    "with codecs.open('../models_data_lower/spacy_trigram_sentences_PARSED.txt', 'w', encoding='utf_8') as f:\n",
    "    for bigram_sentence in bigram_sentences:\n",
    "        trigram_sentence = u' '.join(trigram_model[bigram_sentence])\n",
    "        f.write(trigram_sentence + '\\n')"
   ]
  },
  {
   "cell_type": "code",
   "execution_count": 31,
   "metadata": {
    "collapsed": true
   },
   "outputs": [],
   "source": [
    "trigram_sentences = LineSentence('../models_data_lower/spacy_trigram_sentences_PARSED.txt')"
   ]
  },
  {
   "cell_type": "code",
   "execution_count": 44,
   "metadata": {},
   "outputs": [
    {
     "name": "stdout",
     "output_type": "stream",
     "text": [
      "major duties provides technical and application development within the sales department. shares responsibility with the sales employees to understand the customer's_goals, business requirements, and network_configurations. responsible_for complex application design and development of technical overview for sales proposals. develop a strategic_partnership with the customer to address these requirements through integrated technical solutions and customer_satisfaction. interfaces with operations to develop technical systems, processes, network services, support, information, and training. responsibilities evaluates customers networking requirements for data, video, unified communication, wi-fi, data_center, cloud compute, and lan infrastructure. engineer, design, and price complex products, applications, and integrated network solutions to meet customer business requirements. lead team in developing applications with solution presentations for commercial business customers. propose and recommend design technologies for customer. responsibilities may_also include reviewing and approving complex sales orders and assisting implementation with network specifications to enhance customer experience. work jointly with the sales organization to create a territory plan based_on knowledge of market. align resources to deliver on commitments and drive results. work with engineering and other internal_departments to design secure enterprise solutions for customers. represent customer design on internal and external project meetings to establish milestones for complex projects. represent company as consultant for customer_base. work_closely_with sales departments to successfully_execute customer proof of concept activities. provide technical and application development within the sales department. understand the customer's_goals, business requirements, and network_configurations. support unit sales plan through pre-sales and/or post-sales technical consulting. proactively profiles accounts and promotes products and applications. provides technical support to clients and the account teams, by serving_as subject_matter_expert in the company’s products,_services, and applications. assists sales department in developing account strategy for selected priority or key_accounts. maintains periodic customer_relations with large accounts to ensure customer_retention and customer_satisfaction. understands industry applications and educates the client on the technical and business benefits of products and applications. designs customer lan infrastructure in support of complex company unified_communications and wi-fi products. may_involve managing vendor accounts for structured cabling. assists in the technical development of the sales department. prepares and conducts technical training for department. training may_include: product overview, technical overview, feature descriptions, future enhancements, product applications, benefits of product, competitive_analysis, pricing, tariff, promotions, maintenance procedures, installation_procedures, identification of target_market, sales_collateral, and service order process. has a contributing role in budgeting expenditures and revenue_generation. recommends cost_reduction solutions to management. stays_abreast of industry_trends by_participating in local technical organizations focusing_on telecommunications technology, self-study, and attending seminars and workshops. performs_miscellaneous duties as assigned by supervisor, including product research, special_reports and projects. travels, both_locally and long distance, to attend_meetings, seminars and training_sessions, which may encompass more_than one day, including weekends. uses air or ground transportation, depending_on distance traveled. reports for work on time and maintains a satisfactory_attendance record qualifications_bachelor’s_degree in computer_science, telecommunications & networking, or information systems or_equivalent experience 5_years’_experience in pre-sales engineering from a notable technology position 10+_years in the telecommunications_industry hands-on experience with cisco, adtran, juniper, etc. along with the appropriate certifications (e.g. ccna,_ccnp, cissp, ccse, gcfw, jncis-fwv, gcih etc.) ability to work_independently business_acumen demonstrated_leadership capabilities strong presentation_skills valid_driver's_license and satisfactory_driving_record equal_opportunity_employer all_qualified_applicants_will receive_consideration_for employment_without_regard to race,_color,_religion,_sex, gender_identity_or_expression, sexual_orientation,_national_origin, marital_status,_familial_status, genetics,_disability,_age,_veteran status or_any_other characteristic_protected by_law consolidated communications -_30+_days_ago\n",
      "\n",
      "my_client_is an exceptional, financially_strong and well-rated insurance company based in nyc. as an_industry_leader, it has established an_entrepreneurial, data-driven analytics division that is revolutionizing the underwriting process and designing enterprise-wide innovative solutions. the company is looking to add a lead data_scientist to this team. the company has over_100 years of history and consumer data, both proprietary and external. the lead data_scientist will leverage this data to solve analytical challenges ranging_from mortality_risk to consumer analytics and more. required qualifications - advanced_degree in a quantitative_discipline_such_as statistics,_computer_science, mathematics,_economics, or operations research or in one of the actuarial societies. - 3+_years of experience with statistical_modeling using large and complex_datasets in a business setting. - preference_towards experience in the insurance_industry (consumer banking, healthcare and medical research will also_be_considered) - strong_communication_skills and experience working within a matrixed_organization - strong expertise in statistical_modeling_techniques such_as linear_regression,_logistic_regression, random_forests, cluster_analysis,_principal components, - strong expertise in regularization techniques, variable_selection_techniques, feature creation, and validation - substantial programming experience sas,_r, python,_spark, hadoop. - experience with data_visualization job_type:_full-time 30+_days_ago\n",
      "\n",
      "job_description zillion health is an online health management platform that drives engagement through coaching and applications to create a better participant experience with every_interaction. zillion's proven patient_engagement platform_powers restore health's targeted clinical program focusing_on reversing metabolic syndrome. restore health's program combines high-touch health coaching with an innovative mobile app/web platform and tracking devices to help members achieve_sustainable long-term improvements in health. our approach is comprehensive, integrative, and highly personalized. we_are seeking a talented_devops_engineer (linux/cloud) to deliver our platform components in a clean and consolidated build. this_position inside the dev-ops group will_be_responsible for process workflow (monitoring and documentation) and continuous_integration with the code_repository (gitlab pipelines), configuration_management (ansible,puppet) and vendor management (cloud providers). the right_candidate_will be comfortable in a dynamic_environment and have excellent_troubleshooting and organizational_skills, as_well_as, the ability to deliver complete solutions for multiple product development pipelines. responsibilities daily system, application or database updates via ci_tools_like gitlabci, atlas, vault/consul, ansible & kubernetes linux troubleshooting & continuous_integration scripting support build process and assists in test and qa builds manage code_repository, improve practices of branching and code merge coordinate with other_team_members prior to release document the release steps and process and manage the software repository assist in system_administration and maintenance qualifications experience designing and building highly_available_distributed_systems strong knowledge of linux_servers including ubuntu, redhat, and centos knowledge of tcp/ip_networking, smtp,_http, load_balancers, high_availability architecture, zero_downtime production_deployments experience working with development teams and writing process documentation 3+_years of experience with continuous_integration build systems (e.g., gitlab_ci, hudson,_jenkins, rpm) 3+_years of experience on code management software (e.g., svn,_git, etc.) 5+_years of experience in full_stack release engineering and automation 5+_years of experience in shell_scripting and basic linux_administration ———background info on our technologythey should_be_able to quickly understand linux variants and windows shell,_powershell, python and ruby java runtime inspection zabbix, grafana, graylog, ansible,_docker, packer, kubernetes, tectonic aws and bare_metal restore health_believes in the importance of an_inclusive culture and that our differences drive innovation. restore prohibits_discrimination on the basis of race,_color, national_or_ethnic origin,_religion, age,_disability,_marital_status, gender,_gender expression, or_sexual_orientation. zillion health -_30+_days_ago\n",
      "\n",
      "defines technology system scope,_objectives, requirements, and design, and is a top-level technical expert in development skills capable of writing, modifying/maintaining, testing, and tuning applications. leads development/administration/custodianship for the csx oracle_financials application suite, including new enhancements, support, and maintenance; and supports related technology/business organizations. primary activities and responsibilities design and develop system designs to facilitate the inter-operability of enterprise_level business solutions based_on the oracle_financials enterprise business suite jdeveloper/oracle forms and reports tool_sets participate in all system development_life_cycle phases research,_analyze, and define enterprise_level business solutions of large scope and complexity provide leadership/coordination and technical direction to team_members and monitor the deliverables of the technical team code,_debug, test and support utilities, tools, applications, and frameworks to support the application development,_implementation, and support processes. develop/review functional_requirements, technical specifications, and sdlc planning for large,_complex_projects and/or enterprise_level business solutions. document hardware/software requirements, design specifications, testing plans/cases, implementation plans, and contingency_plans collaborate with technology teams, business partners, and vendors as_needed communicate accurately and appropriately, internal and external to technology serve_as technical point of contact for business partners and other technology areas; and perform project_management tasks as_needed perform miscellaneous activities and responsibilities as assigned by manager qualifications minimum_qualifications bachelor's degree/4-year degree 5 or_more years of experience in information system/technology equivalent minimum_qualifications high_school_diploma/ged 7 or_more years of experience in information systems/technology preferred_qualifications in addition to meeting the above qualifications following are preferred: 7 or_more years of experience as an oracle_financials technical role in a for an enterprise_level solution advanced application development on development tools_such_as jdeveloper, oa framework, sswa personalization’s, forms/reports and workflows application environment performance and solution tuning oracle_financials techno_functional experience in financials suite and mobile_applications interaction with oracle support and service request ownership evaluation/impact/guidance on operations initiatives such_as database, network,_server, citrix, storage re. applications portfolio, and supporting technology_stack knowledge and skills familiarity and experience in the following_languages or tools: unix and unix_scripting, putty, toad, plsql, sas, ims, db2, jcl, cics; development tools_such_as forms/reports, workflow, jdeveloper, oa framework, personalization, autosys, change man tools familiarity_with itil_processes including: asset management; change management; configuration_management; incident management; problem management; release management; service request management experience in developing,_implementing, and supporting vendor commercial applications,_preferably oracle_financials proficiency in developing cross_platform applications and solutions working competency in microsoft_office skills i.e. project, word,_excel, powerpoint,_visio, etc. ability to work and manage projects across_multiple business functional / technical areas ability to communicate_effectively (both_written and orally) with all_levels of audiences ability to architect solutions and lead development team as the software build lead competencies the csx competency framework is the foundation of our talent strategy and is what_drives csx performance. csx accordingly selects and develops talent based_on each of the following_competencies: analyze issues and make effective decisions, advance the business, engage, coach, and build a diverse_workforce, build partnerships, improve service quality and processes, execute effectively, demonstrate personal leadership, and demonstrate functional and technical agility. job_requirements work hours_may_vary in length and schedule (may_include a non-standard work week) work flexible days/hours as_dictated_by business needs safety commitment safety is a way of life at csx, encompassing every_aspect of company operations. guided_by a policy of ensuring the safety of our employees, our customers and the communities_we_serve, csx works relentlessly to prevent accidents and injuries. not_only is it the right_thing to do, but when a company puts safety_first, everyone benefits: the employees and their_families, the customers and the communities. in line with our commitment to safety, the applicant_selected for this_position may_be_required to successfully_complete a background_check and drug_test. passing results must_be received prior to start_date in new position. about csx csx, based in jacksonville,_florida, is a premier transportation company. it provides rail, intermodal and rail-to-truck transload services and solutions to customers across a broad_array of markets, including energy, industrial, construction, agricultural, and consumer_products. for nearly 190 years, csx has_played a critical_role in the nation's economic expansion and industrial development. its network connects every major_metropolitan area in the eastern_united states, where nearly two-thirds of the nation's population resides. it also links more_than 240 short-line railroads and more_than_70 ocean, river and lake ports with major population centers and farming towns alike. more_information about csx corporation and its_subsidiaries is available at www.csx.com. like us on facebook and follow_us on twitter. closing_statement at csx, two of the company's core_values are people make the difference and safety is a way of life. we_are committed to offering our team_members the most competitive_compensation and benefits_package available, unlimited_opportunities for development and growth throughout an_exciting and rewarding_career, and the safest work environment possible. csx is_an_equal opportunity_employer._all_qualified applicants_will_receive_consideration for_employment_without regard to race,_color,_religion,_sex, national_origin, or protected_veteran_status and will not_be_discriminated against on the basis of disability. click_here to view the eeo_is law poster. here click_here to view the ofccp pay_transparency provision information. here csx transportation and its_subsidiaries_are not seeking outside assistance or accepting_unsolicited resumes_from staffing_agencies or search_firms for employment or contractor opportunities. any_resumes_submitted by an outside vendor to any_employee at csx via_e-mail, internet, or directly to hiring_managers without a valid_written_search_agreement in place with the talent_acquisition / hr department will_be_deemed the sole_property of csx. no placement fee_will_be paid in the event a candidate is hired as a result of the referral, or through_other_means. csx company: csx technology primary_location_:_united states-fl-jacksonville relocation_available : yes tax status: railroad retirement overtime_status_: exempt closing_date :_mar 14,_2018, 10:59:00 pm number of openings_: 1 travel_:_yes, 5_% of the time csx -_18_days_ago\n",
      "\n",
      "amazon believes_deeply in the mission of simple and unified cloud-based collaboration. amazon_chime is changing the way millions of customers collaborate by_providing a true unified experience to conduct online_meetings, high_quality video_conferencing, chat, screen sharing and file_sharing. leveraging aws’ scale,_reliability, flexibility, and ease of use, we_offer customers an easy-to-manage and cost-effective solution that_solves many workplace collaboration and productivity pain_points. we_are_looking for a highly passionate software development manager who_likes to solve_challenging_problems of cloud_based real_time media, collaboration and can hit the ground_running while_maintaining a constant customer_focus in a fast_paced, continuous_delivery environment. you_will work with your_peers and product team to tackle_hard_problems and improve our_customers' experience every_day! being a member of amazon_chime media team, you_will spend your time as a hands-on manager to innovate/implement/enhance software that_powers the cloud_based audio service. you_will have the opportunity to work on the cutting_edge of technologies related to audio_signal_processing, real_time media and streaming protocols. you_will play a key_role in building software capabilities and features from the ground_up. you_will develop software using wide_range of programming_languages, systems, tools etc. your responsibilities will include all_aspects of software lifecycle (e.g design,_development, testing and deployment/operation). you_will always be_encouraged to explore your_own_ideas and get the opportunity to delight_millions of amazon customers with your direct contribution. this hands-on_position_requires broad engineering competence and experience with delivering at_scale. in_addition, it will_require demonstrated experience successfully planning,_organizing and conducting software development projects in a dynamic_environment. basic_qualifications_bachelors in computer_science & 5+_years of experience 3+_years of management experience demonstrated experience delivering applications or services ability to work in a fast_paced,_highly_collaborative, dynamic work environment strong_attention to detail ability to think_creatively and solve_problems preferred_qualifications experience with uc system, voip protocols, pstn and communication protocol software development experience with software development for signal_processing experience with low_latency protocols experience with building and operating large_scale cloud services and backend systems experience in a devops environment with full_ownership of code changes from development to production and monitoring familiarity_with ec2 and aws services amazon.com_-_30+_days ago\n",
      "\n",
      "texas steel conversion, inc._is an octg pipe processor well_known for high_quality custom forging, heat treating, machining, inspection and inertia welding. tsc operates a total of four processing facilities, three in houston and one in bryan, texas. as a privately_owned company in business since 1976, we_offer employment stability, great benefits and long-term career_opportunities. tsc is_currently_recruiting for a software_developer. this_position is responsible_for enhancing, maintaining & troubleshooting existing applications as_well_as working with cross-functional_teams to define the requirements and objectives for new applications. additional_duties include the design, development and testing (unit and integration) and implement new applications. the successful_candidate_will be well_versed in sql,_java, netbeans, c#,_visual_studio, vbscript, hmi/scada and ladder logic. this_position will work_closely_with engineering and will work directly with equipment found on our production lines. mechanical_aptitude a must! requirements: 3-5_years’_experience as a software developer; strong communication and interpersonal_skills are a must! attention to detail and strong_organizational_skills are required; experience with indusoft, mysql, cx programmer and seimens and allen_bradley plc’s desired; experience supporting users including terminals, pc’s, networking (wired and wireless), ip phones, and cell phones; bi-lingual (spanish) a plus. the corporate_office is located at 610 and 288, near nrg stadium. relocation_assistance to the houston area is_not_available. e-mail resume_to: recruiter@texassteelconversion.com provided_by_dice software_developer, sql,_java, netbeans, c#,_visual_studio, vbscript, hmi/scada and ladder_logic, mysql, cx programmer and seimens and allen_bradley plcs, terminals, pcs, networking (wired and wirel dice_-_17_days ago\n",
      "\n",
      "netspend is_seeking an apache_cassandra dba to oversee the database_administration_functions of apache_cassandra. this_position is responsible_for database planning, design implementation, as_well_as the maintenance and optimization of apache_cassandra. the apache_cassandra dba will_be part of the dba team, netspend it operations. the dba team manages and supports all database_administration_functions for oracle,_sql_server and apache_cassandra. responsibilities: install/configure/maintain/tune and administer of apache_cassandra of datastax enterprise versions. setting_up multi-datacenters for cassandra. implement disaster_recovery for cassandra. patch/upgrade cassandra. implement, maintain and tune apache_spark. implement backup strategies for apache_cassandra. participate in dba team on-call pager rotation and on-call_support duties. implement monitoring solutions. work with development teams on cassandra data_modeling. experience/qualifications: 2_years of cassandra dba experience. 1_year of oracle_dba experience preferred. proficient with all cassandra utilities (nodetool, cqlsh etc) experience in disaster_recovery_planning and implementation. must_be_able to patch/upgrade apache_cassandra. experience in performance_tuning apache_cassandra. experience in planning and implementing (scripting) backup strategies for cassandra. experience with apache_spark in production_environments required. strong knowledge in unix/linux_environments. expert in scripting_languages_like bash and perl. experience with administrating oracle_databases is strongly_preferred. experience in cassandra data_modeling. good_interpersonal_skills along with effective_communication (both_written and verbal)_skills. a good_team_player, flexible, share knowledge and help others. bachelor’s_degree in computer_science_or other technology field_or_equivalent experience. as provided in netspend’s background_check policy, eligible_candidates may_be_subject to drug, criminal_history, and credit_checks, which will_be conducted and used in_accordance with applicable_local,_state and federal_laws. not_ready to apply?_join_our talent_community!!_us_applicants: tsys is_an_equal opportunity_employer_(eoe)_committed to employing a diverse_workforce and sustaining_an_inclusive culture._tsys -_30+_days_ago\n",
      "\n",
      "the company_vantiv_is making_payments_smarter,_faster and easier for all our partners, as_well_as the consumers_they_serve. from the largest_retailers in the u.s. to the coffee_shop_down the street, we_are leading the transformation in payments_through_chip-enabled cards,_mobile_wallets, ecommerce, and payment solutions for businesses of all_sizes. we_are the fastest_growing_payments company in the u.s.,_first in pin_debit_transactions and the second_largest_merchant_acquirer. visit_vantiv.com for more. the opportunity do you enjoy_working with a top-notch team and being_part of a growing,_profitable company?_if so,_then vantiv is the place for you. vantiv provides a leading in-house payment management platform (saas - software as a service) that serves high-volume merchants such_as netflix, overstock.com, godaddy, and many_more. at_vantiv, we know that our platform is only as good as the people behind_it. we_are_looking for talented_engineers who are_eager to learn_about our technology and,_more_importantly, about the details that make our business tick. we consistently develop and deliver new_features_onto our live platform. this platform_handles_millions of merchant_transactions_around the clock._these_features along with our ability to consistently_deliver them make us stand_out in the highly_competitive payments business. our engineering team is critical to our mission - we_are fundamentally a technology company. we succeed by_offering innovative features to our merchants while_retaining the reliability,_quality, and fault_tolerance_they_require. we_are seeking well-versed qa_engineers and do_not hire based_on_buzz_word technologies. our engineering team utilizes agile development methodologies and employs a collaborative_approach to our work. qa_engineers are not part of a separate organization; rather, our engineering teams are comprised of both software and qa engineers, who_share a single goal -- to deliver business value to our merchants. a comprehensive_benefits_package and competitive_compensation are just a couple of the perks_offered to vantiv's_employees._submit_your application and explore all that vantiv_has to offer! rewarding_impact._fulfilling_careers. making an impact_isn't_something reserved for people in corner_offices._at_vantiv, it_comes from people in every_corner of the office. people with ambition,_optimism and courage._we_provide growth and opportunity and give employees flexibility in how_they get the job_done. you_might not expect that from a big_payments_company, but we're_smart_enough to know_how to hire the best and when to step_aside and let_them_lead. our goal is that you never_stop_learning and you_never_cease to amaze---especially yourself._if this fits_your_career goal,_we can't_wait to welcome you on board. responsibilities: design and test software for functionality,_scalability, and reliability maintain the level of reliability required from a high-volume,_high-availability_platform work on a core project team alongside software engineers to ensure that quality is built in from the start collaborate with other litle teams_(product,_platform,_merchant services and support) to distill business requirements into technical solutions utilize iterative agile software_development_lifecycle contribute to feature requirements using user_stories and test_cases craft and execute automated_regression_tests for saas_platform and ui based features support deployment of new_features into production with zero platform downtime and no impact to end customers that are currently processing build domain_expertise in e-commerce_payments and apply your engineering expertise to develop new product features requirements: \"team_focus\" with strong collaboration and communication_skills ability to quickly_grasp high_level business goals,_derive requirements, and create effective testing strategies experience with basic sql and xml required experience with automated_testing methodologies for saas platforms and data driven systems required experience with automated ui regression_testing tools, selenium experience is a plus ability to fluidly_change_context and priorities based_on changing business needs you're self-motivated with a can-do_attitude; others would describe you as dedicated,_energetic,_curious,_conscientious, humble, and flexible agile development experience a plus; a willingness to try is a requirement linux/unix/scripting (e.g. perl,_python) experience a strong plus eclipse experience a plus qualifications_typically_requires a minimum of 5_years of related experience with a bachelor's_degree; or 3_years and a master's_degree; or a phd_without experience;_or_equivalent work experience. all the above duties and responsibilities are essential_job_functions for which reasonable_accommodation will_be made. all job requirements_listed_indicate the minimum level of knowledge,_skills and/or ability deemed_necessary to perform the job_proficiently._this_position description is not to be_construed_as an_exhaustive_statement of duties,_responsibilities or requirements. employees may_be_required to perform any_other_job-related_instructions as_requested_by their leader,_subject to reasonable_accommodation._equal_opportunity employer_minorities/women/protected_veterans/disabled_vantiv -_30_days_ago\n",
      "\n",
      "are you a great collaborator? do you have the integrity to stand by agile principles whilst delivering sustainable solutions? we're_looking_for an_agile developer like that who_can: collaborate to refine stakeholder requirements though test_driven_development join a successful feature team built_on mutual_respect meet the high_expectations of clients through frequent release_cycles of quality software you'll_be working as_part of the risk it team, based in weehawken. our scrum_teams in weehawken are part of a larger global team in multiple countries. we_are responsible_for implementing strategic risk initiatives for the firm. you have: 5_years'_experience with java programing, databases, and unix been working within agile development teams (scrum,_xp, kanban,_etc.) and performed more_than one role – expertise in generic computing science including algorithms,_data_structures and design_patterns – clean coding and refactoring skills with excellent_problem_solving ability you_are: passionate_about_technology, with hobbies and interests outside of work able to improve older code_bases, as_well_as apply modern best_practices to new projects effective within the complexity, constraints, and boundaries of a leading_global organisation, operating in a highly_regulated industry, running on bespoke software. expert_advice._wealth_management. investment_banking._asset_management. retail_banking in switzerland. and all the support_functions._that's what_we_do. and we do it for private and institutional_clients_as_well as_corporations_around the world. we_are about_60,000_employees in all major_financial_centers, in almost_900_offices and more_than_50_countries. do you want to be one of us?_together._that’s how we_do_things. we_offer_people_around the world a supportive,_challenging and diverse working environment. we value your passion and commitment, and reward_your performance._why_ubs? video are you_truly_collaborative? succeeding_at_ubs means_respecting,_understanding and trusting_colleagues and clients._challenging others and being_challenged in return._being_passionate_about what you_do._driving yourself_forward,_always_wanting to do_things the right_way._does that sound_like_you?_then you have the right_stuff to join_us._apply_now. ubs_is an_equal_opportunity_employer. we respect and seek to empower_each individual and support the diverse_cultures,_perspectives, skills and experiences within our_workforce._ubs -_22_days_ago\n",
      "\n",
      "must_have prior experience in j2ee,_java, struts,_spring, hibernate,_mysql, ajax,_jquery, jsp, and servlet. must_have experience in building browser_based applications. must_be_able to demonstrate experience with live urls they have_worked on. must_be a good_team_player & flexible have excellent_analytical,_problem_solving, and interpersonal_communication_skills. experience- 1_years to 7_years. if_interested, send_resume to jobs@netsutra.com netsutra -_16_hours_ago\n",
      "\n"
     ]
    }
   ],
   "source": [
    "for trigram_sentence in it.islice(trigram_sentences, 240, 250):\n",
    "    print(u' '.join(trigram_sentence))\n",
    "    print(u'')"
   ]
  },
  {
   "cell_type": "markdown",
   "metadata": {},
   "source": [
    "#### Final preprocessing"
   ]
  },
  {
   "cell_type": "code",
   "execution_count": 47,
   "metadata": {},
   "outputs": [
    {
     "name": "stderr",
     "output_type": "stream",
     "text": [
      "/usr/local/lib/python3.6/site-packages/gensim/models/phrases.py:486: UserWarning: For a faster implementation, use the gensim.models.phrases.Phraser class\n",
      "  warnings.warn(\"For a faster implementation, use the gensim.models.phrases.Phraser class\")\n"
     ]
    },
    {
     "name": "stdout",
     "output_type": "stream",
     "text": [
      "CPU times: user 1h 37min 57s, sys: 1h 40min 34s, total: 3h 18min 31s\n",
      "Wall time: 2h 15min 14s\n"
     ]
    }
   ],
   "source": [
    "%%time\n",
    "\n",
    "with codecs.open('../models_data_lower/spacy_trigram_transformed_jds_all_PARSED.txt', 'w', encoding='utf_8') as f:\n",
    "    for parsed_review in nlp.pipe(line_review(texts),\n",
    "                                  batch_size=10000, n_threads=4):\n",
    "        # lemmatize the text, removing punctuation and whitespace\n",
    "        unigram_review = [token.lemma_ for token in parsed_review\n",
    "                          if not punct_space(token)]\n",
    "\n",
    "        # apply the first-order and second-order phrase models\n",
    "        bigram_review = bigram_model[unigram_review]\n",
    "        trigram_review = trigram_model[bigram_review]\n",
    "\n",
    "        # remove any remaining stopwords\n",
    "        trigram_review = [term for term in trigram_review\n",
    "                          if term not in stopwords]\n",
    "\n",
    "        # write the transformed review as a line in the new file\n",
    "        trigram_review = u' '.join(trigram_review)\n",
    "        f.write(trigram_review + '\\n')"
   ]
  },
  {
   "cell_type": "code",
   "execution_count": 48,
   "metadata": {
    "collapsed": true
   },
   "outputs": [],
   "source": [
    "from gensim.corpora import Dictionary, MmCorpus\n",
    "from gensim.models.ldamulticore import LdaMulticore\n",
    "from gensim.models import LsiModel\n",
    "\n",
    "import pyLDAvis\n",
    "import pyLDAvis.gensim\n",
    "import warnings\n",
    "import pickle"
   ]
  },
  {
   "cell_type": "code",
   "execution_count": 49,
   "metadata": {},
   "outputs": [
    {
     "name": "stdout",
     "output_type": "stream",
     "text": [
      "CPU times: user 14.8 s, sys: 156 ms, total: 15 s\n",
      "Wall time: 15.1 s\n"
     ]
    }
   ],
   "source": [
    "%%time\n",
    "\n",
    "trigram_reviews = LineSentence('../models_data_lower/spacy_trigram_sentences_PARSED.txt')\n",
    "\n",
    "# learn the dictionary by iterating over all of the reviews\n",
    "trigram_dictionary = Dictionary(trigram_reviews)\n",
    "\n",
    "# filter tokens that are very rare or too common from\n",
    "# the dictionary (filter_extremes) and reassign integer ids (compactify)\n",
    "trigram_dictionary.filter_extremes(no_below=10, no_above=0.4)\n",
    "trigram_dictionary.compactify()\n",
    "\n",
    "trigram_dictionary.save('../models_data_lower/spacy_trigram_dict_all.dict')\n",
    "    \n",
    "# load the finished dictionary from disk\n",
    "trigram_dictionary = Dictionary.load('../models_data_lower/spacy_trigram_dict_all.dict')"
   ]
  },
  {
   "cell_type": "code",
   "execution_count": 54,
   "metadata": {
    "collapsed": true
   },
   "outputs": [],
   "source": [
    "def trigram_bow_generator(filepath):\n",
    "    \"\"\"\n",
    "    generator function to read reviews from a file\n",
    "    and yield a bag-of-words representation\n",
    "    \"\"\"    \n",
    "    for review in LineSentence(filepath):\n",
    "        yield trigram_dictionary.doc2bow(review)"
   ]
  },
  {
   "cell_type": "code",
   "execution_count": 53,
   "metadata": {},
   "outputs": [
    {
     "name": "stdout",
     "output_type": "stream",
     "text": [
      "CPU times: user 21.6 s, sys: 188 ms, total: 21.8 s\n",
      "Wall time: 21.9 s\n"
     ]
    }
   ],
   "source": [
    "%%time\n",
    "\n",
    "# generate bag-of-words representations for all JDs and save them as a matrix\n",
    "MmCorpus.serialize('../models_data_lower/spacy_trigram_bow_corpus_all.mm',\n",
    "                   trigram_bow_generator('../models_data_lower/spacy_trigram_sentences_PARSED.txt'))"
   ]
  }
 ],
 "metadata": {
  "kernelspec": {
   "display_name": "Python 3",
   "language": "python",
   "name": "python3"
  },
  "language_info": {
   "codemirror_mode": {
    "name": "ipython",
    "version": 3
   },
   "file_extension": ".py",
   "mimetype": "text/x-python",
   "name": "python",
   "nbconvert_exporter": "python",
   "pygments_lexer": "ipython3",
   "version": "3.6.3"
  }
 },
 "nbformat": 4,
 "nbformat_minor": 2
}
