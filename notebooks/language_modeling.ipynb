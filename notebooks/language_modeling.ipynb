{
 "cells": [
  {
   "cell_type": "markdown",
   "metadata": {},
   "source": [
    "# Train Models"
   ]
  },
  {
   "cell_type": "code",
   "execution_count": 1,
   "metadata": {},
   "outputs": [],
   "source": [
    "import warnings\n",
    "import pickle\n",
    "import gensim\n",
    "\n",
    "from gensim.corpora import Dictionary, MmCorpus\n",
    "from gensim.models.ldamulticore import LdaMulticore\n",
    "from gensim.models import LsiModel\n",
    "\n",
    "from gensim.models.ldamulticore import LdaMulticore\n",
    "from gensim.models.ldamodel import LdaModel\n",
    "\n",
    "from sklearn.manifold import TSNE\n",
    "import pandas as pd\n",
    "\n",
    "from gensim.models import Word2Vec\n",
    "from gensim.models import Phrases\n",
    "from gensim.models.word2vec import LineSentence\n",
    "\n",
    "import spacy\n",
    "nlp = spacy.load('en')\n",
    "from spacy.lang.en.stop_words import STOP_WORDS"
   ]
  },
  {
   "cell_type": "code",
   "execution_count": 39,
   "metadata": {},
   "outputs": [
    {
     "name": "stderr",
     "output_type": "stream",
     "text": [
      "/usr/local/lib/python3.6/site-packages/gensim/utils.py:598: DeprecationWarning: Call to deprecated `cum_table` (Attribute will be removed in 4.0.0, use self.vocabulary.cum_table instead).\n",
      "  if hasattr(self, attrib):\n",
      "/usr/local/lib/python3.6/site-packages/gensim/utils.py:599: DeprecationWarning: Call to deprecated `cum_table` (Attribute will be removed in 4.0.0, use self.vocabulary.cum_table instead).\n",
      "  asides[attrib] = getattr(self, attrib)\n",
      "/usr/local/lib/python3.6/site-packages/gensim/utils.py:600: DeprecationWarning: Call to deprecated `cum_table` (Attribute will be removed in 4.0.0, use self.vocabulary.cum_table instead).\n",
      "  delattr(self, attrib)\n",
      "/usr/local/lib/python3.6/site-packages/gensim/utils.py:555: DeprecationWarning: Call to deprecated `cum_table` (Attribute will be removed in 4.0.0, use self.vocabulary.cum_table instead).\n",
      "  setattr(obj, attrib, val)\n",
      "/usr/local/lib/python3.6/site-packages/ipykernel_launcher.py:11: DeprecationWarning: Call to deprecated `iter` (Attribute will be removed in 4.0.0, use self.epochs instead).\n",
      "  # This is added back by InteractiveShellApp.init_path()\n"
     ]
    },
    {
     "name": "stdout",
     "output_type": "stream",
     "text": [
      "Done generating model.\n"
     ]
    },
    {
     "name": "stderr",
     "output_type": "stream",
     "text": [
      "/usr/local/lib/python3.6/site-packages/gensim/utils.py:598: DeprecationWarning: Call to deprecated `cum_table` (Attribute will be removed in 4.0.0, use self.vocabulary.cum_table instead).\n",
      "  if hasattr(self, attrib):\n",
      "/usr/local/lib/python3.6/site-packages/gensim/utils.py:599: DeprecationWarning: Call to deprecated `cum_table` (Attribute will be removed in 4.0.0, use self.vocabulary.cum_table instead).\n",
      "  asides[attrib] = getattr(self, attrib)\n",
      "/usr/local/lib/python3.6/site-packages/gensim/utils.py:600: DeprecationWarning: Call to deprecated `cum_table` (Attribute will be removed in 4.0.0, use self.vocabulary.cum_table instead).\n",
      "  delattr(self, attrib)\n"
     ]
    },
    {
     "name": "stdout",
     "output_type": "stream",
     "text": [
      "CPU times: user 1h 47min 30s, sys: 54 s, total: 1h 48min 24s\n",
      "Wall time: 52min 1s\n"
     ]
    },
    {
     "name": "stderr",
     "output_type": "stream",
     "text": [
      "/usr/local/lib/python3.6/site-packages/gensim/utils.py:555: DeprecationWarning: Call to deprecated `cum_table` (Attribute will be removed in 4.0.0, use self.vocabulary.cum_table instead).\n",
      "  setattr(obj, attrib, val)\n"
     ]
    }
   ],
   "source": [
    "%%time\n",
    "\n",
    "# initiate the model and perform the first epoch of training\n",
    "skill2vec = Word2Vec(unigram_sentences, size=50, window=5,\n",
    "                    min_count=20, sg=0, hs=1, negative=0, workers=8, iter=15, compute_loss = True)\n",
    "\n",
    "\n",
    "skill2vec.save(word2vec_filepath)\n",
    "print(\"Done generating model.\")\n",
    "\n",
    "# perform 10 epochs of training\n",
    "skill2vec.train(unigram_sentences,total_examples=skill2vec.corpus_count, epochs=skill2vec.iter)\n",
    "skill2vec.save(word2vec_filepath)\n",
    "\n",
    "# Start 2:45"
   ]
  },
  {
   "cell_type": "code",
   "execution_count": null,
   "metadata": {},
   "outputs": [],
   "source": [
    "unigram_sentences = LineSentence('../data/all_jobs_bigrams.txt')\n",
    "word2vec_filepath = '../models/word2vec_hs1_neg0_window_15_size300'"
   ]
  },
  {
   "cell_type": "code",
   "execution_count": 7,
   "metadata": {},
   "outputs": [
    {
     "data": {
      "text/plain": [
       "True"
      ]
     },
     "execution_count": 7,
     "metadata": {},
     "output_type": "execute_result"
    }
   ],
   "source": [
    "# Training loss\n",
    "0.0 == skill2vec.get_latest_training_loss()"
   ]
  },
  {
   "cell_type": "code",
   "execution_count": 3,
   "metadata": {},
   "outputs": [
    {
     "name": "stdout",
     "output_type": "stream",
     "text": [
      "Model loaded with 2 training epochs.\n"
     ]
    },
    {
     "name": "stderr",
     "output_type": "stream",
     "text": [
      "/usr/local/lib/python3.6/site-packages/gensim/utils.py:491: DeprecationWarning: Call to deprecated `cum_table` (Attribute will be removed in 4.0.0, use self.vocabulary.cum_table instead).\n",
      "  setattr(self, attrib, None)\n"
     ]
    }
   ],
   "source": [
    "# load a finished model from disk\n",
    "skill2vec = Word2Vec.load(word2vec_filepath)\n",
    "skill2vec.init_sims()\n",
    "print(u'Model loaded with {} training epochs.'.format(skill2vec.train_count))"
   ]
  },
  {
   "cell_type": "code",
   "execution_count": 4,
   "metadata": {},
   "outputs": [
    {
     "name": "stdout",
     "output_type": "stream",
     "text": [
      "55,001 terms in the skill2vec vocabulary.\n"
     ]
    }
   ],
   "source": [
    "print(u'{:,} terms in the skill2vec vocabulary.'.format(len(skill2vec.wv.vocab)))"
   ]
  },
  {
   "cell_type": "code",
   "execution_count": 5,
   "metadata": {},
   "outputs": [],
   "source": [
    "def get_related_terms(token, topn=20):\n",
    "    \"\"\"\n",
    "    look up the topn most similar terms to token\n",
    "    and print them as a formatted list\n",
    "    \"\"\"\n",
    "\n",
    "    for word, similarity in skill2vec.wv.most_similar(positive=[token], topn=topn):\n",
    "\n",
    "        print(u'{:30} {}'.format(word, round(similarity, 3)))"
   ]
  },
  {
   "cell_type": "code",
   "execution_count": 7,
   "metadata": {},
   "outputs": [
    {
     "name": "stdout",
     "output_type": "stream",
     "text": [
      "postgre                        0.85\n",
      "mysql                          0.742\n",
      "mssql                          0.687\n",
      "mariadb                        0.686\n",
      "mongodb                        0.681\n",
      "postgr                         0.68\n",
      "sqlite                         0.66\n",
      "pgsql                          0.653\n",
      "mongo                          0.642\n",
      "oracle                         0.635\n",
      "database                       0.63\n",
      "psql                           0.62\n",
      "rdbms                          0.619\n",
      "sqlite3                        0.581\n",
      "dbms                           0.576\n",
      "mysql_server                   0.574\n",
      "sqlserver                      0.574\n",
      "postgress                      0.569\n",
      "pgadmin                        0.563\n",
      "db2                            0.558\n"
     ]
    }
   ],
   "source": [
    "get_related_terms(u'postgresql')"
   ]
  },
  {
   "cell_type": "code",
   "execution_count": 8,
   "metadata": {},
   "outputs": [
    {
     "name": "stdout",
     "output_type": "stream",
     "text": [
      "neural_network                 0.827\n",
      "neural_networks                0.805\n",
      "decision_tree                  0.8\n",
      "support_vector                 0.78\n",
      "bayesian                       0.763\n",
      "survival_analysis              0.762\n",
      "svms                           0.76\n",
      "svm                            0.756\n",
      "boosting                       0.717\n",
      "baye                           0.717\n",
      "ensemble                       0.708\n",
      "ensembl                        0.706\n",
      "bagging                        0.704\n",
      "association_rule               0.699\n",
      "cluster_analysis               0.694\n",
      "clustering                     0.693\n",
      "naive_baye                     0.692\n",
      "chaid                          0.691\n",
      "knn                            0.69\n",
      "markov                         0.689\n"
     ]
    }
   ],
   "source": [
    "get_related_terms(u'neural_net') "
   ]
  },
  {
   "cell_type": "code",
   "execution_count": 11,
   "metadata": {},
   "outputs": [
    {
     "name": "stdout",
     "output_type": "stream",
     "text": [
      "cspo                           0.689\n",
      "certified_scrum                0.671\n",
      "acp                            0.646\n",
      "pmp                            0.623\n",
      "prince2                        0.618\n",
      "pgmp                           0.603\n",
      "pmi                            0.601\n",
      "capm                           0.586\n",
      "cbap                           0.56\n",
      "csm                            0.524\n",
      "certification                  0.518\n",
      "certification(s                0.477\n",
      "mcsd                           0.47\n",
      "pmbok                          0.465\n",
      "certify                        0.465\n",
      "dawia                          0.45\n",
      "itil                           0.44\n",
      "greenhopper                    0.435\n",
      "confluence                     0.43\n",
      "csslp                          0.423\n"
     ]
    }
   ],
   "source": [
    "get_related_terms(u'certified_scrummaster')"
   ]
  },
  {
   "cell_type": "code",
   "execution_count": 12,
   "metadata": {},
   "outputs": [],
   "source": [
    "def word_algebra(add=[], subtract=[], topn=1):\n",
    "    \"\"\"\n",
    "    combine the vectors associated with the words provided\n",
    "    in add= and subtract=, look up the topn most similar\n",
    "    terms to the combined vector, and print the result(s)\n",
    "    \"\"\"\n",
    "    answers = skill2vec.wv.most_similar(positive=add, negative=subtract, topn=topn)\n",
    "    \n",
    "    for term, similarity in answers:\n",
    "        print(term)"
   ]
  },
  {
   "cell_type": "code",
   "execution_count": 16,
   "metadata": {},
   "outputs": [
    {
     "name": "stdout",
     "output_type": "stream",
     "text": [
      "rdbms\n"
     ]
    }
   ],
   "source": [
    "word_algebra(add=[u'nosql', u'postgresql'], subtract=[u'mongodb'])"
   ]
  },
  {
   "cell_type": "code",
   "execution_count": 17,
   "metadata": {},
   "outputs": [
    {
     "name": "stdout",
     "output_type": "stream",
     "text": [
      "postgresql\n"
     ]
    }
   ],
   "source": [
    "word_algebra(add=[u'python', u'sql'])"
   ]
  },
  {
   "cell_type": "code",
   "execution_count": 18,
   "metadata": {},
   "outputs": [
    {
     "name": "stdout",
     "output_type": "stream",
     "text": [
      "object_oriented\n"
     ]
    }
   ],
   "source": [
    "word_algebra(add=[u'oop', u'javascript'], \n",
    "             subtract=[u'php'])"
   ]
  },
  {
   "cell_type": "code",
   "execution_count": 22,
   "metadata": {},
   "outputs": [
    {
     "name": "stdout",
     "output_type": "stream",
     "text": [
      "production\n"
     ]
    }
   ],
   "source": [
    "word_algebra(add=[u'product', u'development'])"
   ]
  },
  {
   "cell_type": "code",
   "execution_count": 26,
   "metadata": {},
   "outputs": [
    {
     "name": "stdout",
     "output_type": "stream",
     "text": [
      "checkout\n"
     ]
    }
   ],
   "source": [
    "word_algebra(add=[u'sql', u'git'])"
   ]
  },
  {
   "cell_type": "markdown",
   "metadata": {},
   "source": [
    "# Visualize"
   ]
  },
  {
   "cell_type": "code",
   "execution_count": 27,
   "metadata": {},
   "outputs": [
    {
     "name": "stderr",
     "output_type": "stream",
     "text": [
      "/usr/local/lib/python3.6/site-packages/ipykernel_launcher.py:14: DeprecationWarning: Call to deprecated `syn0norm` (Attribute will be removed in 4.0.0, use self.wv.vectors_norm instead).\n",
      "  \n"
     ]
    }
   ],
   "source": [
    "# build a list of the terms, integer indices,\n",
    "# and term counts from the food2vec model vocabulary\n",
    "ordered_vocab = [(term, voc.index, voc.count)\n",
    "                 for term, voc in skill2vec.wv.vocab.items()]\n",
    "\n",
    "# sort by the term counts, so the most common terms appear first\n",
    "ordered_vocab = sorted(ordered_vocab, key=lambda item: -item[2])\n",
    "\n",
    "# unzip the terms, integer indices, and counts into separate lists\n",
    "ordered_terms, term_indices, term_counts = zip(*ordered_vocab)\n",
    "\n",
    "# create a DataFrame with the skill2vec vectors as data,\n",
    "# and the terms as row labels\n",
    "word_vectors = pd.DataFrame(skill2vec.wv.syn0norm[term_indices, :],\n",
    "                            index=ordered_terms)"
   ]
  },
  {
   "cell_type": "code",
   "execution_count": 28,
   "metadata": {},
   "outputs": [],
   "source": [
    "tsne_input = word_vectors.drop(STOP_WORDS, errors=u'ignore')\n",
    "tsne_input = tsne_input.head(5000)"
   ]
  },
  {
   "cell_type": "code",
   "execution_count": 29,
   "metadata": {},
   "outputs": [
    {
     "data": {
      "text/html": [
       "<div>\n",
       "<style scoped>\n",
       "    .dataframe tbody tr th:only-of-type {\n",
       "        vertical-align: middle;\n",
       "    }\n",
       "\n",
       "    .dataframe tbody tr th {\n",
       "        vertical-align: top;\n",
       "    }\n",
       "\n",
       "    .dataframe thead th {\n",
       "        text-align: right;\n",
       "    }\n",
       "</style>\n",
       "<table border=\"1\" class=\"dataframe\">\n",
       "  <thead>\n",
       "    <tr style=\"text-align: right;\">\n",
       "      <th></th>\n",
       "      <th>0</th>\n",
       "      <th>1</th>\n",
       "      <th>2</th>\n",
       "      <th>3</th>\n",
       "      <th>4</th>\n",
       "      <th>5</th>\n",
       "      <th>6</th>\n",
       "      <th>7</th>\n",
       "      <th>8</th>\n",
       "      <th>9</th>\n",
       "      <th>...</th>\n",
       "      <th>290</th>\n",
       "      <th>291</th>\n",
       "      <th>292</th>\n",
       "      <th>293</th>\n",
       "      <th>294</th>\n",
       "      <th>295</th>\n",
       "      <th>296</th>\n",
       "      <th>297</th>\n",
       "      <th>298</th>\n",
       "      <th>299</th>\n",
       "    </tr>\n",
       "  </thead>\n",
       "  <tbody>\n",
       "    <tr>\n",
       "      <th>-PRON-</th>\n",
       "      <td>0.096944</td>\n",
       "      <td>0.087000</td>\n",
       "      <td>0.003583</td>\n",
       "      <td>-0.001504</td>\n",
       "      <td>0.111694</td>\n",
       "      <td>-0.096787</td>\n",
       "      <td>-0.011931</td>\n",
       "      <td>0.088636</td>\n",
       "      <td>0.051716</td>\n",
       "      <td>-0.038965</td>\n",
       "      <td>...</td>\n",
       "      <td>-0.053500</td>\n",
       "      <td>-0.007269</td>\n",
       "      <td>0.047801</td>\n",
       "      <td>0.031715</td>\n",
       "      <td>0.053776</td>\n",
       "      <td>0.070925</td>\n",
       "      <td>0.107324</td>\n",
       "      <td>0.016900</td>\n",
       "      <td>-0.019526</td>\n",
       "      <td>0.039425</td>\n",
       "    </tr>\n",
       "    <tr>\n",
       "      <th>gt</th>\n",
       "      <td>0.037769</td>\n",
       "      <td>0.018485</td>\n",
       "      <td>-0.005161</td>\n",
       "      <td>-0.009153</td>\n",
       "      <td>-0.049085</td>\n",
       "      <td>-0.093955</td>\n",
       "      <td>0.039386</td>\n",
       "      <td>0.001749</td>\n",
       "      <td>0.014394</td>\n",
       "      <td>-0.039650</td>\n",
       "      <td>...</td>\n",
       "      <td>-0.021234</td>\n",
       "      <td>0.003288</td>\n",
       "      <td>0.140201</td>\n",
       "      <td>-0.060737</td>\n",
       "      <td>0.015184</td>\n",
       "      <td>0.029666</td>\n",
       "      <td>-0.032321</td>\n",
       "      <td>0.026446</td>\n",
       "      <td>-0.009485</td>\n",
       "      <td>0.099500</td>\n",
       "    </tr>\n",
       "    <tr>\n",
       "      <th>lt</th>\n",
       "      <td>0.042331</td>\n",
       "      <td>0.023457</td>\n",
       "      <td>-0.036514</td>\n",
       "      <td>-0.013101</td>\n",
       "      <td>-0.047667</td>\n",
       "      <td>-0.065932</td>\n",
       "      <td>0.078685</td>\n",
       "      <td>0.022556</td>\n",
       "      <td>0.013112</td>\n",
       "      <td>-0.027004</td>\n",
       "      <td>...</td>\n",
       "      <td>0.011652</td>\n",
       "      <td>-0.023489</td>\n",
       "      <td>0.129856</td>\n",
       "      <td>-0.032377</td>\n",
       "      <td>0.008627</td>\n",
       "      <td>0.027702</td>\n",
       "      <td>-0.047348</td>\n",
       "      <td>0.031673</td>\n",
       "      <td>-0.016822</td>\n",
       "      <td>0.107282</td>\n",
       "    </tr>\n",
       "    <tr>\n",
       "      <th>use</th>\n",
       "      <td>0.033183</td>\n",
       "      <td>-0.015958</td>\n",
       "      <td>0.024219</td>\n",
       "      <td>-0.001740</td>\n",
       "      <td>0.088988</td>\n",
       "      <td>-0.050933</td>\n",
       "      <td>0.019642</td>\n",
       "      <td>0.079626</td>\n",
       "      <td>0.042988</td>\n",
       "      <td>0.018514</td>\n",
       "      <td>...</td>\n",
       "      <td>-0.084227</td>\n",
       "      <td>-0.006201</td>\n",
       "      <td>0.048437</td>\n",
       "      <td>0.056621</td>\n",
       "      <td>0.101004</td>\n",
       "      <td>0.049623</td>\n",
       "      <td>0.111949</td>\n",
       "      <td>0.062625</td>\n",
       "      <td>0.061967</td>\n",
       "      <td>0.067629</td>\n",
       "    </tr>\n",
       "    <tr>\n",
       "      <th>work</th>\n",
       "      <td>0.010562</td>\n",
       "      <td>0.065636</td>\n",
       "      <td>-0.004473</td>\n",
       "      <td>-0.072205</td>\n",
       "      <td>0.072555</td>\n",
       "      <td>-0.082940</td>\n",
       "      <td>-0.065306</td>\n",
       "      <td>0.032511</td>\n",
       "      <td>0.113921</td>\n",
       "      <td>-0.036668</td>\n",
       "      <td>...</td>\n",
       "      <td>-0.083731</td>\n",
       "      <td>0.003530</td>\n",
       "      <td>0.065099</td>\n",
       "      <td>-0.039295</td>\n",
       "      <td>0.014586</td>\n",
       "      <td>0.026540</td>\n",
       "      <td>0.060570</td>\n",
       "      <td>0.087757</td>\n",
       "      <td>-0.005825</td>\n",
       "      <td>0.021195</td>\n",
       "    </tr>\n",
       "  </tbody>\n",
       "</table>\n",
       "<p>5 rows × 300 columns</p>\n",
       "</div>"
      ],
      "text/plain": [
       "             0         1         2         3         4         5         6    \\\n",
       "-PRON-  0.096944  0.087000  0.003583 -0.001504  0.111694 -0.096787 -0.011931   \n",
       "gt      0.037769  0.018485 -0.005161 -0.009153 -0.049085 -0.093955  0.039386   \n",
       "lt      0.042331  0.023457 -0.036514 -0.013101 -0.047667 -0.065932  0.078685   \n",
       "use     0.033183 -0.015958  0.024219 -0.001740  0.088988 -0.050933  0.019642   \n",
       "work    0.010562  0.065636 -0.004473 -0.072205  0.072555 -0.082940 -0.065306   \n",
       "\n",
       "             7         8         9      ...          290       291       292  \\\n",
       "-PRON-  0.088636  0.051716 -0.038965    ...    -0.053500 -0.007269  0.047801   \n",
       "gt      0.001749  0.014394 -0.039650    ...    -0.021234  0.003288  0.140201   \n",
       "lt      0.022556  0.013112 -0.027004    ...     0.011652 -0.023489  0.129856   \n",
       "use     0.079626  0.042988  0.018514    ...    -0.084227 -0.006201  0.048437   \n",
       "work    0.032511  0.113921 -0.036668    ...    -0.083731  0.003530  0.065099   \n",
       "\n",
       "             293       294       295       296       297       298       299  \n",
       "-PRON-  0.031715  0.053776  0.070925  0.107324  0.016900 -0.019526  0.039425  \n",
       "gt     -0.060737  0.015184  0.029666 -0.032321  0.026446 -0.009485  0.099500  \n",
       "lt     -0.032377  0.008627  0.027702 -0.047348  0.031673 -0.016822  0.107282  \n",
       "use     0.056621  0.101004  0.049623  0.111949  0.062625  0.061967  0.067629  \n",
       "work   -0.039295  0.014586  0.026540  0.060570  0.087757 -0.005825  0.021195  \n",
       "\n",
       "[5 rows x 300 columns]"
      ]
     },
     "execution_count": 29,
     "metadata": {},
     "output_type": "execute_result"
    }
   ],
   "source": [
    "tsne_input.head()"
   ]
  },
  {
   "cell_type": "code",
   "execution_count": 48,
   "metadata": {},
   "outputs": [],
   "source": [
    "tsne_filepath = u'models/tsne_model'\n",
    "tsne_vectors_filepath = u'models/tsne_vectors.npy'"
   ]
  },
  {
   "cell_type": "code",
   "execution_count": 50,
   "metadata": {},
   "outputs": [],
   "source": [
    "%%time\n",
    "\n",
    "tsne = TSNE()\n",
    "tsne_vectors = tsne.fit_transform(tsne_input.values)\n",
    "\n",
    "with open(tsne_filepath, 'wb') as f:\n",
    "    pickle.dump(tsne, f)\n",
    "\n",
    "pd.np.save(tsne_vectors_filepath, tsne_vectors)"
   ]
  },
  {
   "cell_type": "code",
   "execution_count": 51,
   "metadata": {},
   "outputs": [],
   "source": [
    "with open(tsne_filepath, 'rb') as f:\n",
    "    tsne = pickle.load(f)\n",
    "    \n",
    "tsne_vectors = pd.np.load(tsne_vectors_filepath)\n",
    "\n",
    "tsne_vectors = pd.DataFrame(tsne_vectors,\n",
    "                            index=pd.Index(tsne_input.index),\n",
    "                            columns=[u'x_coord', u'y_coord'])"
   ]
  },
  {
   "cell_type": "code",
   "execution_count": 52,
   "metadata": {},
   "outputs": [],
   "source": [
    "tsne_vectors[u'word'] = tsne_vectors.index"
   ]
  },
  {
   "cell_type": "code",
   "execution_count": 53,
   "metadata": {},
   "outputs": [
    {
     "data": {
      "text/html": [
       "\n",
       "    <div class=\"bk-root\">\n",
       "        <a href=\"https://bokeh.pydata.org\" target=\"_blank\" class=\"bk-logo bk-logo-small bk-logo-notebook\"></a>\n",
       "        <span id=\"92567f0e-5d4f-4622-9c4e-9b0a4232414c\">Loading BokehJS ...</span>\n",
       "    </div>"
      ]
     },
     "metadata": {},
     "output_type": "display_data"
    },
    {
     "data": {
      "application/javascript": [
       "\n",
       "(function(root) {\n",
       "  function now() {\n",
       "    return new Date();\n",
       "  }\n",
       "\n",
       "  var force = true;\n",
       "\n",
       "  if (typeof (root._bokeh_onload_callbacks) === \"undefined\" || force === true) {\n",
       "    root._bokeh_onload_callbacks = [];\n",
       "    root._bokeh_is_loading = undefined;\n",
       "  }\n",
       "\n",
       "  var JS_MIME_TYPE = 'application/javascript';\n",
       "  var HTML_MIME_TYPE = 'text/html';\n",
       "  var EXEC_MIME_TYPE = 'application/vnd.bokehjs_exec.v0+json';\n",
       "  var CLASS_NAME = 'output_bokeh rendered_html';\n",
       "\n",
       "  /**\n",
       "   * Render data to the DOM node\n",
       "   */\n",
       "  function render(props, node) {\n",
       "    var script = document.createElement(\"script\");\n",
       "    node.appendChild(script);\n",
       "  }\n",
       "\n",
       "  /**\n",
       "   * Handle when an output is cleared or removed\n",
       "   */\n",
       "  function handleClearOutput(event, handle) {\n",
       "    var cell = handle.cell;\n",
       "\n",
       "    var id = cell.output_area._bokeh_element_id;\n",
       "    var server_id = cell.output_area._bokeh_server_id;\n",
       "    // Clean up Bokeh references\n",
       "    if (id !== undefined) {\n",
       "      Bokeh.index[id].model.document.clear();\n",
       "      delete Bokeh.index[id];\n",
       "    }\n",
       "\n",
       "    if (server_id !== undefined) {\n",
       "      // Clean up Bokeh references\n",
       "      var cmd = \"from bokeh.io.state import curstate; print(curstate().uuid_to_server['\" + server_id + \"'].get_sessions()[0].document.roots[0]._id)\";\n",
       "      cell.notebook.kernel.execute(cmd, {\n",
       "        iopub: {\n",
       "          output: function(msg) {\n",
       "            var element_id = msg.content.text.trim();\n",
       "            Bokeh.index[element_id].model.document.clear();\n",
       "            delete Bokeh.index[element_id];\n",
       "          }\n",
       "        }\n",
       "      });\n",
       "      // Destroy server and session\n",
       "      var cmd = \"import bokeh.io.notebook as ion; ion.destroy_server('\" + server_id + \"')\";\n",
       "      cell.notebook.kernel.execute(cmd);\n",
       "    }\n",
       "  }\n",
       "\n",
       "  /**\n",
       "   * Handle when a new output is added\n",
       "   */\n",
       "  function handleAddOutput(event, handle) {\n",
       "    var output_area = handle.output_area;\n",
       "    var output = handle.output;\n",
       "\n",
       "    // limit handleAddOutput to display_data with EXEC_MIME_TYPE content only\n",
       "    if ((output.output_type != \"display_data\") || (!output.data.hasOwnProperty(EXEC_MIME_TYPE))) {\n",
       "      return\n",
       "    }\n",
       "\n",
       "    var toinsert = output_area.element.find(\".\" + CLASS_NAME.split(' ')[0]);\n",
       "\n",
       "    if (output.metadata[EXEC_MIME_TYPE][\"id\"] !== undefined) {\n",
       "      toinsert[toinsert.length - 1].firstChild.textContent = output.data[JS_MIME_TYPE];\n",
       "      // store reference to embed id on output_area\n",
       "      output_area._bokeh_element_id = output.metadata[EXEC_MIME_TYPE][\"id\"];\n",
       "    }\n",
       "    if (output.metadata[EXEC_MIME_TYPE][\"server_id\"] !== undefined) {\n",
       "      var bk_div = document.createElement(\"div\");\n",
       "      bk_div.innerHTML = output.data[HTML_MIME_TYPE];\n",
       "      var script_attrs = bk_div.children[0].attributes;\n",
       "      for (var i = 0; i < script_attrs.length; i++) {\n",
       "        toinsert[toinsert.length - 1].firstChild.setAttribute(script_attrs[i].name, script_attrs[i].value);\n",
       "      }\n",
       "      // store reference to server id on output_area\n",
       "      output_area._bokeh_server_id = output.metadata[EXEC_MIME_TYPE][\"server_id\"];\n",
       "    }\n",
       "  }\n",
       "\n",
       "  function register_renderer(events, OutputArea) {\n",
       "\n",
       "    function append_mime(data, metadata, element) {\n",
       "      // create a DOM node to render to\n",
       "      var toinsert = this.create_output_subarea(\n",
       "        metadata,\n",
       "        CLASS_NAME,\n",
       "        EXEC_MIME_TYPE\n",
       "      );\n",
       "      this.keyboard_manager.register_events(toinsert);\n",
       "      // Render to node\n",
       "      var props = {data: data, metadata: metadata[EXEC_MIME_TYPE]};\n",
       "      render(props, toinsert[toinsert.length - 1]);\n",
       "      element.append(toinsert);\n",
       "      return toinsert\n",
       "    }\n",
       "\n",
       "    /* Handle when an output is cleared or removed */\n",
       "    events.on('clear_output.CodeCell', handleClearOutput);\n",
       "    events.on('delete.Cell', handleClearOutput);\n",
       "\n",
       "    /* Handle when a new output is added */\n",
       "    events.on('output_added.OutputArea', handleAddOutput);\n",
       "\n",
       "    /**\n",
       "     * Register the mime type and append_mime function with output_area\n",
       "     */\n",
       "    OutputArea.prototype.register_mime_type(EXEC_MIME_TYPE, append_mime, {\n",
       "      /* Is output safe? */\n",
       "      safe: true,\n",
       "      /* Index of renderer in `output_area.display_order` */\n",
       "      index: 0\n",
       "    });\n",
       "  }\n",
       "\n",
       "  // register the mime type if in Jupyter Notebook environment and previously unregistered\n",
       "  if (root.Jupyter !== undefined) {\n",
       "    var events = require('base/js/events');\n",
       "    var OutputArea = require('notebook/js/outputarea').OutputArea;\n",
       "\n",
       "    if (OutputArea.prototype.mime_types().indexOf(EXEC_MIME_TYPE) == -1) {\n",
       "      register_renderer(events, OutputArea);\n",
       "    }\n",
       "  }\n",
       "\n",
       "  \n",
       "  if (typeof (root._bokeh_timeout) === \"undefined\" || force === true) {\n",
       "    root._bokeh_timeout = Date.now() + 5000;\n",
       "    root._bokeh_failed_load = false;\n",
       "  }\n",
       "\n",
       "  var NB_LOAD_WARNING = {'data': {'text/html':\n",
       "     \"<div style='background-color: #fdd'>\\n\"+\n",
       "     \"<p>\\n\"+\n",
       "     \"BokehJS does not appear to have successfully loaded. If loading BokehJS from CDN, this \\n\"+\n",
       "     \"may be due to a slow or bad network connection. Possible fixes:\\n\"+\n",
       "     \"</p>\\n\"+\n",
       "     \"<ul>\\n\"+\n",
       "     \"<li>re-rerun `output_notebook()` to attempt to load from CDN again, or</li>\\n\"+\n",
       "     \"<li>use INLINE resources instead, as so:</li>\\n\"+\n",
       "     \"</ul>\\n\"+\n",
       "     \"<code>\\n\"+\n",
       "     \"from bokeh.resources import INLINE\\n\"+\n",
       "     \"output_notebook(resources=INLINE)\\n\"+\n",
       "     \"</code>\\n\"+\n",
       "     \"</div>\"}};\n",
       "\n",
       "  function display_loaded() {\n",
       "    var el = document.getElementById(\"92567f0e-5d4f-4622-9c4e-9b0a4232414c\");\n",
       "    if (el != null) {\n",
       "      el.textContent = \"BokehJS is loading...\";\n",
       "    }\n",
       "    if (root.Bokeh !== undefined) {\n",
       "      if (el != null) {\n",
       "        el.textContent = \"BokehJS \" + root.Bokeh.version + \" successfully loaded.\";\n",
       "      }\n",
       "    } else if (Date.now() < root._bokeh_timeout) {\n",
       "      setTimeout(display_loaded, 100)\n",
       "    }\n",
       "  }\n",
       "\n",
       "\n",
       "  function run_callbacks() {\n",
       "    try {\n",
       "      root._bokeh_onload_callbacks.forEach(function(callback) { callback() });\n",
       "    }\n",
       "    finally {\n",
       "      delete root._bokeh_onload_callbacks\n",
       "    }\n",
       "    console.info(\"Bokeh: all callbacks have finished\");\n",
       "  }\n",
       "\n",
       "  function load_libs(js_urls, callback) {\n",
       "    root._bokeh_onload_callbacks.push(callback);\n",
       "    if (root._bokeh_is_loading > 0) {\n",
       "      console.log(\"Bokeh: BokehJS is being loaded, scheduling callback at\", now());\n",
       "      return null;\n",
       "    }\n",
       "    if (js_urls == null || js_urls.length === 0) {\n",
       "      run_callbacks();\n",
       "      return null;\n",
       "    }\n",
       "    console.log(\"Bokeh: BokehJS not loaded, scheduling load and callback at\", now());\n",
       "    root._bokeh_is_loading = js_urls.length;\n",
       "    for (var i = 0; i < js_urls.length; i++) {\n",
       "      var url = js_urls[i];\n",
       "      var s = document.createElement('script');\n",
       "      s.src = url;\n",
       "      s.async = false;\n",
       "      s.onreadystatechange = s.onload = function() {\n",
       "        root._bokeh_is_loading--;\n",
       "        if (root._bokeh_is_loading === 0) {\n",
       "          console.log(\"Bokeh: all BokehJS libraries loaded\");\n",
       "          run_callbacks()\n",
       "        }\n",
       "      };\n",
       "      s.onerror = function() {\n",
       "        console.warn(\"failed to load library \" + url);\n",
       "      };\n",
       "      console.log(\"Bokeh: injecting script tag for BokehJS library: \", url);\n",
       "      document.getElementsByTagName(\"head\")[0].appendChild(s);\n",
       "    }\n",
       "  };var element = document.getElementById(\"92567f0e-5d4f-4622-9c4e-9b0a4232414c\");\n",
       "  if (element == null) {\n",
       "    console.log(\"Bokeh: ERROR: autoload.js configured with elementid '92567f0e-5d4f-4622-9c4e-9b0a4232414c' but no matching script tag was found. \")\n",
       "    return false;\n",
       "  }\n",
       "\n",
       "  var js_urls = [\"https://cdn.pydata.org/bokeh/release/bokeh-0.12.15.min.js\", \"https://cdn.pydata.org/bokeh/release/bokeh-widgets-0.12.15.min.js\", \"https://cdn.pydata.org/bokeh/release/bokeh-tables-0.12.15.min.js\", \"https://cdn.pydata.org/bokeh/release/bokeh-gl-0.12.15.min.js\"];\n",
       "\n",
       "  var inline_js = [\n",
       "    function(Bokeh) {\n",
       "      Bokeh.set_log_level(\"info\");\n",
       "    },\n",
       "    \n",
       "    function(Bokeh) {\n",
       "      \n",
       "    },\n",
       "    function(Bokeh) {\n",
       "      console.log(\"Bokeh: injecting CSS: https://cdn.pydata.org/bokeh/release/bokeh-0.12.15.min.css\");\n",
       "      Bokeh.embed.inject_css(\"https://cdn.pydata.org/bokeh/release/bokeh-0.12.15.min.css\");\n",
       "      console.log(\"Bokeh: injecting CSS: https://cdn.pydata.org/bokeh/release/bokeh-widgets-0.12.15.min.css\");\n",
       "      Bokeh.embed.inject_css(\"https://cdn.pydata.org/bokeh/release/bokeh-widgets-0.12.15.min.css\");\n",
       "      console.log(\"Bokeh: injecting CSS: https://cdn.pydata.org/bokeh/release/bokeh-tables-0.12.15.min.css\");\n",
       "      Bokeh.embed.inject_css(\"https://cdn.pydata.org/bokeh/release/bokeh-tables-0.12.15.min.css\");\n",
       "    }\n",
       "  ];\n",
       "\n",
       "  function run_inline_js() {\n",
       "    \n",
       "    if ((root.Bokeh !== undefined) || (force === true)) {\n",
       "      for (var i = 0; i < inline_js.length; i++) {\n",
       "        inline_js[i].call(root, root.Bokeh);\n",
       "      }if (force === true) {\n",
       "        display_loaded();\n",
       "      }} else if (Date.now() < root._bokeh_timeout) {\n",
       "      setTimeout(run_inline_js, 100);\n",
       "    } else if (!root._bokeh_failed_load) {\n",
       "      console.log(\"Bokeh: BokehJS failed to load within specified timeout.\");\n",
       "      root._bokeh_failed_load = true;\n",
       "    } else if (force !== true) {\n",
       "      var cell = $(document.getElementById(\"92567f0e-5d4f-4622-9c4e-9b0a4232414c\")).parents('.cell').data().cell;\n",
       "      cell.output_area.append_execute_result(NB_LOAD_WARNING)\n",
       "    }\n",
       "\n",
       "  }\n",
       "\n",
       "  if (root._bokeh_is_loading === 0) {\n",
       "    console.log(\"Bokeh: BokehJS loaded, going straight to plotting\");\n",
       "    run_inline_js();\n",
       "  } else {\n",
       "    load_libs(js_urls, function() {\n",
       "      console.log(\"Bokeh: BokehJS plotting callback run at\", now());\n",
       "      run_inline_js();\n",
       "    });\n",
       "  }\n",
       "}(window));"
      ],
      "application/vnd.bokehjs_load.v0+json": "\n(function(root) {\n  function now() {\n    return new Date();\n  }\n\n  var force = true;\n\n  if (typeof (root._bokeh_onload_callbacks) === \"undefined\" || force === true) {\n    root._bokeh_onload_callbacks = [];\n    root._bokeh_is_loading = undefined;\n  }\n\n  \n\n  \n  if (typeof (root._bokeh_timeout) === \"undefined\" || force === true) {\n    root._bokeh_timeout = Date.now() + 5000;\n    root._bokeh_failed_load = false;\n  }\n\n  var NB_LOAD_WARNING = {'data': {'text/html':\n     \"<div style='background-color: #fdd'>\\n\"+\n     \"<p>\\n\"+\n     \"BokehJS does not appear to have successfully loaded. If loading BokehJS from CDN, this \\n\"+\n     \"may be due to a slow or bad network connection. Possible fixes:\\n\"+\n     \"</p>\\n\"+\n     \"<ul>\\n\"+\n     \"<li>re-rerun `output_notebook()` to attempt to load from CDN again, or</li>\\n\"+\n     \"<li>use INLINE resources instead, as so:</li>\\n\"+\n     \"</ul>\\n\"+\n     \"<code>\\n\"+\n     \"from bokeh.resources import INLINE\\n\"+\n     \"output_notebook(resources=INLINE)\\n\"+\n     \"</code>\\n\"+\n     \"</div>\"}};\n\n  function display_loaded() {\n    var el = document.getElementById(\"92567f0e-5d4f-4622-9c4e-9b0a4232414c\");\n    if (el != null) {\n      el.textContent = \"BokehJS is loading...\";\n    }\n    if (root.Bokeh !== undefined) {\n      if (el != null) {\n        el.textContent = \"BokehJS \" + root.Bokeh.version + \" successfully loaded.\";\n      }\n    } else if (Date.now() < root._bokeh_timeout) {\n      setTimeout(display_loaded, 100)\n    }\n  }\n\n\n  function run_callbacks() {\n    try {\n      root._bokeh_onload_callbacks.forEach(function(callback) { callback() });\n    }\n    finally {\n      delete root._bokeh_onload_callbacks\n    }\n    console.info(\"Bokeh: all callbacks have finished\");\n  }\n\n  function load_libs(js_urls, callback) {\n    root._bokeh_onload_callbacks.push(callback);\n    if (root._bokeh_is_loading > 0) {\n      console.log(\"Bokeh: BokehJS is being loaded, scheduling callback at\", now());\n      return null;\n    }\n    if (js_urls == null || js_urls.length === 0) {\n      run_callbacks();\n      return null;\n    }\n    console.log(\"Bokeh: BokehJS not loaded, scheduling load and callback at\", now());\n    root._bokeh_is_loading = js_urls.length;\n    for (var i = 0; i < js_urls.length; i++) {\n      var url = js_urls[i];\n      var s = document.createElement('script');\n      s.src = url;\n      s.async = false;\n      s.onreadystatechange = s.onload = function() {\n        root._bokeh_is_loading--;\n        if (root._bokeh_is_loading === 0) {\n          console.log(\"Bokeh: all BokehJS libraries loaded\");\n          run_callbacks()\n        }\n      };\n      s.onerror = function() {\n        console.warn(\"failed to load library \" + url);\n      };\n      console.log(\"Bokeh: injecting script tag for BokehJS library: \", url);\n      document.getElementsByTagName(\"head\")[0].appendChild(s);\n    }\n  };var element = document.getElementById(\"92567f0e-5d4f-4622-9c4e-9b0a4232414c\");\n  if (element == null) {\n    console.log(\"Bokeh: ERROR: autoload.js configured with elementid '92567f0e-5d4f-4622-9c4e-9b0a4232414c' but no matching script tag was found. \")\n    return false;\n  }\n\n  var js_urls = [\"https://cdn.pydata.org/bokeh/release/bokeh-0.12.15.min.js\", \"https://cdn.pydata.org/bokeh/release/bokeh-widgets-0.12.15.min.js\", \"https://cdn.pydata.org/bokeh/release/bokeh-tables-0.12.15.min.js\", \"https://cdn.pydata.org/bokeh/release/bokeh-gl-0.12.15.min.js\"];\n\n  var inline_js = [\n    function(Bokeh) {\n      Bokeh.set_log_level(\"info\");\n    },\n    \n    function(Bokeh) {\n      \n    },\n    function(Bokeh) {\n      console.log(\"Bokeh: injecting CSS: https://cdn.pydata.org/bokeh/release/bokeh-0.12.15.min.css\");\n      Bokeh.embed.inject_css(\"https://cdn.pydata.org/bokeh/release/bokeh-0.12.15.min.css\");\n      console.log(\"Bokeh: injecting CSS: https://cdn.pydata.org/bokeh/release/bokeh-widgets-0.12.15.min.css\");\n      Bokeh.embed.inject_css(\"https://cdn.pydata.org/bokeh/release/bokeh-widgets-0.12.15.min.css\");\n      console.log(\"Bokeh: injecting CSS: https://cdn.pydata.org/bokeh/release/bokeh-tables-0.12.15.min.css\");\n      Bokeh.embed.inject_css(\"https://cdn.pydata.org/bokeh/release/bokeh-tables-0.12.15.min.css\");\n    }\n  ];\n\n  function run_inline_js() {\n    \n    if ((root.Bokeh !== undefined) || (force === true)) {\n      for (var i = 0; i < inline_js.length; i++) {\n        inline_js[i].call(root, root.Bokeh);\n      }if (force === true) {\n        display_loaded();\n      }} else if (Date.now() < root._bokeh_timeout) {\n      setTimeout(run_inline_js, 100);\n    } else if (!root._bokeh_failed_load) {\n      console.log(\"Bokeh: BokehJS failed to load within specified timeout.\");\n      root._bokeh_failed_load = true;\n    } else if (force !== true) {\n      var cell = $(document.getElementById(\"92567f0e-5d4f-4622-9c4e-9b0a4232414c\")).parents('.cell').data().cell;\n      cell.output_area.append_execute_result(NB_LOAD_WARNING)\n    }\n\n  }\n\n  if (root._bokeh_is_loading === 0) {\n    console.log(\"Bokeh: BokehJS loaded, going straight to plotting\");\n    run_inline_js();\n  } else {\n    load_libs(js_urls, function() {\n      console.log(\"Bokeh: BokehJS plotting callback run at\", now());\n      run_inline_js();\n    });\n  }\n}(window));"
     },
     "metadata": {},
     "output_type": "display_data"
    }
   ],
   "source": [
    "from bokeh.plotting import figure, show, output_notebook, output_file\n",
    "from bokeh.models import HoverTool, ColumnDataSource, value\n",
    "\n",
    "output_notebook()\n",
    "# output_file(\"models/tsne_bokeh.html\")"
   ]
  },
  {
   "cell_type": "code",
   "execution_count": 54,
   "metadata": {
    "scrolled": false
   },
   "outputs": [
    {
     "data": {
      "text/html": [
       "\n",
       "<div class=\"bk-root\">\n",
       "    <div class=\"bk-plotdiv\" id=\"e3ac2608-9914-47c3-82ce-7b53b53d6101\"></div>\n",
       "</div>"
      ]
     },
     "metadata": {},
     "output_type": "display_data"
    },
    {
     "data": {
      "application/javascript": [
       "(function(root) {\n",
       "  function embed_document(root) {\n",
       "    \n",
       "  var docs_json = {\"226264f9-e249-4d6e-a312-a63c4cd7521d\":{\"roots\":{\"references\":[{\"attributes\":{\"callback\":null,\"tooltips\":\"@word\"},\"id\":\"acb61411-e8e3-4870-8695-5c4b5f3b2f53\",\"type\":\"HoverTool\"},{\"attributes\":{\"active_drag\":\"auto\",\"active_inspect\":\"auto\",\"active_scroll\":{\"id\":\"94cf2dda-6d2f-47c5-8c64-6dda1a9ea657\",\"type\":\"WheelZoomTool\"},\"active_tap\":\"auto\",\"tools\":[{\"id\":\"280e8e6c-1a4a-48ac-b412-d816fe3d8830\",\"type\":\"PanTool\"},{\"id\":\"94cf2dda-6d2f-47c5-8c64-6dda1a9ea657\",\"type\":\"WheelZoomTool\"},{\"id\":\"5c6411ef-ddb2-4336-be15-4f83bad8ce8d\",\"type\":\"BoxZoomTool\"},{\"id\":\"75a60861-0254-4752-9eda-2d7c3dd4a6aa\",\"type\":\"BoxSelectTool\"},{\"id\":\"2af7e0ef-af04-445e-be7c-13e7ae497d67\",\"type\":\"ResetTool\"},{\"id\":\"acb61411-e8e3-4870-8695-5c4b5f3b2f53\",\"type\":\"HoverTool\"}]},\"id\":\"76cba0c3-e3c3-4852-870b-757b149f95e8\",\"type\":\"Toolbar\"},{\"attributes\":{\"source\":{\"id\":\"2c74269e-a4cc-4f88-a73e-c3031d266614\",\"type\":\"ColumnDataSource\"}},\"id\":\"45d1df5a-8af3-4922-a88a-ca007d6b6799\",\"type\":\"CDSView\"},{\"attributes\":{\"callback\":null},\"id\":\"dee993dc-dc9f-43ee-912b-3b0f48145b68\",\"type\":\"DataRange1d\"},{\"attributes\":{},\"id\":\"408fce25-1ad1-4a6c-967f-0baac64657e6\",\"type\":\"BasicTickFormatter\"},{\"attributes\":{},\"id\":\"0829cd16-9276-4fcd-8234-33116e73a0da\",\"type\":\"BasicTicker\"},{\"attributes\":{},\"id\":\"b6f8b370-e158-40c7-866f-0eefebbbda6d\",\"type\":\"BasicTickFormatter\"},{\"attributes\":{\"bottom_units\":\"screen\",\"fill_alpha\":{\"value\":0.5},\"fill_color\":{\"value\":\"lightgrey\"},\"left_units\":\"screen\",\"level\":\"overlay\",\"line_alpha\":{\"value\":1.0},\"line_color\":{\"value\":\"black\"},\"line_dash\":[4,4],\"line_width\":{\"value\":2},\"plot\":null,\"render_mode\":\"css\",\"right_units\":\"screen\",\"top_units\":\"screen\"},\"id\":\"609b5d6e-3457-4bc3-bcf3-0c44f3c05834\",\"type\":\"BoxAnnotation\"},{\"attributes\":{\"data_source\":{\"id\":\"2c74269e-a4cc-4f88-a73e-c3031d266614\",\"type\":\"ColumnDataSource\"},\"glyph\":{\"id\":\"5e8006ee-f24c-46a2-a9ae-d2388e212b91\",\"type\":\"Circle\"},\"hover_glyph\":{\"id\":\"2ee50038-29ae-4dc8-adea-328b25c8ac15\",\"type\":\"Circle\"},\"muted_glyph\":null,\"nonselection_glyph\":{\"id\":\"bedc3ea4-98b3-4441-ab2f-85724bb5f8b6\",\"type\":\"Circle\"},\"selection_glyph\":null,\"view\":{\"id\":\"45d1df5a-8af3-4922-a88a-ca007d6b6799\",\"type\":\"CDSView\"}},\"id\":\"99965cca-c725-42c8-8ba9-59ad14a1bcaa\",\"type\":\"GlyphRenderer\"},{\"attributes\":{\"below\":[{\"id\":\"e5a30dc0-7657-4767-8a12-09a2f1b9b995\",\"type\":\"LinearAxis\"}],\"left\":[{\"id\":\"c404d6c1-fa5c-4be8-82d1-79cc63223d87\",\"type\":\"LinearAxis\"}],\"outline_line_color\":{\"value\":null},\"plot_height\":1000,\"plot_width\":1000,\"renderers\":[{\"id\":\"e5a30dc0-7657-4767-8a12-09a2f1b9b995\",\"type\":\"LinearAxis\"},{\"id\":\"bec99670-4cd9-4637-a079-2035ef4e8ec1\",\"type\":\"Grid\"},{\"id\":\"c404d6c1-fa5c-4be8-82d1-79cc63223d87\",\"type\":\"LinearAxis\"},{\"id\":\"b4e75c9c-286b-41ad-8ebb-f771bd0cbefc\",\"type\":\"Grid\"},{\"id\":\"609b5d6e-3457-4bc3-bcf3-0c44f3c05834\",\"type\":\"BoxAnnotation\"},{\"id\":\"47a1e147-2735-4070-b42b-94d901f23c7d\",\"type\":\"BoxAnnotation\"},{\"id\":\"99965cca-c725-42c8-8ba9-59ad14a1bcaa\",\"type\":\"GlyphRenderer\"}],\"title\":{\"id\":\"7fa396f6-8563-4ae4-be73-bdf9e12e03f5\",\"type\":\"Title\"},\"toolbar\":{\"id\":\"76cba0c3-e3c3-4852-870b-757b149f95e8\",\"type\":\"Toolbar\"},\"x_range\":{\"id\":\"dee993dc-dc9f-43ee-912b-3b0f48145b68\",\"type\":\"DataRange1d\"},\"x_scale\":{\"id\":\"4d56186e-8292-4b4a-9a04-096459496c63\",\"type\":\"LinearScale\"},\"y_range\":{\"id\":\"d110709d-b538-4a70-846c-c5112d9f4ae1\",\"type\":\"DataRange1d\"},\"y_scale\":{\"id\":\"d33bdb33-c76b-4500-8992-0e484e17845c\",\"type\":\"LinearScale\"}},\"id\":\"a62dc695-9ee0-4115-9ad1-326282a8decd\",\"subtype\":\"Figure\",\"type\":\"Plot\"},{\"attributes\":{\"callback\":null},\"id\":\"d110709d-b538-4a70-846c-c5112d9f4ae1\",\"type\":\"DataRange1d\"},{\"attributes\":{\"fill_alpha\":{\"value\":0.1},\"fill_color\":{\"value\":\"green\"},\"line_alpha\":{\"value\":0.2},\"line_color\":{\"value\":\"green\"},\"size\":{\"units\":\"screen\",\"value\":10},\"x\":{\"field\":\"x_coord\"},\"y\":{\"field\":\"y_coord\"}},\"id\":\"5e8006ee-f24c-46a2-a9ae-d2388e212b91\",\"type\":\"Circle\"},{\"attributes\":{\"callback\":null,\"column_names\":[\"x_coord\",\"y_coord\",\"word\",\"index\"],\"data\":{\"index\":[\"-PRON-\",\"gt\",\"lt\",\"use\",\"work\",\"experience\",\"team\",\"new\",\"project\",\"datum\",\"product\",\"need\",\"system\",\"function\",\"file\",\"include\",\"skill\",\"value\",\"class\",\"require\",\"development\",\"business\",\"code\",\"like\",\"service\",\"time\",\"support\",\"software\",\"customer\",\"return\",\"year\",\"create\",\"application\",\"ability\",\"design\",\"string\",\"type\",\"management\",\"provide\",\"solution\",\"c\",\"good\",\"day\",\"process\",\"test\",\"'s\",\"set\",\"build\",\"android\",\"develop\",\"user\",\"want\",\"technology\",\"change\",\"method\",\"object\",\"client\",\"way\",\"program\",\"add\",\"problem\",\"public\",\"x\",\"environment\",\"job\",\"write\",\"company\",\"technical\",\"requirement\",\"java\",\"example\",\"look\",\"manage\",\"knowledge\",\"strong\",\"key\",\"\\u2019s\",\"int\",\"+\",\"position\",\"ago\",\"base\",\"run\",\"find\",\"opportunity\",\"try\",\"help\",\"result\",\"follow\",\"manager\",\"list\",\"tool\",\"error\",\"information\",\"ensure\",\"end\",\"var\",\"case\",\"http\",\"e\",\"communication\",\"engineering\",\"com\",\"lead\",\"level\",\"high\",\"responsibility\",\"app\",\"degree\",\"line\",\"employee\",\"issue\",\"view\",\"b\",\"drive\",\"field\",\"maintain\",\"self\",\"engineer\",\"text\",\"version\",\"know\",\"plan\",\"performance\",\"web\",\"status\",\"implement\",\"define\",\"true\",\"array\",\"resource\",\"s\",\"update\",\"quality\",\"report\",\"qualification\",\"request\",\"database\",\"perform\",\"etc\",\"select\",\"sale\",\"people\",\"server\",\"role\",\"start\",\"state\",\"check\",\"window\",\"number\",\"analysis\",\"able\",\"model\",\"element\",\"multiple\",\"html\",\"t\",\"python\",\"n\",\"operation\",\"document\",\"source\",\"property\",\"null\",\"content\",\"risk\",\"git\",\"standard\",\"void\",\"implementation\",\"platform\",\"item\",\"control\",\"r\",\"option\",\"security\",\"apply\",\"data\",\"industry\",\"group\",\"answer\",\"import\",\"world\",\"responsible\",\"table\",\"activity\",\"point\",\"div\",\"task\",\"organization\",\"large\",\"member\",\"candidate\",\"question\",\"path\",\"understand\",\"deliver\",\"thing\",\"internal\",\"solve\",\"order\",\"color\",\"script\",\"right\",\"excellent\",\"event\",\"open\",\"different\",\"access\",\"understanding\",\"practice\",\"benefit\",\"action\",\"relate\",\"equal\",\"read\",\"default\",\"professional\",\"variable\",\"location\",\"and/or\",\"prefer\",\"image\",\"exist\",\"bachelor\",\"marketing\",\"financial\",\"page\",\"foo\",\"note\",\"partner\",\"current\",\"complex\",\"strategy\",\"static\",\"global\",\"javascript\",\"market\",\"think\",\"input\",\"testing\",\"identify\",\"execute\",\"false\",\"d\",\"package\",\"log\",\"office\",\"join\",\"size\",\"employment\",\"education\",\"form\",\"library\",\"background\",\"individual\",\"area\",\"demonstrate\",\"local\",\"reference\",\"feature\",\"framework\",\"post\",\"date\",\"plus\",\"mean\",\"g\",\"developer\",\"fast\",\"review\",\"long\",\"url\",\"meet\",\"main\",\"focus\",\"command\",\"documentation\",\"disability\",\"store\",\"instead\",\"learn\",\"p\",\"let\",\"f\",\"account\",\"net\",\"functional\",\"allow\",\"related\",\"detail\",\"y\",\"private\",\"org\",\"simple\",\"assist\",\"interface\",\"duty\",\"research\",\"possible\",\"message\",\"communicate\",\"protect\",\"equivalent\",\"training\",\"life\",\"specific\",\"sql\",\"offer\",\"query\",\"scope\",\"click\",\"index\",\"language\",\"api\",\"employer\",\"edit\",\"pass\",\"link\",\"thread\",\"style\",\"php\",\"minimum\",\"site\",\"context\",\"relationship\",\"leadership\",\"map\",\"assign\",\"grow\",\"goal\",\"instance\",\"print\",\"great\",\"complete\",\"policy\",\"cloud\",\"xml\",\"remove\",\"analytic\",\"output\",\"load\",\"button\",\"success\",\"improve\",\"microsoft\",\"highly\",\"record\",\"contain\",\"match\",\"google\",\"handle\",\"m\",\"procedure\",\"network\",\"commit\",\"senior\",\"parameter\",\"non\",\"schedule\",\"idea\",\"cross\",\"module\",\"enable\",\"health\",\"second\",\"bit\",\"available\",\"generate\",\"place\",\"delivery\",\"come\",\"accounting\",\"exception\",\"js\",\"directory\",\"applicant\",\"architecture\",\"project_management\",\"o\",\"format\",\"core\",\"css\",\"jquery\",\"description\",\"search\",\"planning\",\"effectively\",\"release\",\"width\",\"enterprise\",\"computer_science\",\"approach\",\"veteran\",\"sure\",\"origin\",\"json\",\"consider\",\"difference\",\"department\",\"device\",\"component\",\"decision\",\"staff\",\"column\",\"close\",\"copy\",\"target\",\"regard\",\"external\",\"center\",\"general\",\"character\",\"configuration\",\"scale\",\"master\",\"row\",\"national\",\"range\",\"agile\",\"bar\",\"mobile\",\"track\",\"install\",\"expression\",\"orientation\",\"hand\",\"std\",\"execution\",\"coordinate\",\"console\",\"address\",\"easy\",\"display\",\"str\",\"analyze\",\"direct\",\"attribute\",\"word\",\"desire\",\"production\",\"response\",\"share\",\"compile\",\"argument\",\"expect\",\"length\",\"small\",\"browser\",\"memory\",\"real\",\"appropriate\",\"space\",\"gender\",\"compliance\",\"fix\",\"similar\",\"leader\",\"leave\",\"statement\",\"participate\",\"seek\",\"stakeholder\",\"height\",\"receive\",\"send\",\"serve\",\"pay\",\"strategic\",\"block\",\"override\",\"infrastructure\",\"improvement\",\"linux\",\"contract\",\"computer\",\"relevant\",\"single\",\"human\",\"actually\",\"cost\",\"controller\",\"analytical\",\"impact\",\"initiative\",\"successful\",\"expertise\",\"programming\",\"future\",\"basic\",\"care\",\"node\",\"community\",\"debug\",\"identity\",\"collaborate\",\"associate\",\"travel\",\"https\",\"header\",\"term\",\"achieve\",\"h\",\"specify\",\"directly\",\"pattern\",\"vision\",\"growth\",\"v\",\"age\",\"medical\",\"collection\",\"necessary\",\"delete\",\"template\",\"establish\",\"resolve\",\"title\",\"person\",\"concept\",\"tag\",\"monitor\",\"structure\",\"stack\",\"career\",\"integration\",\"challenge\",\"effective\",\"automation\",\"branch\",\"inside\",\"qualified\",\"advanced\",\"reporting\",\"byte\",\"prepare\",\"custom\",\"convert\",\"verbal\",\"unit\",\"mission\",\"ms\",\"additional\",\"$\",\"loop\",\"competitive\",\"race\",\"def\",\"compiler\",\"step\",\"count\",\"critical\",\"ui\",\"clear\",\"prove\",\"law\",\"setting\",\"dynamic\",\"config\",\"home\",\"closely\",\"multi\",\"reason\",\"replace\",\"lot\",\"preferred\",\"essential\",\"orient\",\"visual\",\"digital\",\"break\",\"hire\",\"save\",\"presentation\",\"summary\",\"evaluate\",\"construction\",\"integer\",\"bring\",\"budget\",\"final\",\"throw\",\"comment\",\"conduct\",\"root\",\"www\",\"primary\",\"present\",\"sexual\",\"currently\",\"folder\",\"happen\",\"hour\",\"thank\",\"innovative\",\"common\",\"connect\",\"vendor\",\"religion\",\"email\",\"objective\",\"inc\",\"fail\",\"medium\",\"studio\",\"child\",\"culture\",\"filter\",\"double\",\"ruby\",\"container\",\"hr\",\"os\",\"matter\",\"meeting\",\"algorithm\",\"organizational\",\"building\",\"certification\",\"operational\",\"limit\",\"old\",\"determine\",\"mysql\",\"yes\",\"correct\",\"body\",\"operator\",\"expert\",\"connection\",\"extend\",\"insurance\",\"push\",\"big\",\"parent\",\"recommend\",\"condition\",\"technique\",\"excel\",\"session\",\"methodology\",\"dependency\",\"effort\",\"layout\",\"char\",\"simply\",\"provider\",\"bind\",\"const\",\"capability\",\"li\",\"deployment\",\"contact\",\"echo\",\"lib\",\"specification\",\"sort\",\"free\",\"src\",\"automate\",\"entry\",\"unique\",\"innovation\",\"tell\",\"plugin\",\"analyst\",\"probably\",\"salary\",\"hardware\",\"pointer\",\"important\",\"doc\",\"label\",\"password\",\"diverse\",\"rule\",\"consumer\",\"agency\",\"ios\",\"finance\",\"depend\",\"constructor\",\"box\",\"processing\",\"launch\",\"github\",\"behavior\",\"modify\",\"administration\",\"distribute\",\"repository\",\"variety\",\"short\",\"direction\",\"ask\",\"instal\",\"float\",\"insight\",\"head\",\"priority\",\"pace\",\"domain\",\"extension\",\"regular\",\"material\",\"insert\",\"contribute\",\"cache\",\"produce\",\"basis\",\"federal\",\"info\",\"submit\",\"play\",\"physical\",\"brand\",\"cycle\",\"course\",\"host\",\"apache\",\"screen\",\"passion\",\"creative\",\"original\",\"solid\",\"act\",\"stream\",\"asset\",\"special\",\"entity\",\"accept\",\"familiarity\",\"sex\",\"hard\",\"mode\",\"assume\",\"section\",\"operate\",\"maintenance\",\"aws\",\"intent\",\"definition\",\"overall\",\"remote\",\"video\",\"oracle\",\"wide\",\"catch\",\"purpose\",\"download\",\"transform\",\"involve\",\"safety\",\"deep\",\"timely\",\"corporate\",\"month\",\"e.g.\",\"firm\",\"discipline\",\"valid\",\"compensation\",\"power\",\"frame\",\"website\",\"db\",\"equipment\",\"param\",\"represent\",\"previous\",\"td\",\"machine\",\"j\",\"continue\",\"integrate\",\"bin\",\"party\",\"bs\",\"syntax\",\"subject\",\"believe\",\"active\",\"independently\",\"online\",\"interpersonal\",\"face\",\"eclipse\",\"metric\",\"government\",\"major\",\"family\",\"turn\",\"declare\",\"deploy\",\"potential\",\"fine\",\"describe\",\"quickly\",\"choose\",\"rail\",\"parse\",\"rest\",\"trend\",\"following\",\"progress\",\"increase\",\"span\",\"commercial\",\"proficiency\",\"storage\",\"avoid\",\"executive\",\"arg\",\"million\",\"utilize\",\"daily\",\"passionate\",\"healthcare\",\"hash\",\"collaboration\",\"angular\",\"z\",\"supply\",\"applicable\",\"principle\",\"aspect\",\"pre\",\"switch\",\"consideration\",\"portfolio\",\"font\",\"manner\",\"recommendation\",\"efficient\",\"resume\",\"completion\",\"useful\",\"wrong\",\"explain\",\"guide\",\"clean\",\"l\",\"late\",\"init\",\"bug\",\"auto\",\"outside\",\"optimize\",\"super\",\"bool\",\"hello\",\"u\",\"stop\",\"handler\",\"tab\",\"transaction\",\"successfully\",\"attention\",\"usr\",\"personal\",\"little\",\"protocol\",\"cell\",\"functionality\",\"ideal\",\"live\",\"visit\",\"k\",\"driver\",\"apple\",\"addition\",\"kind\",\"influence\",\"director\",\"sample\",\"flexible\",\"low\",\"situation\",\"expand\",\"boolean\",\"demand\",\"positive\",\"datetime\",\"history\",\"today\",\"appear\",\"oversee\",\"shell\",\"vs\",\"devop\",\"compare\",\"render\",\"product_management\",\"align\",\"edge\",\"resolution\",\"py\",\"social\",\"math\",\"love\",\"hide\",\"merge\",\"sense\",\"facilitate\",\"enter\",\"possess\",\"collaborative\",\"locate\",\"schema\",\"begin\",\"configure\",\"stuff\",\"force\",\"talent\",\"suggest\",\"deal\",\"motivated\",\"phone\",\"nil\",\"miss\",\"entire\",\"w\",\"license\",\"exactly\",\"profile\",\"personnel\",\"deliverable\",\"assignment\",\"prior\",\"prototype\",\"mention\",\"xcode\",\"leverage\",\"continuous\",\"particular\",\"random\",\"val\",\"chain\",\"dental\",\"far\",\"alert\",\"united\",\"usage\",\"automatically\",\"interact\",\"qa\",\"safe\",\"setup\",\"bundle\",\"obtain\",\"menu\",\"actual\",\"sql_server\",\"architect\",\"hold\",\"ajax\",\"comprehensive\",\"science\",\"facility\",\"append\",\"obj\",\"player\",\"prioritize\",\"println\",\"fact\",\"embed\",\"category\",\"translate\",\"port\",\"func\",\"usually\",\"namespace\",\"trust\",\"runtime\",\"spring\",\"forward\",\"feedback\",\"mvc\",\"enhance\",\"generation\",\"txt\",\"lifecycle\",\"shift\",\"validation\",\"export\",\"io\",\"optimization\",\"ok\",\"encode\",\"country\",\"credit\",\"pretty\",\"monitoring\",\"revenue\",\"logistic\",\"deadline\",\"maven\",\"figure\",\"struct\",\"scala\",\"jar\",\"separate\",\"flow\",\"proficient\",\"internet\",\"organize\",\"facebook\",\"docker\",\"tree\",\"bad\",\"designer\",\"channel\",\"university\",\"constant\",\"interaction\",\"assembly\",\"href\",\"quote\",\"interested\",\"regulation\",\"efficiency\",\"article\",\"fun\",\"register\",\"fill\",\"sign\",\"measure\",\"username\",\"modern\",\"gem\",\"chrome\",\"utf\",\"ignore\",\"django\",\"max\",\"exceptional\",\"city\",\"accord\",\"engagement\",\"suite\",\"c++\",\"shape\",\"combination\",\"buffer\",\"swift\",\"vector\",\"normal\",\"dev\",\"permission\",\"u.s\",\"ux\",\"guidance\",\"layer\",\"detailed\",\"instruction\",\"filename\",\"notice\",\"game\",\"token\",\"payment\",\"asp\",\"balance\",\"cover\",\"constraint\",\"engine\",\"school\",\"commitment\",\"effect\",\"machine_learn\",\"assessment\",\"recognize\",\"investment\",\"big_data\",\"native\",\"\\u2019\",\"alternative\",\"accurate\",\"nice\",\"reach\",\"regulatory\",\"border\",\"clearance\",\"cause\",\"whatev\",\"accommodation\",\"oral\",\"integrity\",\"ready\",\"wait\",\"secure\",\"combine\",\"phase\",\"total\",\"choice\",\"callback\",\"route\",\"clinical\",\"ng\",\"warning\",\"respond\",\"engage\",\"scalable\",\"international\",\"easily\",\"refer\",\"later\",\"basically\",\"expectation\",\"bash\",\"zero\",\"exit\",\"comfortable\",\"patient\",\"selector\",\"invoke\",\"student\",\"ip\",\"virtual\",\"letter\",\"evaluation\",\"tech\",\"reduce\",\"promote\",\"interest\",\"sub\",\"advance\",\"san\",\"icon\",\"finally\",\"mentor\",\"affirmative\",\"hope\",\"ad\",\"advantage\",\"roadmap\",\"creation\",\"installation\",\"verify\",\"broad\",\"assistance\",\"troubleshoot\",\"sound\",\"binary\",\"extra\",\"week\",\"consistent\",\"monthly\",\"flag\",\"energy\",\"relation\",\"proper\",\"manual\",\"diversity\",\"significant\",\"college\",\"blog\",\"enjoy\",\"min\",\"foreach\",\"interpret\",\"unix\",\"reasonable\",\"scrum\",\"fit\",\"delegate\",\"prevent\",\"america\",\"distribution\",\"margin\",\"amazon\",\"extensive\",\"experienced\",\"bootstrap\",\"ie\",\"division\",\"validate\",\"disable\",\"study\",\"maybe\",\"consulting\",\"bank\",\"trigger\",\"writing\",\"tracking\",\"occur\",\"split\",\"talented\",\"characteristic\",\"clearly\",\"pull\",\"lock\",\"book\",\"assurance\",\"logic\",\"legal\",\"contractor\",\"encourage\",\"feel\",\"manufacturing\",\"red\",\"certain\",\"sequence\",\"nbsp\",\"wrap\",\"marital\",\"capital\",\"command_line\",\"overview\",\"annual\",\"dialog\",\"react\",\"q\",\"collect\",\"statistical\",\"png\",\"fragment\",\"win\",\"generic\",\"lang\",\"years\\u2019\",\"specifically\",\"sdk\",\"exe\",\"audit\",\"tostr\",\"estimate\",\"gradle\",\"smart\",\"login\",\"startup\",\"correctly\",\"ongoing\",\"util\",\"depth\",\"workflow\",\"fully\",\"talk\",\"draw\",\"initialize\",\"modeling\",\"assess\",\"owner\",\"capture\",\"dictionary\",\"thinking\",\"certificate\",\"apis\",\"tr\",\"mark\",\"undefined\",\"selection\",\"speed\",\"genetic\",\"cookie\",\"properly\",\"supervision\",\"lambda\",\"learning\",\"typically\",\"coordination\",\"excellence\",\"accuracy\",\"matrix\",\"train\",\"audience\",\"img\",\"bean\",\"especially\",\"scroll\",\"builder\",\"enum\",\"scientist\",\"demo\",\"preferably\",\"region\",\"queue\",\"drop\",\"electrical\",\"quick\",\"drawable\",\"administrative\",\"regex\",\"dll\",\"ownership\",\"proposal\",\"conversion\",\"sum\",\"stay\",\"networking\",\"independent\",\"mac\",\"directive\",\"bonus\",\"press\",\"mind\",\"socket\",\"partnership\",\"express\",\"finish\",\"guideline\",\"outcome\",\"slow\",\"story\",\"respect\",\"hadoop\",\"interview\",\"touch\",\"pipeline\",\"initial\",\"exciting\",\"widget\",\"scenario\",\"npm\",\"electronic\",\"animation\",\"statistic\",\"rb\",\"repeat\",\"pair\",\"uri\",\"editor\",\"corporation\",\"layout_width\",\"cut\",\"user_experience\",\"layout_height\",\"declaration\",\"representative\",\"spark\",\"attempt\",\"upgrade\",\"textview\",\"en\",\"worker\",\"preference\",\"keyword\",\"accomplish\",\"svn\",\"manually\",\"concern\",\"optional\",\"gain\",\"factor\",\"generally\",\"better\",\"relative\",\"consultant\",\"coding\",\"cast\",\"pm\",\"programming_language\",\"affect\",\"construct\",\"sudo\",\"df\",\"billion\",\"visible\",\"actively\",\"extract\",\"notification\",\"staffing\",\"remain\",\"perl\",\"inline\",\"detect\",\"gcc\",\"rapidly\",\"left\",\"conflict\",\"quantitative\",\"north\",\"minute\",\"worldwide\",\"workplace\",\"jenkin\",\"iterate\",\"annotation\",\"york\",\"dom\",\"thrive\",\"preparation\",\"sell\",\"mail\",\"intelligence\",\"familiar\",\"english\",\"ref\",\"transfer\",\"operating_system\",\"reset\",\"symbol\",\"xmln\",\"suppose\",\"completely\",\"exposure\",\"peer\",\"guess\",\"white\",\"explicitly\",\"inventory\",\"enhancement\",\"disabled\",\"coverage\",\"iphone\",\"raise\",\"satisfaction\",\"co\",\"localhost\",\"acquisition\",\"wonder\",\"grid\",\"timeline\",\"wrap_content\",\"transition\",\"supplier\",\"authentication\",\"retail\",\"starter\",\"attr\",\"volume\",\"transportation\",\"dir\",\"cd\",\"offering\",\"rate\",\"early\",\"scripting\",\"401k\",\"card\",\"mapping\",\"cursor\",\"likely\",\"redirect\",\"powerpoint\",\"eeo\",\"drug\",\"duplicate\",\"citizenship\",\"err\",\"workforce\",\"adapt\",\"fire\",\"gather\",\"indicate\",\"capacity\",\"repo\",\"promise\",\"upload\",\"empower\",\"introduce\",\"working\",\"practical\",\"sr\",\"factory\",\"signal\",\"compute\",\"trade\",\"stage\",\"program_management\",\"utility\",\"visualization\",\"complexity\",\"reliable\",\"topic\",\"car\",\"pricing\",\"pick\",\"recruitment\",\"stand\",\"intend\",\"proactively\",\"recent\",\"data_science\",\"abstract\",\"minority\",\"azure\",\"consult\",\"desktop\",\"admin\",\"theme\",\"spec\",\"ba\",\"attitude\",\"tax\",\"canvas\",\"proud\",\"np\",\"banking\",\"reflect\",\"vehicle\",\"remember\",\"graphic\",\"iterator\",\"evolve\",\"hit\",\"decide\",\"foundation\",\"competency\",\"author\",\"accordance\",\"limited\",\"faster\",\"willing\",\"tutorial\",\"holiday\",\"encoding\",\"br\",\"retrieve\",\"scheduling\",\"discussion\",\"claim\",\"typeof\",\"ctrl\",\"migration\",\"inner\",\"secret\",\"investigation\",\"rely\",\"mongodb\",\"payroll\",\"succeed\",\"firefox\",\"away\",\"availability\",\"allocate\",\"speak\",\"meaningful\",\"calculate\",\"award\",\"fetch\",\"servlet\",\"proxy\",\"duration\",\"weekly\",\"jsfiddle\",\"price\",\"escape\",\"derive\",\"longer\",\"perspective\",\"round\",\"writeline\",\"industrial\",\"unsigned\",\"outstanding\",\"specialist\",\"suggestion\",\"prefix\",\"campaign\",\"hospital\",\"listen\",\"terminal\",\"vacation\",\"hear\",\"restart\",\"fundamental\",\"couple\",\"clone\",\"administrator\",\"graph\",\"francisco\",\"async\",\"\\u00ae\",\"inform\",\"treat\",\"blue\",\"segment\",\"offset\",\"computing\",\"ssh\",\"failure\",\".net\",\"motivate\",\"comparison\",\"yield\",\"html5\",\"plot\",\"military\",\"sit\",\"attach\",\"printf\",\"guarantee\",\"foster\",\"cs\",\"period\",\"strongly\",\"vertical\",\"board\",\"transformation\",\"efficiently\",\"judgment\",\"spend\",\"past\",\"arr\",\"cpu\",\"oversight\",\"continuous_integration\",\"stock\",\"tmp\",\"explanation\",\"purchase\",\"web_service\",\"minimal\",\"regional\",\"colleague\",\"immediately\",\"difficult\",\"willingness\",\"col\",\"desirable\",\"invalid\",\"hibernate\",\"pixel\",\"maximum\",\"zip\",\"flexibility\",\"programmer\",\"apk\",\"i.e.\",\"literal\",\"recently\",\"black\",\"exceed\",\"aware\",\"watch\",\"backend\",\"sap\",\"ul\",\"decimal\",\"arraylist\",\"ci\",\"nest\",\"appreciate\",\"cod\",\"inspire\",\"chance\",\"green\",\"temp\",\"op\",\"art\",\"inherit\",\"meta\",\"discover\",\"calendar\",\"alignment\",\"agent\",\"401(k\",\"verification\",\"postgresql\",\"picture\",\"retain\",\"helper\",\"temporary\",\"internally\",\"information_system\",\"mental\",\"interesting\",\"trick\",\"emerge\",\"kernel\",\"digit\",\"len\",\"fund\",\"numpy\",\"propose\",\"nsstr\",\"warn\",\"nature\",\"immediate\",\"iteration\",\"keyboard\",\"reader\",\"pro\",\"dict\",\"vary\",\"bitmap\",\"dashboard\",\"animate\",\"prop\",\"environmental\",\"accountability\",\"sun\",\"thorough\",\"regardless\",\"boost\",\"constantly\",\"light\",\"robust\",\"raw\",\"mathematic\",\"authorization\",\"padding\",\"prompt\",\"discuss\",\"correspond\",\"pdf\",\"pool\",\"myclass\",\"publish\",\"exact\",\"criterion\",\"cmd\",\"mm\",\"absolute\",\"backup\",\"csv\",\"parser\",\"capable\",\"productivity\",\"cat\",\"headquarter\",\"unicode\",\"consistently\",\"governance\",\"twitter\",\"helpful\",\"wrapper\",\"macro\",\"adjust\",\"springframework\",\"contribution\",\"piece\",\"alloc\",\"plain\",\"profit\",\"union\",\"subclass\",\"vim\",\"institution\",\"ide\",\"ubuntu\",\"advice\",\"dataset\",\"diff\",\"challenging\",\"superior\",\"moment\",\"interactive\",\"sender\",\"discriminate\",\"reliability\",\"effectiveness\",\"fortune\",\"supervisor\",\"lose\",\"defense\",\"american\",\"timeout\",\"coach\",\"worth\",\"linq\",\"scientific\",\"env\",\"ts\",\"listener\",\"pip\",\"checkbox\",\"continuously\",\"globally\",\"bi\",\"walk\",\"webkit\",\"tableview\",\"principal\",\"exec\",\"series\",\"explore\",\"regularly\",\"unable\",\"lift\",\"adhere\",\"proactive\",\"forget\",\"grant\",\"saa\",\"business_intelligence\",\"mock\",\"commerce\",\"forecast\",\"oncreate\",\"approve\",\"ssl\",\"employ\",\"mba\",\"timestamp\",\"reward\",\"expose\",\"normally\",\"cluster\",\"attend\",\"identifier\",\"overflow\",\"nosql\",\"cout\",\"mechanical\",\"paste\",\"strive\",\"recruit\",\"navigation\",\"behaviour\",\"tuple\",\"california\",\"carry\",\"unfortunately\",\"economic\",\"teamwork\",\"invoice\",\"archive\",\"mechanism\",\"skip\",\"obviously\",\"artifactid\",\"patch\",\"jpg\",\"advertising\",\"objective_c\",\"huge\",\"gap\",\"trace\",\"sponsor\",\"formal\",\"reverse\",\"navigate\",\"tomcat\",\"bound\",\"groupid\",\"audio\",\"svg\",\"maximize\",\"roll\",\"msdn\",\"hoc\",\"milestone\",\"stackoverflow\",\"agreement\",\"ship\",\"tcp\",\"collaboratively\",\"generator\",\"rename\",\"manifest\",\"onclick\",\"primarily\",\"exclude\",\"logger\",\"representation\",\"foreign\",\"ex\",\"abc\",\"intern\",\"uiview\",\"counter\",\"heap\",\"authorize\",\"myapp\",\"explicit\",\"female\",\"approval\",\"chart\",\"educational\",\"realize\",\"certify\",\"landscape\",\"etl\",\"jira\",\"adoption\",\"assert\",\"grep\",\"extremely\",\"defect\",\"executable\",\"accountable\",\"match_parent\",\"linearlayout\",\"closure\",\"welcome\",\"crash\",\"voice\",\"dot\",\"flex\",\"modal\",\"alter\",\"ancestry\",\"advise\",\"junior\",\"snippet\",\"selenium\",\"simultaneously\",\"parallel\",\"ienumerable\",\"administer\",\"checkout\",\"3rd\",\"promotion\",\"supervise\",\"signature\",\"visibility\",\"finding\",\"making\",\"partial\",\"iis\",\"inject\",\"allocation\",\"intermediate\",\"batch\",\"recruiting\",\"timer\",\"logical\",\"dependent\",\"outlook\",\"num\",\"found\",\"strict\",\"imageview\",\"liaison\",\"deprecate\",\"routine\",\"pop\",\"friendly\",\"inclusive\",\"articulate\",\"sizeof\",\"measurement\",\"skilled\",\"entrepreneurial\",\"delay\",\"criminal\",\"dedicate\",\"official\",\"architectural\",\"house\",\"reimbursement\",\"thousand\",\"lab\",\"pressure\",\"router\",\"explorer\",\"tableau\",\"emphasis\",\"processor\",\"ideally\",\"sh\",\"cpp\",\"req\",\"sector\",\"happy\",\"cash\",\"convention\",\"adobe\",\"disk\",\"sensitive\",\"typename\",\"expense\",\"mix\",\"accessible\",\"positioning\",\"sheet\",\"strength\",\"supervisory\",\"pregnancy\",\"restful\",\"imagine\",\"opening\",\"loading\",\"jvm\",\"dynamically\",\"setter\",\"modification\",\"el\",\"frequently\",\"alpha\",\"typical\",\"square\",\"binding\",\"pmp\",\"acquire\",\"workaround\",\"exercise\",\"highlight\",\"designing\",\"mining\",\"approximately\",\"automotive\",\"food\",\"negotiation\",\"rotate\",\"accurately\",\"ground\",\"unknown\",\"refresh\",\"transparent\",\"cyber\",\"obvious\",\"amazing\",\"dedicated\",\"confirm\",\"benchmark\",\"dump\",\"camera\",\"awareness\",\"buy\",\"paper\",\"x86\",\"zone\",\"negative\",\"responsive\",\"middle\",\"panel\",\"pure\",\"metadata\",\"integrated\",\"particularly\",\"negotiate\",\"committed\",\"saving\",\"pc\",\"scalability\",\"agree\",\"central\",\"iso\",\"eligible\",\"woman\",\"sa\",\"ecosystem\",\"complicated\",\"haskell\",\"ethic\",\"wpf\",\"varchar\",\"listview\",\"credential\",\"additionally\",\"legally\",\"identification\",\"concurrent\",\"s3\",\"initialization\",\"alia\",\"scheme\",\"air\",\"curious\",\"wish\",\"findviewbyid\",\"audits\",\"authority\",\"llc\",\"assistant\",\"resize\",\"relocation\",\"logging\",\"encounter\",\"implicit\",\"vm\",\"creativity\",\"quarterly\",\"crm\",\"compatibility\",\"billing\",\"th\",\"adapter\",\"mid\",\"distance\",\"rapid\",\"half\",\"friend\",\"traditional\",\"pipe\",\"messaging\",\"graduate\",\"assure\",\"sleep\",\"actionable\",\"msg\",\"iframe\",\"washington\",\"slightly\",\"anonymous\",\"mb\",\"code_review\",\"traffic\",\"shall\",\"loss\",\"possibly\",\"gui\",\"tx\",\"near\",\"occasionally\",\"gc\",\"water\",\"nslog\",\"dd\",\"recovery\",\"stdout\",\"conf\",\"advisor\",\"diagnostic\",\"savedinstancestate\",\"tier\",\"marker\",\"curl\",\"possibility\",\"numeric\",\"fair\",\"conference\",\"paced\",\"room\",\"consume\",\"cancel\",\"citizen\",\"average\",\"md\",\"retirement\",\"boundary\",\"trouble\",\"advocate\",\"kill\",\"contributor\",\"weight\",\"linear\",\"protection\",\"marketplace\",\"terminate\",\"consist\",\"investigate\",\"incorporate\",\"eligibility\",\"aspx\",\"getelementbyid\",\"safari\",\"destination\",\"awesome\",\"inquiry\",\"visa\",\"handling\",\"opt\",\"subcontractor\",\"embrace\",\"xs\",\"comply\",\"sys\",\"sponsorship\",\"outer\",\"opinion\",\"estate\",\"martin\",\"circle\",\"regression\",\"perk\",\"survey\",\"compilation\",\"coordinator\",\"instantiate\",\"champion\",\"plt\",\"javax\",\"creed\",\"territory\",\"innovate\",\"magic\",\"beginning\",\"initiate\",\"retention\",\"revision\",\"nation\",\"powershell\",\"powerful\",\"perfect\",\"healthy\",\"prospect\",\"wiki\",\"john\",\"simplify\",\"eg\",\"warehouse\",\"locale\",\"v4\",\"procurement\",\"labor\",\"junit\",\"blank\",\"lookup\",\"acceptance\",\"ax\",\"heart\",\"semantic\",\"rvm\",\"increment\",\"soon\",\"entertainment\",\"dod\",\"restore\",\"soap\",\"generous\",\"scripting_language\",\"equity\",\"calculation\",\"experiment\",\"legacy\",\"appropriately\",\"axis\",\"compatible\",\"thought\",\"clause\",\"previously\",\"ansible\",\"accredited\",\"overhead\",\"chef\",\"auth\",\"arm\",\"dimension\",\"usa\",\"jump\",\"proof\",\"operating\",\"recognition\",\"continually\",\"classification\",\"ps\",\"internship\",\"precision\",\"phd\",\"swap\",\"beta\",\"rank\",\"reconciliation\",\"tv\",\"usability\",\"forecasting\",\"exchange\",\"feed\",\"sec\",\"asynchronous\",\"t1\",\"essentially\",\"dog\",\"elegant\",\"anticipate\",\"concise\",\"shortcut\",\"academic\",\"lean\",\"serialize\",\"diagram\",\"inheritance\",\"best\",\"ai\",\"h1\",\"postgre\",\"v1\",\"simulation\",\"technically\",\"debugger\",\"man\",\"leading\",\"drawing\",\"jdk\",\"discovery\",\"radius\",\"floor\",\"rm\",\"substr\",\"fee\",\"charge\",\"escalate\",\"nan\",\"profitability\",\"inspection\",\"aa\",\"conclusion\",\"btn\",\"writer\",\"specialize\",\"civil\",\"subsidiary\",\"apt\",\"assigned\",\"weekend\",\"loader\",\"sy\",\"webview\",\"eoe\",\"meaning\",\"customize\",\"slice\",\"uicolor\",\"singleton\",\"permit\",\"overload\",\"carrier\",\"reflection\",\"uiimage\",\"natural\",\"dt\",\"hiring\",\"cool\",\"optimal\",\"await\",\"adherence\",\"storyboard\",\"threat\",\"compelling\",\"bold\",\"destroy\",\"/year\",\"acuman\",\"theory\",\"puppet\",\"sqlite\",\"ascii\",\"enforce\",\"readable\",\"compete\",\"limitation\",\"con\",\"alt\",\"invest\",\"radio\",\"version_control\",\"diploma\",\"hi\",\"animal\",\"substitute\",\"angularjs\",\"stick\",\"craft\",\"committee\",\"toolbar\",\"truly\",\"tuning\",\"personally\",\"sync\",\"stable\",\"shadow\",\"sdlc\",\"eye\",\"ls\",\"alternatively\",\"money\",\"mitigate\",\"nginx\",\"manufacture\",\"distinct\",\"lazy\",\"repair\",\"reload\",\"boston\",\"ii\",\"garbage\",\"hack\",\"prioritization\",\"confidential\",\"fairly\",\"shipping\",\"association\",\"functionally\",\"registry\",\"arrow\",\"charset\",\"mouse\",\"reserve\",\"lockheed\",\"globe\",\"immutable\",\"ecommerce\",\"placeholder\",\"intel\",\"fn\",\"entirely\",\"data_warehouse\",\"id\",\"inspect\",\"ma\",\"integral\",\"presence\",\"provision\",\"baz\",\"mindset\",\"readonly\",\"heavy\",\"manufacturer\",\"treatment\",\"permanent\",\"androidruntime\",\"registration\",\"0f\",\"3d\",\"twice\",\"perfectly\",\"matlab\",\"tight\",\"artifact\",\"utc\",\"sensor\",\"workspace\",\"firstname\",\"spreadsheet\",\"submission\",\"tactical\",\"intellij\",\"fill_parent\",\"fs\",\"pursue\",\"outline\",\"concrete\",\"discount\",\"interval\",\"initializer\",\"rout\",\"venture\",\"wellness\",\"stylesheet\",\"recruiter\",\"rewrite\",\"middleware\",\"pride\",\"kafka\",\"wikipedia\",\"privacy\",\"news\",\"st\",\"specialized\",\"forum\",\"mathematical\",\"corner\",\"v2\",\"rect\",\"texas\",\"consistency\",\"bunch\",\"eval\",\"aptitude\",\"programmatically\",\"arbitrary\",\"hierarchy\",\"scan\",\"orm\",\"coaching\",\"reuse\",\"decode\",\"expansion\",\"endpoint\",\"recursive\",\"tip\",\"packaging\",\"referral\",\"upper\",\"blah\",\"dc\",\"mitigation\",\"automatic\",\"pid\",\"accelerate\",\"thinker\",\"definitely\",\"journey\",\"r&d\",\"comma\",\"hover\",\"incident\",\"drag\",\"structured\",\"blob\",\"manipulate\",\"departmental\",\"salesforce\",\"journal\",\"wireless\",\"primitive\",\"lunch\",\"nearly\",\"de\",\"dispatch\",\"replacement\",\"teach\",\"assumption\",\"detection\",\"matplotlib\",\"indicator\",\"solver\",\"advisory\",\"fashion\",\"photo\",\"heroku\",\"typedef\",\"payable\",\"county\",\"conditional\",\"ec2\",\"minimize\",\"centric\",\"textbox\",\"worry\",\"pa\",\"officer\",\"escalation\",\"cisco\",\"potentially\",\"toggle\",\"fa\",\"xsl\",\"laboratory\",\"simulator\",\"energetic\",\"yyyy\",\"ahead\",\"investor\",\"chunk\",\"park\",\"troubleshooting\",\"t2\",\"fall\",\"demonstration\",\"behave\",\"ioexception\",\"aggregate\",\"edittext\",\"bridge\",\"educate\",\"pack\",\"hook\",\"salt\",\"dispose\",\"ptr\",\"advancement\",\"discrimination\",\"cli\",\"progressive\",\"jsp\",\"emulator\",\"na\",\"locally\",\"prime\",\"ibm\",\"hive\",\"erp\",\"eliminate\",\"rich\",\"translation\",\"rotation\",\"membership\",\"achievement\",\"corrective\",\"ny\",\"angularj\",\"tackle\",\"domestic\",\"excited\",\"popular\",\"migrate\",\"ch\",\"predictive\",\"relational_databas\",\"preserve\",\"workload\",\"holder\",\"arise\",\"ambiguity\",\"pi\",\"endl\",\"qualify\",\"alongside\",\"termination\",\"horizontal\",\"spirit\",\"whitespace\",\"stringbuilder\",\"exhibit\",\"gnu\",\"tuition\",\"ctx\",\"product_owner\",\"newline\",\"transparency\",\"backbone\",\"argv\",\"hint\",\"restrict\",\"identifie\",\"requisition\",\"youtube\",\"seattle\",\"pto\",\"python2\",\"utilization\",\"friday\",\"frequent\",\"introduction\",\"transport\",\"debugging\",\"guest\",\"stat\",\"bill\",\"sci\",\"telephone\",\"rebase\",\"campus\",\"millisecond\",\"matching\",\"productive\",\"inclusion\",\"formula\",\"guid\",\"fork\",\"sw\",\"draft\",\"specialty\",\"sharing\",\"jdbc\",\"observable\",\"placement\",\"getter\",\"aid\",\"notify\",\"micro\",\"1px\",\"commission\",\"aim\",\"base64\",\"va\",\"xaml\",\"intuitive\",\"rake\",\"activerecord\",\"variant\",\"strip\",\"anymore\",\"onsite\",\"microservice\",\"tough\",\"synchronize\",\"toast\",\"sufficient\",\"focused\",\"dataframe\",\"intelligent\",\"\\u0095\",\"managing\",\"timezone\",\"hex\",\"trial\",\"ipad\",\"nav\",\"notation\",\"populate\",\"cassandra\",\"collapse\",\"tap\",\"portion\",\"unit_testing\",\"confidentiality\",\"nsstring\",\"gathering\",\"leak\",\"proposition\",\"clarify\",\"communicator\",\"rectangle\",\"classpath\",\"nsarray\",\"valuable\",\"xxx\",\"score\",\"adb\",\"identical\",\"extended\",\"pos\",\"screenshot\",\"sick\",\"omit\",\"plant\",\"virtualization\",\"usual\",\"sprint\",\"confidence\",\"gulp\",\"nodejs\",\"ga\",\"typescript\",\"overwrite\",\"absolutely\",\"ease\",\"nuget\",\"ultimately\",\"shop\",\"organized\",\"dropdown\",\"amazon.com\",\"elasticsearch\",\"customers\\u2019\",\"flash\",\"lastname\",\"gb\",\"monad\",\"trivial\",\"earn\",\"connected\",\"pound\",\"safely\",\"ledger\",\"todo\",\"caller\",\"florida\",\"libs\",\"incumbent\",\"fi\",\"ticket\",\"accordingly\",\"satisfy\",\"pharmaceutical\",\"somewhat\",\"recyclerview\",\"divide\",\"synthesize\",\"newly\",\"operand\",\"ee\",\"textarea\",\"conjunction\",\"participation\",\"attrs\",\"hashmap\",\"curiosity\",\"bid\",\"underscore\",\"apparently\",\"utf8\",\"attack\",\"vice\",\"kb\",\"mistake\",\"indexpath\",\"fault\",\"markup\",\"expire\",\"iot\",\"vmware\",\"deeply\",\"ordinance\",\"occasional\",\"cpa\",\"unsolicited\",\"freight\",\"certainly\",\"endif\",\"interpreter\",\"bright\",\"disciplinary\",\"rewarding\",\"logistics\",\"externally\",\"sharepoint\",\"paint\",\"differently\",\"lack\",\"prohibit\",\"appearance\",\"sass\",\"compose\",\"seed\",\"trait\",\"posting\",\"street\",\"impossible\",\"grade\",\"instrument\",\"pad\",\"authenticate\",\"sustainable\",\"qt\",\"reality\",\"mask\",\"fuel\",\"object_oriented\",\"monday\",\"acceptable\",\"ret\",\"reject\",\"variance\",\"physics\",\"a1\",\"sport\",\"zoom\",\"nullable\",\"aerospace\",\"indexof\",\"colour\",\"scene\",\"los\",\"uitableview\",\"elem\",\"cc\",\"dollar\",\"parenthesis\",\"nc\",\"ant\",\"opacity\",\"browse\",\"onboarding\",\"aw\",\"streaming\",\"cv\",\"gradient\",\"kubernete\",\"dist\",\"necessarily\",\"differ\",\"node.js\",\"incorrect\",\"redi\",\"size_t\",\"snapshot\",\"scrollview\",\"encrypt\",\"loan\",\"knowledgeable\",\"sin\",\"physician\",\"atlanta\",\"classname\",\"subversion\",\"w3\",\"manipulation\",\"asp.net\",\"seq\",\"=\",\"incoming\",\"pom\",\"unexpected\",\"fraud\",\"reconcile\",\"defer\",\"observe\",\"surround\",\"participant\",\"vet\",\"trim\",\"fiddle\",\"robotic\",\"refine\",\"waste\",\"refactor\",\"designate\",\"closing\",\"mentoring\",\"installer\",\"proprietary\",\"complaint\",\"reading\",\"straight\",\"motion\",\"se\",\"attendance\",\"sb\",\"ratio\",\"filing\",\"ss\",\"openssl\",\"emergency\",\"belong\",\"preview\",\"pseudo\",\"datatype\",\"jersey\",\"correspondence\",\"layoutparam\",\"jsf\",\"computation\",\"underlie\",\"flush\",\"music\",\"dns\",\"road\",\"tick\",\"dbo\",\"tfs\",\"d3\",\"tend\",\"magazine\",\"innovator\",\"clojure\",\"volunteer\",\"compliant\",\"brew\",\"userid\",\"wealth\",\"percent\",\"hidden\",\"competitor\",\"webpack\",\"austin\",\"ambiguous\",\"v7\",\"receiver\",\"suitable\",\"moderate\",\"rand\",\"wireframe\",\"land\",\"casual\",\"evidence\",\"predicate\",\"summarize\",\"typing\",\"rid\",\"implicitly\",\"cgfloat\",\"universal\",\"viewgroup\",\"eax\",\"associated\",\"jpa\",\"cybersecurity\",\"interpretation\",\"bracket\",\"navbar\",\"slide\",\"ext\",\"wcf\",\"eventually\",\"laravel\",\"inf\",\"mess\",\"formatter\",\"amazon_web_service\",\"inflate\",\"concat\",\"ab\",\"angle\",\"massive\",\"uninstall\",\"district\",\"devise\",\"snack\",\"resident\",\"backlog\",\"hopefully\",\"beautiful\",\"careful\",\"odd\",\"percentage\",\"imply\",\"trading\",\"rel\",\"settimeout\",\"plist\",\"adjustment\",\"tail\",\"verbose\",\"motivation\",\"stability\",\"clock\",\"uiviewcontroller\",\"strange\",\"separator\",\"west\",\"css3\",\"viewdidload\",\"breakpoint\",\"readline\",\"fl\",\"p1\",\"persistence\",\"required\",\"portal\",\"budgeting\",\"xsd\",\"numerous\",\"originally\",\"emac\",\"anybody\",\"adopt\",\"persist\",\"activitythread\",\"star\",\"dim\",\"viewcontroller\",\"population\",\"panda\",\"teammate\",\"log4j\",\"vagrant\",\"anchor\",\"\\uf0b7\",\"enablement\",\"packet\",\"footer\",\"mozilla\",\"learner\",\"readiness\",\"exempt\",\"citi\",\"ini\",\"minor\",\"abstraction\",\"google_cloud\",\"runnable\",\"comparable\",\"textfield\",\"formulate\",\"grab\",\"guy\",\"kpmg\",\"getname\",\"streamline\",\"luck\",\"filesystem\",\"enthusiastic\",\"fresh\",\"mov\",\"professionally\",\"residential\",\"relativelayout\",\"encryption\",\"es6\",\"activate\",\"tar\",\"deny\",\"stash\",\"pain\",\"rf\",\"emit\",\"spanish\",\"xx\",\"fatal\",\"brief\",\"goto\",\"surface\",\"funding\",\"chase\",\"relational\",\"grasp\",\"noise\",\"b.s\",\"partition\",\"conform\",\"reputation\",\"vp\",\"relatively\",\"mutable\",\"popup\",\"convenient\",\"comprise\",\"|\",\"weak\",\"competition\",\"sophisticated\",\"grunt\",\"ar\",\"deloitte\",\"getvalue\",\"pd\",\"doe\",\"bucket\",\"similarly\",\"hotel\",\"hat\",\"gas\",\"fluent\",\"urgency\",\"uuid\",\"collateral\",\"oauth\",\"gif\",\"quot\",\"frequency\",\"h2\",\"relational_database\",\"object_orient\",\"premier\",\"shipment\",\"ef\",\"apart\",\"expensive\",\"europe\",\"wa\",\"stderr\",\"south\",\"destructor\",\"clang\",\"iterable\",\"subset\",\"retailer\",\"eager\",\"guard\",\"websocket\",\"strategically\",\"comfort\",\"attract\",\"projection\",\"stress\",\"suit\",\"restriction\",\"illustrate\",\"political\",\"broadcast\",\"microsoft_excel\",\"tablet\",\"stdin\",\"scratch\",\"pause\",\"workday\",\"upstream\",\"javadoc\",\"tf\",\"philosophy\",\"foobar\",\"unlike\",\"frontend\",\"maker\",\"fulfill\",\"settext\",\"latency\",\"firewall\",\"weird\",\"soft\",\"subview\",\"malloc\",\"generalist\",\"clarity\",\"ram\",\"submodule\",\"periodic\",\"nj\",\"validator\",\"delimiter\",\"mandatory\",\"tolist\",\"hostname\",\"latitude\",\"convey\",\"vb\",\"conceptual\",\"premium\",\"proc\",\"confusing\",\"wall\",\"accessibility\",\"oo\",\"timing\",\"spending\",\"headquarters\",\"aes\",\"respective\",\"spectrum\",\"trail\",\"rd\",\"dive\",\"tooling\",\"vital\",\"rep\",\"boot\",\"data_pipeline\",\"hybrid\",\"conversation\",\"tie\",\"cmake\",\"dell\",\"pet\",\"desc\",\"clr\",\"conn\",\"1st\",\"pod\",\"inputstream\",\"implication\",\"okay\",\"infinite\",\"kwarg\",\"unlimited\",\"prospective\",\"serialization\",\"equality\",\"chief\",\"datatable\",\"currency\",\"xyz\",\"timeit\",\"cultural\",\"httpclient\",\"fitness\",\"revert\",\"driving\",\"initially\",\"j2ee\",\"sorry\",\"desk\",\"reusable\",\"datasource\",\"httpcontext\",\"\\u2122\",\"seven\",\"ebay\",\"catalog\",\"subsequent\",\"researcher\",\"getstr\",\"subscribe\",\"layoutinflater\",\"institute\",\"myobject\",\"night\",\"instanceof\",\"behavioral\",\"leido\",\"reply\",\"cultivate\",\"lifetime\",\"rgb\",\"2nd\",\"facilitation\",\"dr\",\"opengl\",\"vulnerability\",\"daemon\",\"rare\",\"mount\",\"angele\",\"flight\",\"atomic\",\"confused\",\"prevention\",\"smooth\",\"iterative\",\"disaster\",\"gmail\",\"portable\",\"descriptor\",\"publication\",\"underlying\",\"cp\",\"md5\",\"president\",\"unnecessary\",\"confident\",\"pl\",\"gaap\",\"sized\",\"movie\",\"income\",\"ws\",\"paragraph\",\"doctype\",\"viewmodel\",\"summer\",\"blend\",\"int32\",\"delight\",\"strengthen\",\"contractual\",\"multiply\",\"mainactivity\",\"canada\",\"stub\",\"subscription\",\"jboss\",\"eq\",\"unity\",\"firmware\",\"p2\",\"getinstance\",\"consensus\",\"brace\",\"virtualenv\",\"microsoft_sql\",\"rebuild\",\"importance\",\"hris\",\"gmt\",\"dba\",\"keen\",\"interfac\",\"alternate\",\"incentive\",\"deposit\",\"wire\",\"hot\",\"concatenate\",\"completeness\",\"absence\",\"qualitative\",\"savvy\",\"chemical\",\"b2b\",\"bob\",\"truncate\",\"tune\",\"supportive\",\"hg\",\"finger\",\"artificial_intelligence\",\"visio\",\"medicine\",\"maintainable\",\"rating\",\"stroke\",\"movement\",\"v3\",\"circumstance\",\"corp\",\"actionbar\",\"ethical\",\"dosometh\",\"ambitious\",\"screening\",\"linker\",\"collector\",\"concurrency\",\"invocation\",\"ugly\",\"uiapplication\",\"dedication\",\"receipt\",\"differentiate\",\"keystore\",\"dummy\",\"autonomous\",\"intptr\",\"personality\",\"cater\",\"sustain\",\"threaded\",\"arc\",\"sketch\",\"subsystem\",\"predict\",\"mongo\",\"vertex\",\"pertain\",\"oop\",\"s1\",\"'d\",\"fmt\",\"connectivity\",\"ml\",\"spot\",\"forefront\",\"professionalism\",\"ff\",\"gaming\",\"prototyp\",\"diagnose\",\"edition\",\"receivable\",\"xhtml\",\"nsdictionary\",\"confuse\",\"elapse\",\"moz\",\"ns\",\"2d\",\"launcher\",\"gym\",\"joint\",\"broker\",\"internationally\",\"volatile\",\"appcompat\",\"lb\",\"handy\",\"decorator\",\"tdd\",\"shopping\",\"sm\",\"discretion\",\"commuter\",\"orange\",\"x86_64\",\"regexp\",\"suspect\",\"significantly\",\"splunk\",\"datepicker\",\"secondary\",\"hub\",\"arithmetic\",\"poster\",\"transactional\",\"stretch\",\"machine_learning\",\"extern\",\"10px\",\"mobility\",\"indent\",\"undergraduate\",\"revolutionize\",\"celebrate\",\"individually\",\"tooltip\",\"institutional\",\"examine\",\"die\",\"xpath\",\"evolution\",\"ordering\",\"pmo\",\"valley\",\"insure\",\"unstructured\",\"appointment\",\"simplicity\",\"door\",\"dream\",\"versus\",\"user_id\",\"dirty\",\"kpis\",\"commonly\",\"oh\",\"recursion\",\"truck\",\"lisp\",\"hop\",\"usable\",\"attachment\",\"cert\",\"0px\",\"xp\",\"belief\",\"printstacktrace\",\"reduction\",\"circuit\",\"visitor\",\"groovy\",\"privilege\",\"virginia\",\"silicon\",\"coffee\",\"flask\",\"gpu\",\"feasibility\",\"totally\",\"osx\",\"widely\",\"workshop\",\"consultation\",\"sigma\",\"dig\",\"harassment\",\"technician\",\"xhr\",\"quantity\",\"composer\",\"intellectual\",\"vote\",\"za\",\"observer\",\"behalf\",\"nationwide\",\"atmosphere\",\"restaurant\",\"robot\",\"getresource\",\"paypal\",\"mystr\",\"suffix\",\"paperwork\",\"comprehension\",\"gettype\",\"mar\",\"vast\",\"faculty\",\"oppose\",\"chapter\",\"webpage\",\"abort\",\"redis\",\"simulate\",\"cgrect\",\"tomorrow\",\"earlier\",\"redefine\",\"nsurl\",\"favorite\",\"msbuild\",\"win32\",\"mutual\",\"enumerate\",\"intersection\",\"mylist\",\"govern\",\"legend\",\"importantly\",\"persistent\",\"awk\",\"delta\",\"demonstrable\",\"straightforward\",\"iter\",\"fly\",\"pane\",\"mime\",\"classic\",\"rs\",\"confusion\",\"traceback\",\"premise\",\"clients\\u2019\",\"uilabel\",\"usb\",\"auditor\",\"fluency\",\"multitask\",\"everyday\",\"cordova\",\"complain\",\"disease\",\"rdbms\",\"tailor\",\"electric\",\"bias\",\"tester\",\"lake\",\"gson\",\"selling\",\"catalina\",\"rgba\",\"ember\",\"creator\",\"plug\",\"enthusiasm\",\"fb\",\"war\",\"listening\",\"reasoning\",\"mutex\",\"resort\",\"technologist\",\"jre\",\"mytable\",\"fulfillment\",\"ge\",\"mixed\",\"iostream\",\"disclaimer\",\"verbally\",\"inter\",\"scipy\",\"converter\",\"onload\",\"colorado\",\"remediation\",\"baseline\",\"opera\",\"sentence\",\"addeventlistener\",\"arrange\",\"discard\",\"cancer\",\"profitable\",\"cgi\",\"x1\",\"trunk\",\"uk\",\"webserver\",\"invite\",\"webdriver\",\"aggressive\",\"separately\",\"bay\",\"grammar\",\"wordpress\",\"rfc\",\"somebody\",\"freedom\",\"subprocess\",\"heavily\",\"onclicklistener\",\"barrier\",\"enrollment\",\"posix\",\"tricky\",\"es\",\"exp\",\"la\",\"bat\",\"parseint\",\"existing\",\"redux\",\"afraid\",\"equally\",\"rc\",\"seamless\",\"firebase\",\"conviction\",\"buyer\",\"convenience\",\"jpeg\",\"enumeration\",\"valueof\",\"serial\",\"viewpager\",\"contrib\",\"commensurate\",\"listing\",\"specialization\",\"compression\",\"chat\",\"occurrence\",\"x64\",\"gdb\",\"serializer\",\"s2\",\"cms\",\"substring\",\"setcontentview\",\"mortgage\",\"cutting\",\"leaf\",\"closer\",\"slot\",\"invent\",\"instrumentation\",\"assertion\",\"respectively\",\"alias\",\"outreach\",\"purchasing\",\"dirname\",\"bitbucket\",\"u.\",\"inception\",\"linkedin\",\"speech\",\"payload\",\"roi\",\"injection\",\"toarray\",\"warehousing\",\"extraordinary\",\"viewport\",\"cox\",\"innerhtml\",\"vc\",\"denver\",\"mainly\",\"spinner\",\"merchant\",\"compress\",\"tostring\",\"auditing\",\"uikit\",\"shared_ptr\",\"co.\",\"sme\",\"mod\",\"disadvantage\",\"pragma\",\"lesson\",\"strictly\",\"contingent\",\"overlap\",\"incredible\",\"segmentation\",\"reside\",\"interrupt\",\"jackson\",\"shutdown\",\"slash\",\"/hour\",\"stack_overflow\",\"precise\",\"dylib\",\"100px\",\"expr\",\"housing\",\"overlay\",\"rspec\",\"club\",\"greatly\",\"btw\",\"gitignore\",\"asia\",\"nsdata\",\"uniform\",\"hvac\",\"tensorflow\",\"cocoa\",\"virtual_machine\",\"autocomplete\",\"probability\",\"checking\",\"dest\",\"creatively\",\"variation\",\"sed\",\"navigator\",\"recreate\",\"assemble\",\"makefile\",\"station\",\"consultative\",\"involvement\",\"proceed\",\"quit\",\"confluence\",\"ap\",\"marketer\",\"lie\",\"c1\",\"r2\",\"ms_excel\",\"accountant\",\"nursing\",\"collision\",\"hh\",\"preferable\",\"merit\",\"jan\",\"dismiss\",\"reproduce\",\"plenty\",\"despite\",\"adaptable\",\"scop\",\"majority\",\"myfile\",\"counsel\",\"chr\",\"facet\",\"indexing\",\"nsdate\",\"downtown\",\"pr\",\"f1\",\"actionresult\",\"matcher\",\"pend\",\"fp\",\"mature\",\"yellow\",\"sublime\",\"cor\",\"uibutton\",\"discrepancy\",\"editing\",\"gen\",\"pdo\",\"createelement\",\"classloader\",\"kitchen\",\"razor\",\"affiliate\",\"textblock\",\"egg\",\"ping\",\"tactic\",\"enclose\",\"modifier\",\"extreme\",\"distributor\",\"ie8\",\"gateway\",\"teaching\",\"abuse\",\"x2\",\"serializable\",\"il\",\"typeerror\",\"revise\",\"semi\",\"continued\",\"johnson\",\"nexus\",\"filepath\",\"a2\",\"dealer\",\"technological\",\"longitude\",\"backgroundcolor\",\"hp\",\"lending\",\"ultimate\",\"angular2\",\"mercurial\",\"sqrt\",\"sd\",\"houston\",\"fruit\",\"px\",\"don\",\"renewal\",\"decade\",\"col1\",\"functor\",\"stringify\",\"offline\",\"uid\",\"disclosure\",\"table_name\",\"curve\",\"dash\",\"idx\",\"poor\",\"jpmorgan\",\"smtp\",\"iii\",\"contracting\",\"toolkit\",\"opencv\",\"publisher\",\"novel\",\"appender\",\"5px\",\"dimensional\",\"homebrew\",\"buf\",\"mat\",\"scrollbar\",\"bear\",\"varied\",\"notepad\",\"runner\",\"march\",\"observation\",\"faq\",\"flat\",\"mentorship\",\"dalla\",\"c2\",\"redshift\",\"backslash\",\"webapp\",\"trip\",\"mapreduce\",\"planet\",\"liaise\",\"pt\",\"loyalty\",\"subtract\",\"impactful\",\"distinguish\",\"googleapis\",\"bus\",\"estimation\",\"bottleneck\",\"asynctask\",\"nicely\",\"enumerable\",\"classified\",\"jsonobject\",\"ssis\",\"arg1\",\"annually\",\"forth\",\"engaging\",\"agenda\",\"correction\",\"extraction\",\"established\",\"rack\",\"fr\",\"symfony\",\"bytecode\",\"pwc\",\"east\",\"cls\",\"wheel\",\"argc\",\"w3c\",\"treasury\",\"unused\",\"vba\",\"orchestration\",\"photoshop\",\"bend\",\"neutral\",\"synchronization\",\"inspector\",\"gravity\",\"undo\",\"personalize\",\"portrait\",\"lieu\",\"cgrectmake\",\"mile\",\"computational\",\"soa\",\"standalone\",\"artist\",\"disappear\",\"adequate\",\"hbase\",\"concurrently\",\"dead\",\"z0\",\"mkdir\",\"overcome\",\"gz\",\"hashset\",\"scanner\",\"cr\",\"inflater\",\"laptop\",\"solr\",\"recursively\",\"intensive\",\"violation\",\"ce\",\"unsafe\",\"disclose\",\"iv\",\"digest\",\"comp\",\"sp\",\"blur\",\"pem\",\"tradeoff\",\"waterfall\",\"sc\",\"cb\",\"velocity\",\"sep\",\"ipython\",\"cleanup\",\"insertion\",\"replication\",\"rsa\",\"tenant\",\"mountain\",\"substantial\",\"discharge\",\"instant\",\"evangelize\",\"tablename\",\"agility\",\"computer_vision\",\"abreast\",\"aside\",\"anti\",\"fake\",\"terminology\",\"framelayout\",\"affordable\",\"spread\",\"opposite\",\"instagram\",\"hospitality\",\"programmatic\",\"thumb\",\"retrieval\",\"az\",\"annotate\",\"furthermore\",\"rock\",\"goldman\",\"backwards\",\"wifi\",\"affiliation\",\"dtd\",\"logo\",\"carefully\",\"useless\",\"hashcode\",\"scheduler\",\"et\",\"pow\",\"measurable\",\"eat\",\"fax\",\"spring_boot\",\"suppress\",\"normalize\",\"b1\",\"ftp\",\"nsinteger\",\"kick\",\"decrease\",\"cygwin\",\"recall\",\"nvidia\",\"alexa\",\"fiscal\",\"myarray\",\"impl\",\"fan\",\"sha\",\"mass\",\"satellite\",\"meteor\",\"stdio\",\"uitableviewcell\",\"uitextfield\",\"invalidate\",\"wear\",\"proven\",\"experimental\",\"density\",\"getclass\",\"phoenix\",\"stem\",\"hang\",\"cm\",\"upcoming\",\"motor\",\"markdown\",\"fellow\",\"caci\",\"bother\",\"lat\",\"sha1\",\"encompass\",\"contrast\",\"yml\",\"preventdefault\",\"myproject\",\"performant\",\"wildcard\",\"ceo\",\"dx\",\"alliance\",\"autonomy\",\"overnight\",\"gray\",\"bare\",\"nyse\",\"tbody\",\"rootscope\",\"mellon\",\"seriously\",\"gist\",\"threshold\",\"cascade\",\"test1\",\"fluid\",\"di\",\"fade\",\"arrive\",\"january\",\"mastery\",\"composition\",\"scm\",\"annoying\",\"test2\",\"georgia\",\"builtin\",\"crucial\",\"historical\",\"alive\",\"quo\",\"quickbook\",\"evening\",\"nsnumber\",\"rarely\",\"charter\",\"fold\",\"mono\",\"producer\",\"printer\",\"actor\",\"nsindexpath\",\"aaa\",\"aviation\",\"oem\",\"loc\",\"isolate\",\"bower\",\"adept\",\"disposition\",\"recover\",\"london\",\"philadelphia\",\"competence\",\"licensing\",\"throughput\",\"caching\",\"breakdown\",\"smith\",\"minded\",\"customization\",\"remotely\",\"rabbitmq\",\"foreground\",\"subdirectory\",\"dec\",\"keycode\",\"ton\",\"clip\",\"aka\",\"weather\",\"vi\",\"substitution\",\"aggregation\",\"contenttype\",\"pioneer\",\"wise\",\"20px\",\"verse\",\"gms\",\"ic\",\"obstacle\",\"cable\",\"merchandise\",\"setvalue\",\"constructive\",\"gear\",\"salesforce.com\",\"gzip\",\"c99\",\"roughly\",\"multipart\",\"alertdialog\",\"ada\",\"swing\",\"threading\",\"accredit\",\"nsobject\",\"appendchild\",\"yaml\",\"addsubview\",\"beneficial\",\"saas\",\"forever\",\"counseling\",\"justify\",\"preprocessor\",\"jasmine\",\">\",\"un\",\"clarification\",\"exhaustive\",\"f2\",\"public_cloud\",\"sbt\",\"fulfil\",\"mongoose\",\"semiconductor\",\"morgan\",\"ld\",\"segue\",\"submittal\",\"analyzer\",\"superclass\",\"gettime\",\"consumption\",\"collective\",\"schwab\",\"ft\",\"incremental\",\"itune\",\"byt\",\"structural\",\"cos\",\"cipher\",\"managerial\",\"babel\",\"advocacy\",\"numerical\",\"fraction\",\"nserror\",\"subordinate\",\"gate\",\"unset\",\"transit\",\"collectionview\",\"breadth\",\"uniquely\",\"javafx\",\"resharper\",\"jose\",\"netbean\",\"oil\",\"illegal\",\"excite\",\"compact\",\"ejb\",\"menuitem\",\"inbound\",\"al\",\"hearing\",\"ethnicity\",\"visualize\",\"publickeytoken\",\"unlock\",\"scalar\",\"readability\",\"forkey\",\"foot\",\"timespan\",\"del\",\"nvarchar\",\"mockito\",\"mvn\",\"metro\",\"fleet\",\"complement\",\"proguard\",\"activation\",\"simpledateformat\",\"footprint\",\"verizon\",\"codec\",\"running\",\"vertically\",\"gesture\",\"parental\",\"harness\",\"comcast\",\"briefing\",\"geography\",\"sustainability\",\"kpi\",\"dependency_injection\",\"uint\",\"scaling\",\"fig\",\"existence\",\"exemplary\",\"honest\",\"incomplete\",\"cvs\",\"doubt\",\"stl\",\"cron\",\"connector\",\"obsess\",\"mapper\",\"ssrs\",\"sake\",\"irb\",\"texture\",\"colon\",\"parking\",\"overtime\",\"teacher\",\"reinstall\",\"fargo\",\"closed\",\"determination\",\"fabric\",\"stopwatch\",\"osha\",\"fancy\",\"difficulty\",\"naturally\",\"rev\",\"perception\",\"react_native\",\"coder\",\"pharmacy\",\"dark\",\"tweak\",\"flavor\",\"h3\",\"atlassian\",\"pig\",\"precede\",\"publishing\",\"clerk\",\"executor\",\"concatenation\",\"someclass\",\"golang\",\"pursuit\",\"feb\",\"f5\",\"adult\",\"nyc\",\"xor\",\"memorystream\",\"notch\",\"redundant\",\"versa\",\"debian\",\"sach\",\"prototyping\",\"pacific\",\"accomplishment\",\"jit\",\"graphical\",\"ffmpeg\",\"zygoteinit\",\"quotation\",\"allen\",\"caveat\",\"table1\",\"geometry\",\"climb\",\"nonatomic\",\"doctrine\",\"aircraft\",\"busy\",\"season\",\"windows\",\"synchronous\",\"col2\",\"popover\",\"sdks\",\"western\",\"privately\",\"analyse\",\"abs\",\"nl\",\"flip\",\"battery\",\"python3\",\"ansi\",\"bla\",\"invoicing\",\"imperative\",\"santa\",\"outbound\",\"orderby\",\"fidelity\",\"mv\",\"ggplot\",\"d1\",\"informatica\",\"alarm\",\"keychain\",\"precedence\",\"brokerage\",\"dangerous\",\"karma\",\"affair\",\"overridden\",\"bny\",\"bundler\",\"triangle\",\"cento\",\"dress\",\"isset\",\"yrs\",\"value1\",\"organizing\",\"seo\",\"spawn\",\"codebase\",\"comparator\",\"gps\",\"stoop\",\"readme\",\"teradata\",\"resourceful\",\"dice\",\"fort\",\"interior\",\"ecmascript\",\"reveal\",\"prepared\",\"cached\",\"offshore\",\"updating\",\"ghc\",\"curriculum\",\"applied\",\"idiom\",\"menlo\",\"accommodate\",\"boarding\",\"llp\",\"lay\",\"army\",\"symlink\",\"myservice\",\"rollback\",\"subscriber\",\"storm\",\"wage\",\"satisfactorily\",\"ilist\",\"telecommunication\",\"javac\",\"textcolor\",\"consequence\",\"firebug\",\"struggle\",\"ne\",\"economy\",\"jetty\",\"userinfo\",\"drink\",\"sleeve\",\"fd\",\"founder\",\"tls\",\"listbox\",\"uiimageview\",\"nth\",\"polygraph\",\"mirror\",\"lowercase\",\"dat\",\"promotional\",\"cold\",\"log4net\",\"viable\",\"polygon\",\"pendingintent\",\"httpd\",\"200px\",\"initiation\",\"dispatcher\",\"profiling\",\"cap\",\"tl\",\"eof\",\"getcontext\",\"bluetooth\",\"gift\",\"cheap\",\"b2\",\"phonegap\",\"portland\",\"paas\",\"intervention\",\"intercept\",\"continual\",\"lg\",\"errno\",\"motionevent\",\"positively\",\"picker\",\"violate\",\"uncover\",\"nurse\",\"tm\",\"startactivity\",\"accident\",\"asc\",\"inquire\",\"sox\",\"oregon\",\"copyright\",\"eventarg\",\"literally\",\"fantastic\",\"bigdecimal\",\"seamlessly\",\"elastic\",\"composite\",\"htaccess\",\"exclusive\",\"bom\",\"encapsulate\",\"innodb\",\"atom\",\"june\",\"tile\",\"triage\",\"sizing\",\"thoroughly\",\"copying\",\"value2\",\"superintendent\",\"provisioning\",\"blueprint\",\"inference\",\"lightweight\",\"latin\",\"hypothesis\",\"sharp\",\"chip\",\"carolina\",\"expenditure\",\"reinvent\",\"templat\",\"getbyte\",\"peak\",\"continuity\",\"periodically\",\"disrupt\",\"pragmatic\",\"pin\",\"marshal\",\"nsmutablearray\",\"dozen\",\"obligation\",\"sf\",\"metal\",\"pilot\",\"node_module\",\"liability\",\"traverse\",\"chmod\",\"rhs\",\"db2\",\"pennsylvania\",\"society\",\"getitem\",\"peripheral\",\"competent\",\"announcement\",\"rfp\",\"replicate\",\"compromise\",\"arizona\",\"gis\",\"adt\",\"java_home\",\"separation\",\"erase\",\"wayfair\",\"pyplot\",\"viewholder\",\"testable\",\"accidentally\",\"decrypt\",\"raytheon\",\"p&l\",\"shader\",\"hill\",\"procedural\",\"young\",\"hdfs\",\"homeland\",\"unrelated\",\"diman\",\"nurture\",\"elevate\",\"lease\",\"mapview\",\"latlng\",\"localstorage\",\"credibility\",\"favor\",\"capitalize\",\"circular\",\"empathy\",\"localization\",\"navy\",\"clipboard\",\"viewer\",\"vista\",\"cmp\",\"o2\",\"e1\",\"putextra\",\"imaging\",\"detach\",\"var_dump\",\"50px\",\"mockup\",\"epic\",\"ko\",\"vec\",\"file1\",\"improved\",\"l2\",\"erlang\",\"outgoing\",\"mis\",\"optionally\",\"androidmanifest\",\"getsystemservice\",\"getactivity\",\"l3\",\"hourly\",\"therapy\",\"l1\",\"dst\",\"dtype\",\"collaborator\",\"dword\",\"adp\",\"quarter\",\"ethnic\",\"playstation\",\"unique_ptr\",\"arrest\",\"kit\",\"telecom\",\"clerical\",\"badge\",\"bet\",\"rvalue\",\"ut\",\"accenture\",\"merely\",\"shuffle\",\"asm\",\"extent\",\"geospatial\",\"recipe\",\"integrator\",\"pmi\",\"earth\",\"weakness\",\"slider\",\"folk\",\"deem\",\"multithread\",\"cdn\",\"recur\",\"profiler\",\"april\",\"underwriting\",\"wizard\",\"uppercase\",\"reasonably\",\"groupby\",\"unchecked\",\"deep_learn\",\"lm\",\"unified\",\"addclass\",\"wsdl\",\"cucumber\",\"experimentation\",\"incredibly\",\"downside\",\"rental\",\"pivot\",\"wholesale\",\"seal\",\"glyphicon\",\"crazy\",\"mdash\",\"locationmanager\",\"unite\",\"rounded\",\"multidisciplinary\",\"rollout\",\"kanban\",\"bilingual\",\"supplemental\",\"xslt\",\"pg\",\"thumbnail\",\"mentality\",\"beach\",\"modular\",\"spam\",\"cooperation\",\"distinction\",\"verb\",\"favicon\",\"mutate\",\"bufferedreader\",\"reliably\",\"yahoo\",\"starting\",\"lifestyle\",\"breakthrough\",\"specified\",\"0x\",\"surprise\",\"getdate\",\"curl_setopt\",\"counterpart\",\"publicly\",\"minus\",\"standardized\",\"navigationcontroller\",\"informed\",\"sqlalchemy\",\"nonprofit\",\"coworker\",\"callable\",\"apache2\",\"pe\",\"delphi\",\"arg2\",\"phrase\",\"licensure\",\"decent\",\"anyobject\",\"oct\",\"optical\",\"2px\",\"demeanor\",\"ds\",\"slf4j\",\"scrolltop\",\"seminar\",\"ed\",\"sop\",\"specifier\",\"mp4\",\"itil\",\"diligence\",\"contingency\",\"csrf\",\"persona\",\"clinic\",\"satisfied\",\"debt\",\"juggle\",\"objc\",\"clue\",\"bubble\",\"symbolic\",\"uiscrollview\",\"disparate\",\"maturity\",\"maintainability\",\"php5\",\"cv2\",\"incompatible\",\"endless\",\"bandwidth\",\"cur\",\"sharedapplication\",\"ideation\",\"informal\",\"cgpoint\",\"terraform\",\"gl\",\"ldap\",\"beginner\",\"nlp\",\"notebook\",\"adaptive\",\"retrofit\",\"indirect\",\"newinstance\",\"signing\",\"esp\",\"ie9\",\"deserialize\",\"prediction\",\"ph.d\",\"thoughtful\",\"pertinent\",\"clever\",\"hsa\",\"biology\",\"samsung\",\"precisely\",\"gettext\",\"pivotal\",\"uncheck\",\"semicolon\",\"udp\",\"trillion\",\"decorate\",\"d2\",\"glob\",\"civilian\",\"youth\",\"shoot\",\"comprehend\",\"outlet\",\"hudson\",\"consecutive\",\"ordinary\",\"inset\",\"nasdaq\",\"invisible\",\"maketext\",\"emphasize\",\"solicit\",\"unit_test\",\"worksheet\",\"magnitude\",\"infer\",\"vr\",\"tolerance\",\"xamarin\",\"cad\",\"mvvm\",\"toolset\",\"unparalleled\",\"airport\",\"sandbox\",\"sqlite3\",\"nationally\",\"mixin\",\"sugar\",\"bitwise\",\"gwt\",\"evil\",\"robert\",\"continuation\",\"rationale\",\"bmp\",\"pk\",\"osgi\",\"lxml\",\"y1\",\"rise\",\"purely\",\"strlen\",\"transmission\",\"refuse\",\"visually\",\"fallback\",\"runtimeexception\",\"insensitive\",\"lifting\",\"instruct\",\"dbcontext\",\"neat\",\"bashrc\",\"equation\",\"winform\",\"emulate\",\"evt\",\"reboot\",\"constituent\",\"glassdoor\",\"power_point\",\"mandate\",\"lvalue\",\"lower\",\"kneel\",\"fda\",\"setattribute\",\"disseminate\",\"knit\",\"sequential\",\"newvalue\",\"dual\",\"advertiser\",\"itertool\",\"r1\",\"augment\",\"surgical\",\"disruptive\",\"spin\",\"9a\",\"staging\",\"geographic\",\"w2\",\"v8\",\"xrange\",\"hipaa\",\"horizontally\",\"damage\",\"onboard\",\"cart\",\"unchanged\",\"indentation\",\"entrepreneur\",\"tasking\",\"maryland\",\"removal\",\"workbridge\",\"developmental\",\"tiny\",\"e2\",\"passport\",\"diversify\",\"recipient\",\"uifont\",\"enforcement\",\"lua\",\"fiber\",\"pub\",\"startdate\",\"norm\",\"constexpr\",\"soc\",\"accessor\",\"lorem\",\"sorted\",\"supplement\",\"living\",\"unusual\",\"progressbar\",\"cuda\",\"penske\",\"logout\",\"increasingly\",\"multiplication\",\"unlikely\",\"doesn\",\"prepend\",\"partially\",\"confirmation\",\"freeze\",\"shut\",\"inverse\",\"trap\",\"beverage\",\"kotlin\",\"liner\",\"xsi\",\"influencer\",\"standardize\",\"aslist\",\"fx\",\"adaptability\",\"lighting\",\"warranty\",\"uploaded\",\"scss\",\"plane\",\"transcript\",\"sensitivity\",\"ethernet\",\"booz\",\"shorthand\",\"combobox\",\"httppost\",\"illustrator\",\"truth\",\"layout_weight\",\"safeguard\",\"sla\",\"joe\",\"banner\",\"pivot_table\",\"pittsburgh\",\"ln\",\"plumbing\",\"\\uf0a7\",\"m2\",\"1l\",\"standing\",\"rax\",\"ltd\",\"greet\",\"planner\",\"subcontract\",\"stupid\",\"objectatindex\",\"unload\",\"invision\",\"crawl\",\"dp\",\"corrupt\",\"temperature\",\"deletion\",\"stmt\",\"2f\",\"dl\",\"uml\",\"dropbox\",\"mailing\",\"fixture\",\"initwithframe\",\"classroom\",\"p.m.\",\"drawer\",\"david\",\"webservice\",\"routing\",\"allowance\",\"idle\",\"instantiation\",\"ipsum\",\"dao\",\"mysite\",\"derivative\",\"bulk\",\"attacker\",\"push_back\",\"edi\",\"walmart\",\"nib\",\"silly\",\"awt\",\"denote\",\"tower\",\"elif\",\"concisely\",\"crop\",\"skillset\",\"sole\",\"hey\",\"accessory\",\"thin\",\"pickle\",\"repeatable\",\"polymorphism\",\"fff\",\"webapi\",\"aecom\",\"targettype\",\"asynchronously\",\"bamboo\",\"surprised\",\"morning\",\"arch\",\"looper\",\"hpp\",\"exceptionally\",\"alto\",\"crew\",\"cl\",\"setonclicklistener\",\"rigorous\",\"charsequence\",\"ambition\",\"seasoned\",\"a.m.\",\"crypto\",\"narrow\",\"ev\",\"nov\",\"appdynamic\",\"onchange\",\"coursework\",\"isinstance\",\"phr\",\"peoplesoft\",\"shrink\",\"nunit\",\"arrangement\",\"virtualbox\",\"startswith\",\"tremendous\",\"dry\",\"erm\",\"obsolete\",\"rubygem\",\"charlotte\",\"ct\",\"governmental\",\"magento\"],\"word\":[\"-PRON-\",\"gt\",\"lt\",\"use\",\"work\",\"experience\",\"team\",\"new\",\"project\",\"datum\",\"product\",\"need\",\"system\",\"function\",\"file\",\"include\",\"skill\",\"value\",\"class\",\"require\",\"development\",\"business\",\"code\",\"like\",\"service\",\"time\",\"support\",\"software\",\"customer\",\"return\",\"year\",\"create\",\"application\",\"ability\",\"design\",\"string\",\"type\",\"management\",\"provide\",\"solution\",\"c\",\"good\",\"day\",\"process\",\"test\",\"'s\",\"set\",\"build\",\"android\",\"develop\",\"user\",\"want\",\"technology\",\"change\",\"method\",\"object\",\"client\",\"way\",\"program\",\"add\",\"problem\",\"public\",\"x\",\"environment\",\"job\",\"write\",\"company\",\"technical\",\"requirement\",\"java\",\"example\",\"look\",\"manage\",\"knowledge\",\"strong\",\"key\",\"\\u2019s\",\"int\",\"+\",\"position\",\"ago\",\"base\",\"run\",\"find\",\"opportunity\",\"try\",\"help\",\"result\",\"follow\",\"manager\",\"list\",\"tool\",\"error\",\"information\",\"ensure\",\"end\",\"var\",\"case\",\"http\",\"e\",\"communication\",\"engineering\",\"com\",\"lead\",\"level\",\"high\",\"responsibility\",\"app\",\"degree\",\"line\",\"employee\",\"issue\",\"view\",\"b\",\"drive\",\"field\",\"maintain\",\"self\",\"engineer\",\"text\",\"version\",\"know\",\"plan\",\"performance\",\"web\",\"status\",\"implement\",\"define\",\"true\",\"array\",\"resource\",\"s\",\"update\",\"quality\",\"report\",\"qualification\",\"request\",\"database\",\"perform\",\"etc\",\"select\",\"sale\",\"people\",\"server\",\"role\",\"start\",\"state\",\"check\",\"window\",\"number\",\"analysis\",\"able\",\"model\",\"element\",\"multiple\",\"html\",\"t\",\"python\",\"n\",\"operation\",\"document\",\"source\",\"property\",\"null\",\"content\",\"risk\",\"git\",\"standard\",\"void\",\"implementation\",\"platform\",\"item\",\"control\",\"r\",\"option\",\"security\",\"apply\",\"data\",\"industry\",\"group\",\"answer\",\"import\",\"world\",\"responsible\",\"table\",\"activity\",\"point\",\"div\",\"task\",\"organization\",\"large\",\"member\",\"candidate\",\"question\",\"path\",\"understand\",\"deliver\",\"thing\",\"internal\",\"solve\",\"order\",\"color\",\"script\",\"right\",\"excellent\",\"event\",\"open\",\"different\",\"access\",\"understanding\",\"practice\",\"benefit\",\"action\",\"relate\",\"equal\",\"read\",\"default\",\"professional\",\"variable\",\"location\",\"and/or\",\"prefer\",\"image\",\"exist\",\"bachelor\",\"marketing\",\"financial\",\"page\",\"foo\",\"note\",\"partner\",\"current\",\"complex\",\"strategy\",\"static\",\"global\",\"javascript\",\"market\",\"think\",\"input\",\"testing\",\"identify\",\"execute\",\"false\",\"d\",\"package\",\"log\",\"office\",\"join\",\"size\",\"employment\",\"education\",\"form\",\"library\",\"background\",\"individual\",\"area\",\"demonstrate\",\"local\",\"reference\",\"feature\",\"framework\",\"post\",\"date\",\"plus\",\"mean\",\"g\",\"developer\",\"fast\",\"review\",\"long\",\"url\",\"meet\",\"main\",\"focus\",\"command\",\"documentation\",\"disability\",\"store\",\"instead\",\"learn\",\"p\",\"let\",\"f\",\"account\",\"net\",\"functional\",\"allow\",\"related\",\"detail\",\"y\",\"private\",\"org\",\"simple\",\"assist\",\"interface\",\"duty\",\"research\",\"possible\",\"message\",\"communicate\",\"protect\",\"equivalent\",\"training\",\"life\",\"specific\",\"sql\",\"offer\",\"query\",\"scope\",\"click\",\"index\",\"language\",\"api\",\"employer\",\"edit\",\"pass\",\"link\",\"thread\",\"style\",\"php\",\"minimum\",\"site\",\"context\",\"relationship\",\"leadership\",\"map\",\"assign\",\"grow\",\"goal\",\"instance\",\"print\",\"great\",\"complete\",\"policy\",\"cloud\",\"xml\",\"remove\",\"analytic\",\"output\",\"load\",\"button\",\"success\",\"improve\",\"microsoft\",\"highly\",\"record\",\"contain\",\"match\",\"google\",\"handle\",\"m\",\"procedure\",\"network\",\"commit\",\"senior\",\"parameter\",\"non\",\"schedule\",\"idea\",\"cross\",\"module\",\"enable\",\"health\",\"second\",\"bit\",\"available\",\"generate\",\"place\",\"delivery\",\"come\",\"accounting\",\"exception\",\"js\",\"directory\",\"applicant\",\"architecture\",\"project_management\",\"o\",\"format\",\"core\",\"css\",\"jquery\",\"description\",\"search\",\"planning\",\"effectively\",\"release\",\"width\",\"enterprise\",\"computer_science\",\"approach\",\"veteran\",\"sure\",\"origin\",\"json\",\"consider\",\"difference\",\"department\",\"device\",\"component\",\"decision\",\"staff\",\"column\",\"close\",\"copy\",\"target\",\"regard\",\"external\",\"center\",\"general\",\"character\",\"configuration\",\"scale\",\"master\",\"row\",\"national\",\"range\",\"agile\",\"bar\",\"mobile\",\"track\",\"install\",\"expression\",\"orientation\",\"hand\",\"std\",\"execution\",\"coordinate\",\"console\",\"address\",\"easy\",\"display\",\"str\",\"analyze\",\"direct\",\"attribute\",\"word\",\"desire\",\"production\",\"response\",\"share\",\"compile\",\"argument\",\"expect\",\"length\",\"small\",\"browser\",\"memory\",\"real\",\"appropriate\",\"space\",\"gender\",\"compliance\",\"fix\",\"similar\",\"leader\",\"leave\",\"statement\",\"participate\",\"seek\",\"stakeholder\",\"height\",\"receive\",\"send\",\"serve\",\"pay\",\"strategic\",\"block\",\"override\",\"infrastructure\",\"improvement\",\"linux\",\"contract\",\"computer\",\"relevant\",\"single\",\"human\",\"actually\",\"cost\",\"controller\",\"analytical\",\"impact\",\"initiative\",\"successful\",\"expertise\",\"programming\",\"future\",\"basic\",\"care\",\"node\",\"community\",\"debug\",\"identity\",\"collaborate\",\"associate\",\"travel\",\"https\",\"header\",\"term\",\"achieve\",\"h\",\"specify\",\"directly\",\"pattern\",\"vision\",\"growth\",\"v\",\"age\",\"medical\",\"collection\",\"necessary\",\"delete\",\"template\",\"establish\",\"resolve\",\"title\",\"person\",\"concept\",\"tag\",\"monitor\",\"structure\",\"stack\",\"career\",\"integration\",\"challenge\",\"effective\",\"automation\",\"branch\",\"inside\",\"qualified\",\"advanced\",\"reporting\",\"byte\",\"prepare\",\"custom\",\"convert\",\"verbal\",\"unit\",\"mission\",\"ms\",\"additional\",\"$\",\"loop\",\"competitive\",\"race\",\"def\",\"compiler\",\"step\",\"count\",\"critical\",\"ui\",\"clear\",\"prove\",\"law\",\"setting\",\"dynamic\",\"config\",\"home\",\"closely\",\"multi\",\"reason\",\"replace\",\"lot\",\"preferred\",\"essential\",\"orient\",\"visual\",\"digital\",\"break\",\"hire\",\"save\",\"presentation\",\"summary\",\"evaluate\",\"construction\",\"integer\",\"bring\",\"budget\",\"final\",\"throw\",\"comment\",\"conduct\",\"root\",\"www\",\"primary\",\"present\",\"sexual\",\"currently\",\"folder\",\"happen\",\"hour\",\"thank\",\"innovative\",\"common\",\"connect\",\"vendor\",\"religion\",\"email\",\"objective\",\"inc\",\"fail\",\"medium\",\"studio\",\"child\",\"culture\",\"filter\",\"double\",\"ruby\",\"container\",\"hr\",\"os\",\"matter\",\"meeting\",\"algorithm\",\"organizational\",\"building\",\"certification\",\"operational\",\"limit\",\"old\",\"determine\",\"mysql\",\"yes\",\"correct\",\"body\",\"operator\",\"expert\",\"connection\",\"extend\",\"insurance\",\"push\",\"big\",\"parent\",\"recommend\",\"condition\",\"technique\",\"excel\",\"session\",\"methodology\",\"dependency\",\"effort\",\"layout\",\"char\",\"simply\",\"provider\",\"bind\",\"const\",\"capability\",\"li\",\"deployment\",\"contact\",\"echo\",\"lib\",\"specification\",\"sort\",\"free\",\"src\",\"automate\",\"entry\",\"unique\",\"innovation\",\"tell\",\"plugin\",\"analyst\",\"probably\",\"salary\",\"hardware\",\"pointer\",\"important\",\"doc\",\"label\",\"password\",\"diverse\",\"rule\",\"consumer\",\"agency\",\"ios\",\"finance\",\"depend\",\"constructor\",\"box\",\"processing\",\"launch\",\"github\",\"behavior\",\"modify\",\"administration\",\"distribute\",\"repository\",\"variety\",\"short\",\"direction\",\"ask\",\"instal\",\"float\",\"insight\",\"head\",\"priority\",\"pace\",\"domain\",\"extension\",\"regular\",\"material\",\"insert\",\"contribute\",\"cache\",\"produce\",\"basis\",\"federal\",\"info\",\"submit\",\"play\",\"physical\",\"brand\",\"cycle\",\"course\",\"host\",\"apache\",\"screen\",\"passion\",\"creative\",\"original\",\"solid\",\"act\",\"stream\",\"asset\",\"special\",\"entity\",\"accept\",\"familiarity\",\"sex\",\"hard\",\"mode\",\"assume\",\"section\",\"operate\",\"maintenance\",\"aws\",\"intent\",\"definition\",\"overall\",\"remote\",\"video\",\"oracle\",\"wide\",\"catch\",\"purpose\",\"download\",\"transform\",\"involve\",\"safety\",\"deep\",\"timely\",\"corporate\",\"month\",\"e.g.\",\"firm\",\"discipline\",\"valid\",\"compensation\",\"power\",\"frame\",\"website\",\"db\",\"equipment\",\"param\",\"represent\",\"previous\",\"td\",\"machine\",\"j\",\"continue\",\"integrate\",\"bin\",\"party\",\"bs\",\"syntax\",\"subject\",\"believe\",\"active\",\"independently\",\"online\",\"interpersonal\",\"face\",\"eclipse\",\"metric\",\"government\",\"major\",\"family\",\"turn\",\"declare\",\"deploy\",\"potential\",\"fine\",\"describe\",\"quickly\",\"choose\",\"rail\",\"parse\",\"rest\",\"trend\",\"following\",\"progress\",\"increase\",\"span\",\"commercial\",\"proficiency\",\"storage\",\"avoid\",\"executive\",\"arg\",\"million\",\"utilize\",\"daily\",\"passionate\",\"healthcare\",\"hash\",\"collaboration\",\"angular\",\"z\",\"supply\",\"applicable\",\"principle\",\"aspect\",\"pre\",\"switch\",\"consideration\",\"portfolio\",\"font\",\"manner\",\"recommendation\",\"efficient\",\"resume\",\"completion\",\"useful\",\"wrong\",\"explain\",\"guide\",\"clean\",\"l\",\"late\",\"init\",\"bug\",\"auto\",\"outside\",\"optimize\",\"super\",\"bool\",\"hello\",\"u\",\"stop\",\"handler\",\"tab\",\"transaction\",\"successfully\",\"attention\",\"usr\",\"personal\",\"little\",\"protocol\",\"cell\",\"functionality\",\"ideal\",\"live\",\"visit\",\"k\",\"driver\",\"apple\",\"addition\",\"kind\",\"influence\",\"director\",\"sample\",\"flexible\",\"low\",\"situation\",\"expand\",\"boolean\",\"demand\",\"positive\",\"datetime\",\"history\",\"today\",\"appear\",\"oversee\",\"shell\",\"vs\",\"devop\",\"compare\",\"render\",\"product_management\",\"align\",\"edge\",\"resolution\",\"py\",\"social\",\"math\",\"love\",\"hide\",\"merge\",\"sense\",\"facilitate\",\"enter\",\"possess\",\"collaborative\",\"locate\",\"schema\",\"begin\",\"configure\",\"stuff\",\"force\",\"talent\",\"suggest\",\"deal\",\"motivated\",\"phone\",\"nil\",\"miss\",\"entire\",\"w\",\"license\",\"exactly\",\"profile\",\"personnel\",\"deliverable\",\"assignment\",\"prior\",\"prototype\",\"mention\",\"xcode\",\"leverage\",\"continuous\",\"particular\",\"random\",\"val\",\"chain\",\"dental\",\"far\",\"alert\",\"united\",\"usage\",\"automatically\",\"interact\",\"qa\",\"safe\",\"setup\",\"bundle\",\"obtain\",\"menu\",\"actual\",\"sql_server\",\"architect\",\"hold\",\"ajax\",\"comprehensive\",\"science\",\"facility\",\"append\",\"obj\",\"player\",\"prioritize\",\"println\",\"fact\",\"embed\",\"category\",\"translate\",\"port\",\"func\",\"usually\",\"namespace\",\"trust\",\"runtime\",\"spring\",\"forward\",\"feedback\",\"mvc\",\"enhance\",\"generation\",\"txt\",\"lifecycle\",\"shift\",\"validation\",\"export\",\"io\",\"optimization\",\"ok\",\"encode\",\"country\",\"credit\",\"pretty\",\"monitoring\",\"revenue\",\"logistic\",\"deadline\",\"maven\",\"figure\",\"struct\",\"scala\",\"jar\",\"separate\",\"flow\",\"proficient\",\"internet\",\"organize\",\"facebook\",\"docker\",\"tree\",\"bad\",\"designer\",\"channel\",\"university\",\"constant\",\"interaction\",\"assembly\",\"href\",\"quote\",\"interested\",\"regulation\",\"efficiency\",\"article\",\"fun\",\"register\",\"fill\",\"sign\",\"measure\",\"username\",\"modern\",\"gem\",\"chrome\",\"utf\",\"ignore\",\"django\",\"max\",\"exceptional\",\"city\",\"accord\",\"engagement\",\"suite\",\"c++\",\"shape\",\"combination\",\"buffer\",\"swift\",\"vector\",\"normal\",\"dev\",\"permission\",\"u.s\",\"ux\",\"guidance\",\"layer\",\"detailed\",\"instruction\",\"filename\",\"notice\",\"game\",\"token\",\"payment\",\"asp\",\"balance\",\"cover\",\"constraint\",\"engine\",\"school\",\"commitment\",\"effect\",\"machine_learn\",\"assessment\",\"recognize\",\"investment\",\"big_data\",\"native\",\"\\u2019\",\"alternative\",\"accurate\",\"nice\",\"reach\",\"regulatory\",\"border\",\"clearance\",\"cause\",\"whatev\",\"accommodation\",\"oral\",\"integrity\",\"ready\",\"wait\",\"secure\",\"combine\",\"phase\",\"total\",\"choice\",\"callback\",\"route\",\"clinical\",\"ng\",\"warning\",\"respond\",\"engage\",\"scalable\",\"international\",\"easily\",\"refer\",\"later\",\"basically\",\"expectation\",\"bash\",\"zero\",\"exit\",\"comfortable\",\"patient\",\"selector\",\"invoke\",\"student\",\"ip\",\"virtual\",\"letter\",\"evaluation\",\"tech\",\"reduce\",\"promote\",\"interest\",\"sub\",\"advance\",\"san\",\"icon\",\"finally\",\"mentor\",\"affirmative\",\"hope\",\"ad\",\"advantage\",\"roadmap\",\"creation\",\"installation\",\"verify\",\"broad\",\"assistance\",\"troubleshoot\",\"sound\",\"binary\",\"extra\",\"week\",\"consistent\",\"monthly\",\"flag\",\"energy\",\"relation\",\"proper\",\"manual\",\"diversity\",\"significant\",\"college\",\"blog\",\"enjoy\",\"min\",\"foreach\",\"interpret\",\"unix\",\"reasonable\",\"scrum\",\"fit\",\"delegate\",\"prevent\",\"america\",\"distribution\",\"margin\",\"amazon\",\"extensive\",\"experienced\",\"bootstrap\",\"ie\",\"division\",\"validate\",\"disable\",\"study\",\"maybe\",\"consulting\",\"bank\",\"trigger\",\"writing\",\"tracking\",\"occur\",\"split\",\"talented\",\"characteristic\",\"clearly\",\"pull\",\"lock\",\"book\",\"assurance\",\"logic\",\"legal\",\"contractor\",\"encourage\",\"feel\",\"manufacturing\",\"red\",\"certain\",\"sequence\",\"nbsp\",\"wrap\",\"marital\",\"capital\",\"command_line\",\"overview\",\"annual\",\"dialog\",\"react\",\"q\",\"collect\",\"statistical\",\"png\",\"fragment\",\"win\",\"generic\",\"lang\",\"years\\u2019\",\"specifically\",\"sdk\",\"exe\",\"audit\",\"tostr\",\"estimate\",\"gradle\",\"smart\",\"login\",\"startup\",\"correctly\",\"ongoing\",\"util\",\"depth\",\"workflow\",\"fully\",\"talk\",\"draw\",\"initialize\",\"modeling\",\"assess\",\"owner\",\"capture\",\"dictionary\",\"thinking\",\"certificate\",\"apis\",\"tr\",\"mark\",\"undefined\",\"selection\",\"speed\",\"genetic\",\"cookie\",\"properly\",\"supervision\",\"lambda\",\"learning\",\"typically\",\"coordination\",\"excellence\",\"accuracy\",\"matrix\",\"train\",\"audience\",\"img\",\"bean\",\"especially\",\"scroll\",\"builder\",\"enum\",\"scientist\",\"demo\",\"preferably\",\"region\",\"queue\",\"drop\",\"electrical\",\"quick\",\"drawable\",\"administrative\",\"regex\",\"dll\",\"ownership\",\"proposal\",\"conversion\",\"sum\",\"stay\",\"networking\",\"independent\",\"mac\",\"directive\",\"bonus\",\"press\",\"mind\",\"socket\",\"partnership\",\"express\",\"finish\",\"guideline\",\"outcome\",\"slow\",\"story\",\"respect\",\"hadoop\",\"interview\",\"touch\",\"pipeline\",\"initial\",\"exciting\",\"widget\",\"scenario\",\"npm\",\"electronic\",\"animation\",\"statistic\",\"rb\",\"repeat\",\"pair\",\"uri\",\"editor\",\"corporation\",\"layout_width\",\"cut\",\"user_experience\",\"layout_height\",\"declaration\",\"representative\",\"spark\",\"attempt\",\"upgrade\",\"textview\",\"en\",\"worker\",\"preference\",\"keyword\",\"accomplish\",\"svn\",\"manually\",\"concern\",\"optional\",\"gain\",\"factor\",\"generally\",\"better\",\"relative\",\"consultant\",\"coding\",\"cast\",\"pm\",\"programming_language\",\"affect\",\"construct\",\"sudo\",\"df\",\"billion\",\"visible\",\"actively\",\"extract\",\"notification\",\"staffing\",\"remain\",\"perl\",\"inline\",\"detect\",\"gcc\",\"rapidly\",\"left\",\"conflict\",\"quantitative\",\"north\",\"minute\",\"worldwide\",\"workplace\",\"jenkin\",\"iterate\",\"annotation\",\"york\",\"dom\",\"thrive\",\"preparation\",\"sell\",\"mail\",\"intelligence\",\"familiar\",\"english\",\"ref\",\"transfer\",\"operating_system\",\"reset\",\"symbol\",\"xmln\",\"suppose\",\"completely\",\"exposure\",\"peer\",\"guess\",\"white\",\"explicitly\",\"inventory\",\"enhancement\",\"disabled\",\"coverage\",\"iphone\",\"raise\",\"satisfaction\",\"co\",\"localhost\",\"acquisition\",\"wonder\",\"grid\",\"timeline\",\"wrap_content\",\"transition\",\"supplier\",\"authentication\",\"retail\",\"starter\",\"attr\",\"volume\",\"transportation\",\"dir\",\"cd\",\"offering\",\"rate\",\"early\",\"scripting\",\"401k\",\"card\",\"mapping\",\"cursor\",\"likely\",\"redirect\",\"powerpoint\",\"eeo\",\"drug\",\"duplicate\",\"citizenship\",\"err\",\"workforce\",\"adapt\",\"fire\",\"gather\",\"indicate\",\"capacity\",\"repo\",\"promise\",\"upload\",\"empower\",\"introduce\",\"working\",\"practical\",\"sr\",\"factory\",\"signal\",\"compute\",\"trade\",\"stage\",\"program_management\",\"utility\",\"visualization\",\"complexity\",\"reliable\",\"topic\",\"car\",\"pricing\",\"pick\",\"recruitment\",\"stand\",\"intend\",\"proactively\",\"recent\",\"data_science\",\"abstract\",\"minority\",\"azure\",\"consult\",\"desktop\",\"admin\",\"theme\",\"spec\",\"ba\",\"attitude\",\"tax\",\"canvas\",\"proud\",\"np\",\"banking\",\"reflect\",\"vehicle\",\"remember\",\"graphic\",\"iterator\",\"evolve\",\"hit\",\"decide\",\"foundation\",\"competency\",\"author\",\"accordance\",\"limited\",\"faster\",\"willing\",\"tutorial\",\"holiday\",\"encoding\",\"br\",\"retrieve\",\"scheduling\",\"discussion\",\"claim\",\"typeof\",\"ctrl\",\"migration\",\"inner\",\"secret\",\"investigation\",\"rely\",\"mongodb\",\"payroll\",\"succeed\",\"firefox\",\"away\",\"availability\",\"allocate\",\"speak\",\"meaningful\",\"calculate\",\"award\",\"fetch\",\"servlet\",\"proxy\",\"duration\",\"weekly\",\"jsfiddle\",\"price\",\"escape\",\"derive\",\"longer\",\"perspective\",\"round\",\"writeline\",\"industrial\",\"unsigned\",\"outstanding\",\"specialist\",\"suggestion\",\"prefix\",\"campaign\",\"hospital\",\"listen\",\"terminal\",\"vacation\",\"hear\",\"restart\",\"fundamental\",\"couple\",\"clone\",\"administrator\",\"graph\",\"francisco\",\"async\",\"\\u00ae\",\"inform\",\"treat\",\"blue\",\"segment\",\"offset\",\"computing\",\"ssh\",\"failure\",\".net\",\"motivate\",\"comparison\",\"yield\",\"html5\",\"plot\",\"military\",\"sit\",\"attach\",\"printf\",\"guarantee\",\"foster\",\"cs\",\"period\",\"strongly\",\"vertical\",\"board\",\"transformation\",\"efficiently\",\"judgment\",\"spend\",\"past\",\"arr\",\"cpu\",\"oversight\",\"continuous_integration\",\"stock\",\"tmp\",\"explanation\",\"purchase\",\"web_service\",\"minimal\",\"regional\",\"colleague\",\"immediately\",\"difficult\",\"willingness\",\"col\",\"desirable\",\"invalid\",\"hibernate\",\"pixel\",\"maximum\",\"zip\",\"flexibility\",\"programmer\",\"apk\",\"i.e.\",\"literal\",\"recently\",\"black\",\"exceed\",\"aware\",\"watch\",\"backend\",\"sap\",\"ul\",\"decimal\",\"arraylist\",\"ci\",\"nest\",\"appreciate\",\"cod\",\"inspire\",\"chance\",\"green\",\"temp\",\"op\",\"art\",\"inherit\",\"meta\",\"discover\",\"calendar\",\"alignment\",\"agent\",\"401(k\",\"verification\",\"postgresql\",\"picture\",\"retain\",\"helper\",\"temporary\",\"internally\",\"information_system\",\"mental\",\"interesting\",\"trick\",\"emerge\",\"kernel\",\"digit\",\"len\",\"fund\",\"numpy\",\"propose\",\"nsstr\",\"warn\",\"nature\",\"immediate\",\"iteration\",\"keyboard\",\"reader\",\"pro\",\"dict\",\"vary\",\"bitmap\",\"dashboard\",\"animate\",\"prop\",\"environmental\",\"accountability\",\"sun\",\"thorough\",\"regardless\",\"boost\",\"constantly\",\"light\",\"robust\",\"raw\",\"mathematic\",\"authorization\",\"padding\",\"prompt\",\"discuss\",\"correspond\",\"pdf\",\"pool\",\"myclass\",\"publish\",\"exact\",\"criterion\",\"cmd\",\"mm\",\"absolute\",\"backup\",\"csv\",\"parser\",\"capable\",\"productivity\",\"cat\",\"headquarter\",\"unicode\",\"consistently\",\"governance\",\"twitter\",\"helpful\",\"wrapper\",\"macro\",\"adjust\",\"springframework\",\"contribution\",\"piece\",\"alloc\",\"plain\",\"profit\",\"union\",\"subclass\",\"vim\",\"institution\",\"ide\",\"ubuntu\",\"advice\",\"dataset\",\"diff\",\"challenging\",\"superior\",\"moment\",\"interactive\",\"sender\",\"discriminate\",\"reliability\",\"effectiveness\",\"fortune\",\"supervisor\",\"lose\",\"defense\",\"american\",\"timeout\",\"coach\",\"worth\",\"linq\",\"scientific\",\"env\",\"ts\",\"listener\",\"pip\",\"checkbox\",\"continuously\",\"globally\",\"bi\",\"walk\",\"webkit\",\"tableview\",\"principal\",\"exec\",\"series\",\"explore\",\"regularly\",\"unable\",\"lift\",\"adhere\",\"proactive\",\"forget\",\"grant\",\"saa\",\"business_intelligence\",\"mock\",\"commerce\",\"forecast\",\"oncreate\",\"approve\",\"ssl\",\"employ\",\"mba\",\"timestamp\",\"reward\",\"expose\",\"normally\",\"cluster\",\"attend\",\"identifier\",\"overflow\",\"nosql\",\"cout\",\"mechanical\",\"paste\",\"strive\",\"recruit\",\"navigation\",\"behaviour\",\"tuple\",\"california\",\"carry\",\"unfortunately\",\"economic\",\"teamwork\",\"invoice\",\"archive\",\"mechanism\",\"skip\",\"obviously\",\"artifactid\",\"patch\",\"jpg\",\"advertising\",\"objective_c\",\"huge\",\"gap\",\"trace\",\"sponsor\",\"formal\",\"reverse\",\"navigate\",\"tomcat\",\"bound\",\"groupid\",\"audio\",\"svg\",\"maximize\",\"roll\",\"msdn\",\"hoc\",\"milestone\",\"stackoverflow\",\"agreement\",\"ship\",\"tcp\",\"collaboratively\",\"generator\",\"rename\",\"manifest\",\"onclick\",\"primarily\",\"exclude\",\"logger\",\"representation\",\"foreign\",\"ex\",\"abc\",\"intern\",\"uiview\",\"counter\",\"heap\",\"authorize\",\"myapp\",\"explicit\",\"female\",\"approval\",\"chart\",\"educational\",\"realize\",\"certify\",\"landscape\",\"etl\",\"jira\",\"adoption\",\"assert\",\"grep\",\"extremely\",\"defect\",\"executable\",\"accountable\",\"match_parent\",\"linearlayout\",\"closure\",\"welcome\",\"crash\",\"voice\",\"dot\",\"flex\",\"modal\",\"alter\",\"ancestry\",\"advise\",\"junior\",\"snippet\",\"selenium\",\"simultaneously\",\"parallel\",\"ienumerable\",\"administer\",\"checkout\",\"3rd\",\"promotion\",\"supervise\",\"signature\",\"visibility\",\"finding\",\"making\",\"partial\",\"iis\",\"inject\",\"allocation\",\"intermediate\",\"batch\",\"recruiting\",\"timer\",\"logical\",\"dependent\",\"outlook\",\"num\",\"found\",\"strict\",\"imageview\",\"liaison\",\"deprecate\",\"routine\",\"pop\",\"friendly\",\"inclusive\",\"articulate\",\"sizeof\",\"measurement\",\"skilled\",\"entrepreneurial\",\"delay\",\"criminal\",\"dedicate\",\"official\",\"architectural\",\"house\",\"reimbursement\",\"thousand\",\"lab\",\"pressure\",\"router\",\"explorer\",\"tableau\",\"emphasis\",\"processor\",\"ideally\",\"sh\",\"cpp\",\"req\",\"sector\",\"happy\",\"cash\",\"convention\",\"adobe\",\"disk\",\"sensitive\",\"typename\",\"expense\",\"mix\",\"accessible\",\"positioning\",\"sheet\",\"strength\",\"supervisory\",\"pregnancy\",\"restful\",\"imagine\",\"opening\",\"loading\",\"jvm\",\"dynamically\",\"setter\",\"modification\",\"el\",\"frequently\",\"alpha\",\"typical\",\"square\",\"binding\",\"pmp\",\"acquire\",\"workaround\",\"exercise\",\"highlight\",\"designing\",\"mining\",\"approximately\",\"automotive\",\"food\",\"negotiation\",\"rotate\",\"accurately\",\"ground\",\"unknown\",\"refresh\",\"transparent\",\"cyber\",\"obvious\",\"amazing\",\"dedicated\",\"confirm\",\"benchmark\",\"dump\",\"camera\",\"awareness\",\"buy\",\"paper\",\"x86\",\"zone\",\"negative\",\"responsive\",\"middle\",\"panel\",\"pure\",\"metadata\",\"integrated\",\"particularly\",\"negotiate\",\"committed\",\"saving\",\"pc\",\"scalability\",\"agree\",\"central\",\"iso\",\"eligible\",\"woman\",\"sa\",\"ecosystem\",\"complicated\",\"haskell\",\"ethic\",\"wpf\",\"varchar\",\"listview\",\"credential\",\"additionally\",\"legally\",\"identification\",\"concurrent\",\"s3\",\"initialization\",\"alia\",\"scheme\",\"air\",\"curious\",\"wish\",\"findviewbyid\",\"audits\",\"authority\",\"llc\",\"assistant\",\"resize\",\"relocation\",\"logging\",\"encounter\",\"implicit\",\"vm\",\"creativity\",\"quarterly\",\"crm\",\"compatibility\",\"billing\",\"th\",\"adapter\",\"mid\",\"distance\",\"rapid\",\"half\",\"friend\",\"traditional\",\"pipe\",\"messaging\",\"graduate\",\"assure\",\"sleep\",\"actionable\",\"msg\",\"iframe\",\"washington\",\"slightly\",\"anonymous\",\"mb\",\"code_review\",\"traffic\",\"shall\",\"loss\",\"possibly\",\"gui\",\"tx\",\"near\",\"occasionally\",\"gc\",\"water\",\"nslog\",\"dd\",\"recovery\",\"stdout\",\"conf\",\"advisor\",\"diagnostic\",\"savedinstancestate\",\"tier\",\"marker\",\"curl\",\"possibility\",\"numeric\",\"fair\",\"conference\",\"paced\",\"room\",\"consume\",\"cancel\",\"citizen\",\"average\",\"md\",\"retirement\",\"boundary\",\"trouble\",\"advocate\",\"kill\",\"contributor\",\"weight\",\"linear\",\"protection\",\"marketplace\",\"terminate\",\"consist\",\"investigate\",\"incorporate\",\"eligibility\",\"aspx\",\"getelementbyid\",\"safari\",\"destination\",\"awesome\",\"inquiry\",\"visa\",\"handling\",\"opt\",\"subcontractor\",\"embrace\",\"xs\",\"comply\",\"sys\",\"sponsorship\",\"outer\",\"opinion\",\"estate\",\"martin\",\"circle\",\"regression\",\"perk\",\"survey\",\"compilation\",\"coordinator\",\"instantiate\",\"champion\",\"plt\",\"javax\",\"creed\",\"territory\",\"innovate\",\"magic\",\"beginning\",\"initiate\",\"retention\",\"revision\",\"nation\",\"powershell\",\"powerful\",\"perfect\",\"healthy\",\"prospect\",\"wiki\",\"john\",\"simplify\",\"eg\",\"warehouse\",\"locale\",\"v4\",\"procurement\",\"labor\",\"junit\",\"blank\",\"lookup\",\"acceptance\",\"ax\",\"heart\",\"semantic\",\"rvm\",\"increment\",\"soon\",\"entertainment\",\"dod\",\"restore\",\"soap\",\"generous\",\"scripting_language\",\"equity\",\"calculation\",\"experiment\",\"legacy\",\"appropriately\",\"axis\",\"compatible\",\"thought\",\"clause\",\"previously\",\"ansible\",\"accredited\",\"overhead\",\"chef\",\"auth\",\"arm\",\"dimension\",\"usa\",\"jump\",\"proof\",\"operating\",\"recognition\",\"continually\",\"classification\",\"ps\",\"internship\",\"precision\",\"phd\",\"swap\",\"beta\",\"rank\",\"reconciliation\",\"tv\",\"usability\",\"forecasting\",\"exchange\",\"feed\",\"sec\",\"asynchronous\",\"t1\",\"essentially\",\"dog\",\"elegant\",\"anticipate\",\"concise\",\"shortcut\",\"academic\",\"lean\",\"serialize\",\"diagram\",\"inheritance\",\"best\",\"ai\",\"h1\",\"postgre\",\"v1\",\"simulation\",\"technically\",\"debugger\",\"man\",\"leading\",\"drawing\",\"jdk\",\"discovery\",\"radius\",\"floor\",\"rm\",\"substr\",\"fee\",\"charge\",\"escalate\",\"nan\",\"profitability\",\"inspection\",\"aa\",\"conclusion\",\"btn\",\"writer\",\"specialize\",\"civil\",\"subsidiary\",\"apt\",\"assigned\",\"weekend\",\"loader\",\"sy\",\"webview\",\"eoe\",\"meaning\",\"customize\",\"slice\",\"uicolor\",\"singleton\",\"permit\",\"overload\",\"carrier\",\"reflection\",\"uiimage\",\"natural\",\"dt\",\"hiring\",\"cool\",\"optimal\",\"await\",\"adherence\",\"storyboard\",\"threat\",\"compelling\",\"bold\",\"destroy\",\"/year\",\"acuman\",\"theory\",\"puppet\",\"sqlite\",\"ascii\",\"enforce\",\"readable\",\"compete\",\"limitation\",\"con\",\"alt\",\"invest\",\"radio\",\"version_control\",\"diploma\",\"hi\",\"animal\",\"substitute\",\"angularjs\",\"stick\",\"craft\",\"committee\",\"toolbar\",\"truly\",\"tuning\",\"personally\",\"sync\",\"stable\",\"shadow\",\"sdlc\",\"eye\",\"ls\",\"alternatively\",\"money\",\"mitigate\",\"nginx\",\"manufacture\",\"distinct\",\"lazy\",\"repair\",\"reload\",\"boston\",\"ii\",\"garbage\",\"hack\",\"prioritization\",\"confidential\",\"fairly\",\"shipping\",\"association\",\"functionally\",\"registry\",\"arrow\",\"charset\",\"mouse\",\"reserve\",\"lockheed\",\"globe\",\"immutable\",\"ecommerce\",\"placeholder\",\"intel\",\"fn\",\"entirely\",\"data_warehouse\",\"id\",\"inspect\",\"ma\",\"integral\",\"presence\",\"provision\",\"baz\",\"mindset\",\"readonly\",\"heavy\",\"manufacturer\",\"treatment\",\"permanent\",\"androidruntime\",\"registration\",\"0f\",\"3d\",\"twice\",\"perfectly\",\"matlab\",\"tight\",\"artifact\",\"utc\",\"sensor\",\"workspace\",\"firstname\",\"spreadsheet\",\"submission\",\"tactical\",\"intellij\",\"fill_parent\",\"fs\",\"pursue\",\"outline\",\"concrete\",\"discount\",\"interval\",\"initializer\",\"rout\",\"venture\",\"wellness\",\"stylesheet\",\"recruiter\",\"rewrite\",\"middleware\",\"pride\",\"kafka\",\"wikipedia\",\"privacy\",\"news\",\"st\",\"specialized\",\"forum\",\"mathematical\",\"corner\",\"v2\",\"rect\",\"texas\",\"consistency\",\"bunch\",\"eval\",\"aptitude\",\"programmatically\",\"arbitrary\",\"hierarchy\",\"scan\",\"orm\",\"coaching\",\"reuse\",\"decode\",\"expansion\",\"endpoint\",\"recursive\",\"tip\",\"packaging\",\"referral\",\"upper\",\"blah\",\"dc\",\"mitigation\",\"automatic\",\"pid\",\"accelerate\",\"thinker\",\"definitely\",\"journey\",\"r&d\",\"comma\",\"hover\",\"incident\",\"drag\",\"structured\",\"blob\",\"manipulate\",\"departmental\",\"salesforce\",\"journal\",\"wireless\",\"primitive\",\"lunch\",\"nearly\",\"de\",\"dispatch\",\"replacement\",\"teach\",\"assumption\",\"detection\",\"matplotlib\",\"indicator\",\"solver\",\"advisory\",\"fashion\",\"photo\",\"heroku\",\"typedef\",\"payable\",\"county\",\"conditional\",\"ec2\",\"minimize\",\"centric\",\"textbox\",\"worry\",\"pa\",\"officer\",\"escalation\",\"cisco\",\"potentially\",\"toggle\",\"fa\",\"xsl\",\"laboratory\",\"simulator\",\"energetic\",\"yyyy\",\"ahead\",\"investor\",\"chunk\",\"park\",\"troubleshooting\",\"t2\",\"fall\",\"demonstration\",\"behave\",\"ioexception\",\"aggregate\",\"edittext\",\"bridge\",\"educate\",\"pack\",\"hook\",\"salt\",\"dispose\",\"ptr\",\"advancement\",\"discrimination\",\"cli\",\"progressive\",\"jsp\",\"emulator\",\"na\",\"locally\",\"prime\",\"ibm\",\"hive\",\"erp\",\"eliminate\",\"rich\",\"translation\",\"rotation\",\"membership\",\"achievement\",\"corrective\",\"ny\",\"angularj\",\"tackle\",\"domestic\",\"excited\",\"popular\",\"migrate\",\"ch\",\"predictive\",\"relational_databas\",\"preserve\",\"workload\",\"holder\",\"arise\",\"ambiguity\",\"pi\",\"endl\",\"qualify\",\"alongside\",\"termination\",\"horizontal\",\"spirit\",\"whitespace\",\"stringbuilder\",\"exhibit\",\"gnu\",\"tuition\",\"ctx\",\"product_owner\",\"newline\",\"transparency\",\"backbone\",\"argv\",\"hint\",\"restrict\",\"identifie\",\"requisition\",\"youtube\",\"seattle\",\"pto\",\"python2\",\"utilization\",\"friday\",\"frequent\",\"introduction\",\"transport\",\"debugging\",\"guest\",\"stat\",\"bill\",\"sci\",\"telephone\",\"rebase\",\"campus\",\"millisecond\",\"matching\",\"productive\",\"inclusion\",\"formula\",\"guid\",\"fork\",\"sw\",\"draft\",\"specialty\",\"sharing\",\"jdbc\",\"observable\",\"placement\",\"getter\",\"aid\",\"notify\",\"micro\",\"1px\",\"commission\",\"aim\",\"base64\",\"va\",\"xaml\",\"intuitive\",\"rake\",\"activerecord\",\"variant\",\"strip\",\"anymore\",\"onsite\",\"microservice\",\"tough\",\"synchronize\",\"toast\",\"sufficient\",\"focused\",\"dataframe\",\"intelligent\",\"\\u0095\",\"managing\",\"timezone\",\"hex\",\"trial\",\"ipad\",\"nav\",\"notation\",\"populate\",\"cassandra\",\"collapse\",\"tap\",\"portion\",\"unit_testing\",\"confidentiality\",\"nsstring\",\"gathering\",\"leak\",\"proposition\",\"clarify\",\"communicator\",\"rectangle\",\"classpath\",\"nsarray\",\"valuable\",\"xxx\",\"score\",\"adb\",\"identical\",\"extended\",\"pos\",\"screenshot\",\"sick\",\"omit\",\"plant\",\"virtualization\",\"usual\",\"sprint\",\"confidence\",\"gulp\",\"nodejs\",\"ga\",\"typescript\",\"overwrite\",\"absolutely\",\"ease\",\"nuget\",\"ultimately\",\"shop\",\"organized\",\"dropdown\",\"amazon.com\",\"elasticsearch\",\"customers\\u2019\",\"flash\",\"lastname\",\"gb\",\"monad\",\"trivial\",\"earn\",\"connected\",\"pound\",\"safely\",\"ledger\",\"todo\",\"caller\",\"florida\",\"libs\",\"incumbent\",\"fi\",\"ticket\",\"accordingly\",\"satisfy\",\"pharmaceutical\",\"somewhat\",\"recyclerview\",\"divide\",\"synthesize\",\"newly\",\"operand\",\"ee\",\"textarea\",\"conjunction\",\"participation\",\"attrs\",\"hashmap\",\"curiosity\",\"bid\",\"underscore\",\"apparently\",\"utf8\",\"attack\",\"vice\",\"kb\",\"mistake\",\"indexpath\",\"fault\",\"markup\",\"expire\",\"iot\",\"vmware\",\"deeply\",\"ordinance\",\"occasional\",\"cpa\",\"unsolicited\",\"freight\",\"certainly\",\"endif\",\"interpreter\",\"bright\",\"disciplinary\",\"rewarding\",\"logistics\",\"externally\",\"sharepoint\",\"paint\",\"differently\",\"lack\",\"prohibit\",\"appearance\",\"sass\",\"compose\",\"seed\",\"trait\",\"posting\",\"street\",\"impossible\",\"grade\",\"instrument\",\"pad\",\"authenticate\",\"sustainable\",\"qt\",\"reality\",\"mask\",\"fuel\",\"object_oriented\",\"monday\",\"acceptable\",\"ret\",\"reject\",\"variance\",\"physics\",\"a1\",\"sport\",\"zoom\",\"nullable\",\"aerospace\",\"indexof\",\"colour\",\"scene\",\"los\",\"uitableview\",\"elem\",\"cc\",\"dollar\",\"parenthesis\",\"nc\",\"ant\",\"opacity\",\"browse\",\"onboarding\",\"aw\",\"streaming\",\"cv\",\"gradient\",\"kubernete\",\"dist\",\"necessarily\",\"differ\",\"node.js\",\"incorrect\",\"redi\",\"size_t\",\"snapshot\",\"scrollview\",\"encrypt\",\"loan\",\"knowledgeable\",\"sin\",\"physician\",\"atlanta\",\"classname\",\"subversion\",\"w3\",\"manipulation\",\"asp.net\",\"seq\",\"=\",\"incoming\",\"pom\",\"unexpected\",\"fraud\",\"reconcile\",\"defer\",\"observe\",\"surround\",\"participant\",\"vet\",\"trim\",\"fiddle\",\"robotic\",\"refine\",\"waste\",\"refactor\",\"designate\",\"closing\",\"mentoring\",\"installer\",\"proprietary\",\"complaint\",\"reading\",\"straight\",\"motion\",\"se\",\"attendance\",\"sb\",\"ratio\",\"filing\",\"ss\",\"openssl\",\"emergency\",\"belong\",\"preview\",\"pseudo\",\"datatype\",\"jersey\",\"correspondence\",\"layoutparam\",\"jsf\",\"computation\",\"underlie\",\"flush\",\"music\",\"dns\",\"road\",\"tick\",\"dbo\",\"tfs\",\"d3\",\"tend\",\"magazine\",\"innovator\",\"clojure\",\"volunteer\",\"compliant\",\"brew\",\"userid\",\"wealth\",\"percent\",\"hidden\",\"competitor\",\"webpack\",\"austin\",\"ambiguous\",\"v7\",\"receiver\",\"suitable\",\"moderate\",\"rand\",\"wireframe\",\"land\",\"casual\",\"evidence\",\"predicate\",\"summarize\",\"typing\",\"rid\",\"implicitly\",\"cgfloat\",\"universal\",\"viewgroup\",\"eax\",\"associated\",\"jpa\",\"cybersecurity\",\"interpretation\",\"bracket\",\"navbar\",\"slide\",\"ext\",\"wcf\",\"eventually\",\"laravel\",\"inf\",\"mess\",\"formatter\",\"amazon_web_service\",\"inflate\",\"concat\",\"ab\",\"angle\",\"massive\",\"uninstall\",\"district\",\"devise\",\"snack\",\"resident\",\"backlog\",\"hopefully\",\"beautiful\",\"careful\",\"odd\",\"percentage\",\"imply\",\"trading\",\"rel\",\"settimeout\",\"plist\",\"adjustment\",\"tail\",\"verbose\",\"motivation\",\"stability\",\"clock\",\"uiviewcontroller\",\"strange\",\"separator\",\"west\",\"css3\",\"viewdidload\",\"breakpoint\",\"readline\",\"fl\",\"p1\",\"persistence\",\"required\",\"portal\",\"budgeting\",\"xsd\",\"numerous\",\"originally\",\"emac\",\"anybody\",\"adopt\",\"persist\",\"activitythread\",\"star\",\"dim\",\"viewcontroller\",\"population\",\"panda\",\"teammate\",\"log4j\",\"vagrant\",\"anchor\",\"\\uf0b7\",\"enablement\",\"packet\",\"footer\",\"mozilla\",\"learner\",\"readiness\",\"exempt\",\"citi\",\"ini\",\"minor\",\"abstraction\",\"google_cloud\",\"runnable\",\"comparable\",\"textfield\",\"formulate\",\"grab\",\"guy\",\"kpmg\",\"getname\",\"streamline\",\"luck\",\"filesystem\",\"enthusiastic\",\"fresh\",\"mov\",\"professionally\",\"residential\",\"relativelayout\",\"encryption\",\"es6\",\"activate\",\"tar\",\"deny\",\"stash\",\"pain\",\"rf\",\"emit\",\"spanish\",\"xx\",\"fatal\",\"brief\",\"goto\",\"surface\",\"funding\",\"chase\",\"relational\",\"grasp\",\"noise\",\"b.s\",\"partition\",\"conform\",\"reputation\",\"vp\",\"relatively\",\"mutable\",\"popup\",\"convenient\",\"comprise\",\"|\",\"weak\",\"competition\",\"sophisticated\",\"grunt\",\"ar\",\"deloitte\",\"getvalue\",\"pd\",\"doe\",\"bucket\",\"similarly\",\"hotel\",\"hat\",\"gas\",\"fluent\",\"urgency\",\"uuid\",\"collateral\",\"oauth\",\"gif\",\"quot\",\"frequency\",\"h2\",\"relational_database\",\"object_orient\",\"premier\",\"shipment\",\"ef\",\"apart\",\"expensive\",\"europe\",\"wa\",\"stderr\",\"south\",\"destructor\",\"clang\",\"iterable\",\"subset\",\"retailer\",\"eager\",\"guard\",\"websocket\",\"strategically\",\"comfort\",\"attract\",\"projection\",\"stress\",\"suit\",\"restriction\",\"illustrate\",\"political\",\"broadcast\",\"microsoft_excel\",\"tablet\",\"stdin\",\"scratch\",\"pause\",\"workday\",\"upstream\",\"javadoc\",\"tf\",\"philosophy\",\"foobar\",\"unlike\",\"frontend\",\"maker\",\"fulfill\",\"settext\",\"latency\",\"firewall\",\"weird\",\"soft\",\"subview\",\"malloc\",\"generalist\",\"clarity\",\"ram\",\"submodule\",\"periodic\",\"nj\",\"validator\",\"delimiter\",\"mandatory\",\"tolist\",\"hostname\",\"latitude\",\"convey\",\"vb\",\"conceptual\",\"premium\",\"proc\",\"confusing\",\"wall\",\"accessibility\",\"oo\",\"timing\",\"spending\",\"headquarters\",\"aes\",\"respective\",\"spectrum\",\"trail\",\"rd\",\"dive\",\"tooling\",\"vital\",\"rep\",\"boot\",\"data_pipeline\",\"hybrid\",\"conversation\",\"tie\",\"cmake\",\"dell\",\"pet\",\"desc\",\"clr\",\"conn\",\"1st\",\"pod\",\"inputstream\",\"implication\",\"okay\",\"infinite\",\"kwarg\",\"unlimited\",\"prospective\",\"serialization\",\"equality\",\"chief\",\"datatable\",\"currency\",\"xyz\",\"timeit\",\"cultural\",\"httpclient\",\"fitness\",\"revert\",\"driving\",\"initially\",\"j2ee\",\"sorry\",\"desk\",\"reusable\",\"datasource\",\"httpcontext\",\"\\u2122\",\"seven\",\"ebay\",\"catalog\",\"subsequent\",\"researcher\",\"getstr\",\"subscribe\",\"layoutinflater\",\"institute\",\"myobject\",\"night\",\"instanceof\",\"behavioral\",\"leido\",\"reply\",\"cultivate\",\"lifetime\",\"rgb\",\"2nd\",\"facilitation\",\"dr\",\"opengl\",\"vulnerability\",\"daemon\",\"rare\",\"mount\",\"angele\",\"flight\",\"atomic\",\"confused\",\"prevention\",\"smooth\",\"iterative\",\"disaster\",\"gmail\",\"portable\",\"descriptor\",\"publication\",\"underlying\",\"cp\",\"md5\",\"president\",\"unnecessary\",\"confident\",\"pl\",\"gaap\",\"sized\",\"movie\",\"income\",\"ws\",\"paragraph\",\"doctype\",\"viewmodel\",\"summer\",\"blend\",\"int32\",\"delight\",\"strengthen\",\"contractual\",\"multiply\",\"mainactivity\",\"canada\",\"stub\",\"subscription\",\"jboss\",\"eq\",\"unity\",\"firmware\",\"p2\",\"getinstance\",\"consensus\",\"brace\",\"virtualenv\",\"microsoft_sql\",\"rebuild\",\"importance\",\"hris\",\"gmt\",\"dba\",\"keen\",\"interfac\",\"alternate\",\"incentive\",\"deposit\",\"wire\",\"hot\",\"concatenate\",\"completeness\",\"absence\",\"qualitative\",\"savvy\",\"chemical\",\"b2b\",\"bob\",\"truncate\",\"tune\",\"supportive\",\"hg\",\"finger\",\"artificial_intelligence\",\"visio\",\"medicine\",\"maintainable\",\"rating\",\"stroke\",\"movement\",\"v3\",\"circumstance\",\"corp\",\"actionbar\",\"ethical\",\"dosometh\",\"ambitious\",\"screening\",\"linker\",\"collector\",\"concurrency\",\"invocation\",\"ugly\",\"uiapplication\",\"dedication\",\"receipt\",\"differentiate\",\"keystore\",\"dummy\",\"autonomous\",\"intptr\",\"personality\",\"cater\",\"sustain\",\"threaded\",\"arc\",\"sketch\",\"subsystem\",\"predict\",\"mongo\",\"vertex\",\"pertain\",\"oop\",\"s1\",\"'d\",\"fmt\",\"connectivity\",\"ml\",\"spot\",\"forefront\",\"professionalism\",\"ff\",\"gaming\",\"prototyp\",\"diagnose\",\"edition\",\"receivable\",\"xhtml\",\"nsdictionary\",\"confuse\",\"elapse\",\"moz\",\"ns\",\"2d\",\"launcher\",\"gym\",\"joint\",\"broker\",\"internationally\",\"volatile\",\"appcompat\",\"lb\",\"handy\",\"decorator\",\"tdd\",\"shopping\",\"sm\",\"discretion\",\"commuter\",\"orange\",\"x86_64\",\"regexp\",\"suspect\",\"significantly\",\"splunk\",\"datepicker\",\"secondary\",\"hub\",\"arithmetic\",\"poster\",\"transactional\",\"stretch\",\"machine_learning\",\"extern\",\"10px\",\"mobility\",\"indent\",\"undergraduate\",\"revolutionize\",\"celebrate\",\"individually\",\"tooltip\",\"institutional\",\"examine\",\"die\",\"xpath\",\"evolution\",\"ordering\",\"pmo\",\"valley\",\"insure\",\"unstructured\",\"appointment\",\"simplicity\",\"door\",\"dream\",\"versus\",\"user_id\",\"dirty\",\"kpis\",\"commonly\",\"oh\",\"recursion\",\"truck\",\"lisp\",\"hop\",\"usable\",\"attachment\",\"cert\",\"0px\",\"xp\",\"belief\",\"printstacktrace\",\"reduction\",\"circuit\",\"visitor\",\"groovy\",\"privilege\",\"virginia\",\"silicon\",\"coffee\",\"flask\",\"gpu\",\"feasibility\",\"totally\",\"osx\",\"widely\",\"workshop\",\"consultation\",\"sigma\",\"dig\",\"harassment\",\"technician\",\"xhr\",\"quantity\",\"composer\",\"intellectual\",\"vote\",\"za\",\"observer\",\"behalf\",\"nationwide\",\"atmosphere\",\"restaurant\",\"robot\",\"getresource\",\"paypal\",\"mystr\",\"suffix\",\"paperwork\",\"comprehension\",\"gettype\",\"mar\",\"vast\",\"faculty\",\"oppose\",\"chapter\",\"webpage\",\"abort\",\"redis\",\"simulate\",\"cgrect\",\"tomorrow\",\"earlier\",\"redefine\",\"nsurl\",\"favorite\",\"msbuild\",\"win32\",\"mutual\",\"enumerate\",\"intersection\",\"mylist\",\"govern\",\"legend\",\"importantly\",\"persistent\",\"awk\",\"delta\",\"demonstrable\",\"straightforward\",\"iter\",\"fly\",\"pane\",\"mime\",\"classic\",\"rs\",\"confusion\",\"traceback\",\"premise\",\"clients\\u2019\",\"uilabel\",\"usb\",\"auditor\",\"fluency\",\"multitask\",\"everyday\",\"cordova\",\"complain\",\"disease\",\"rdbms\",\"tailor\",\"electric\",\"bias\",\"tester\",\"lake\",\"gson\",\"selling\",\"catalina\",\"rgba\",\"ember\",\"creator\",\"plug\",\"enthusiasm\",\"fb\",\"war\",\"listening\",\"reasoning\",\"mutex\",\"resort\",\"technologist\",\"jre\",\"mytable\",\"fulfillment\",\"ge\",\"mixed\",\"iostream\",\"disclaimer\",\"verbally\",\"inter\",\"scipy\",\"converter\",\"onload\",\"colorado\",\"remediation\",\"baseline\",\"opera\",\"sentence\",\"addeventlistener\",\"arrange\",\"discard\",\"cancer\",\"profitable\",\"cgi\",\"x1\",\"trunk\",\"uk\",\"webserver\",\"invite\",\"webdriver\",\"aggressive\",\"separately\",\"bay\",\"grammar\",\"wordpress\",\"rfc\",\"somebody\",\"freedom\",\"subprocess\",\"heavily\",\"onclicklistener\",\"barrier\",\"enrollment\",\"posix\",\"tricky\",\"es\",\"exp\",\"la\",\"bat\",\"parseint\",\"existing\",\"redux\",\"afraid\",\"equally\",\"rc\",\"seamless\",\"firebase\",\"conviction\",\"buyer\",\"convenience\",\"jpeg\",\"enumeration\",\"valueof\",\"serial\",\"viewpager\",\"contrib\",\"commensurate\",\"listing\",\"specialization\",\"compression\",\"chat\",\"occurrence\",\"x64\",\"gdb\",\"serializer\",\"s2\",\"cms\",\"substring\",\"setcontentview\",\"mortgage\",\"cutting\",\"leaf\",\"closer\",\"slot\",\"invent\",\"instrumentation\",\"assertion\",\"respectively\",\"alias\",\"outreach\",\"purchasing\",\"dirname\",\"bitbucket\",\"u.\",\"inception\",\"linkedin\",\"speech\",\"payload\",\"roi\",\"injection\",\"toarray\",\"warehousing\",\"extraordinary\",\"viewport\",\"cox\",\"innerhtml\",\"vc\",\"denver\",\"mainly\",\"spinner\",\"merchant\",\"compress\",\"tostring\",\"auditing\",\"uikit\",\"shared_ptr\",\"co.\",\"sme\",\"mod\",\"disadvantage\",\"pragma\",\"lesson\",\"strictly\",\"contingent\",\"overlap\",\"incredible\",\"segmentation\",\"reside\",\"interrupt\",\"jackson\",\"shutdown\",\"slash\",\"/hour\",\"stack_overflow\",\"precise\",\"dylib\",\"100px\",\"expr\",\"housing\",\"overlay\",\"rspec\",\"club\",\"greatly\",\"btw\",\"gitignore\",\"asia\",\"nsdata\",\"uniform\",\"hvac\",\"tensorflow\",\"cocoa\",\"virtual_machine\",\"autocomplete\",\"probability\",\"checking\",\"dest\",\"creatively\",\"variation\",\"sed\",\"navigator\",\"recreate\",\"assemble\",\"makefile\",\"station\",\"consultative\",\"involvement\",\"proceed\",\"quit\",\"confluence\",\"ap\",\"marketer\",\"lie\",\"c1\",\"r2\",\"ms_excel\",\"accountant\",\"nursing\",\"collision\",\"hh\",\"preferable\",\"merit\",\"jan\",\"dismiss\",\"reproduce\",\"plenty\",\"despite\",\"adaptable\",\"scop\",\"majority\",\"myfile\",\"counsel\",\"chr\",\"facet\",\"indexing\",\"nsdate\",\"downtown\",\"pr\",\"f1\",\"actionresult\",\"matcher\",\"pend\",\"fp\",\"mature\",\"yellow\",\"sublime\",\"cor\",\"uibutton\",\"discrepancy\",\"editing\",\"gen\",\"pdo\",\"createelement\",\"classloader\",\"kitchen\",\"razor\",\"affiliate\",\"textblock\",\"egg\",\"ping\",\"tactic\",\"enclose\",\"modifier\",\"extreme\",\"distributor\",\"ie8\",\"gateway\",\"teaching\",\"abuse\",\"x2\",\"serializable\",\"il\",\"typeerror\",\"revise\",\"semi\",\"continued\",\"johnson\",\"nexus\",\"filepath\",\"a2\",\"dealer\",\"technological\",\"longitude\",\"backgroundcolor\",\"hp\",\"lending\",\"ultimate\",\"angular2\",\"mercurial\",\"sqrt\",\"sd\",\"houston\",\"fruit\",\"px\",\"don\",\"renewal\",\"decade\",\"col1\",\"functor\",\"stringify\",\"offline\",\"uid\",\"disclosure\",\"table_name\",\"curve\",\"dash\",\"idx\",\"poor\",\"jpmorgan\",\"smtp\",\"iii\",\"contracting\",\"toolkit\",\"opencv\",\"publisher\",\"novel\",\"appender\",\"5px\",\"dimensional\",\"homebrew\",\"buf\",\"mat\",\"scrollbar\",\"bear\",\"varied\",\"notepad\",\"runner\",\"march\",\"observation\",\"faq\",\"flat\",\"mentorship\",\"dalla\",\"c2\",\"redshift\",\"backslash\",\"webapp\",\"trip\",\"mapreduce\",\"planet\",\"liaise\",\"pt\",\"loyalty\",\"subtract\",\"impactful\",\"distinguish\",\"googleapis\",\"bus\",\"estimation\",\"bottleneck\",\"asynctask\",\"nicely\",\"enumerable\",\"classified\",\"jsonobject\",\"ssis\",\"arg1\",\"annually\",\"forth\",\"engaging\",\"agenda\",\"correction\",\"extraction\",\"established\",\"rack\",\"fr\",\"symfony\",\"bytecode\",\"pwc\",\"east\",\"cls\",\"wheel\",\"argc\",\"w3c\",\"treasury\",\"unused\",\"vba\",\"orchestration\",\"photoshop\",\"bend\",\"neutral\",\"synchronization\",\"inspector\",\"gravity\",\"undo\",\"personalize\",\"portrait\",\"lieu\",\"cgrectmake\",\"mile\",\"computational\",\"soa\",\"standalone\",\"artist\",\"disappear\",\"adequate\",\"hbase\",\"concurrently\",\"dead\",\"z0\",\"mkdir\",\"overcome\",\"gz\",\"hashset\",\"scanner\",\"cr\",\"inflater\",\"laptop\",\"solr\",\"recursively\",\"intensive\",\"violation\",\"ce\",\"unsafe\",\"disclose\",\"iv\",\"digest\",\"comp\",\"sp\",\"blur\",\"pem\",\"tradeoff\",\"waterfall\",\"sc\",\"cb\",\"velocity\",\"sep\",\"ipython\",\"cleanup\",\"insertion\",\"replication\",\"rsa\",\"tenant\",\"mountain\",\"substantial\",\"discharge\",\"instant\",\"evangelize\",\"tablename\",\"agility\",\"computer_vision\",\"abreast\",\"aside\",\"anti\",\"fake\",\"terminology\",\"framelayout\",\"affordable\",\"spread\",\"opposite\",\"instagram\",\"hospitality\",\"programmatic\",\"thumb\",\"retrieval\",\"az\",\"annotate\",\"furthermore\",\"rock\",\"goldman\",\"backwards\",\"wifi\",\"affiliation\",\"dtd\",\"logo\",\"carefully\",\"useless\",\"hashcode\",\"scheduler\",\"et\",\"pow\",\"measurable\",\"eat\",\"fax\",\"spring_boot\",\"suppress\",\"normalize\",\"b1\",\"ftp\",\"nsinteger\",\"kick\",\"decrease\",\"cygwin\",\"recall\",\"nvidia\",\"alexa\",\"fiscal\",\"myarray\",\"impl\",\"fan\",\"sha\",\"mass\",\"satellite\",\"meteor\",\"stdio\",\"uitableviewcell\",\"uitextfield\",\"invalidate\",\"wear\",\"proven\",\"experimental\",\"density\",\"getclass\",\"phoenix\",\"stem\",\"hang\",\"cm\",\"upcoming\",\"motor\",\"markdown\",\"fellow\",\"caci\",\"bother\",\"lat\",\"sha1\",\"encompass\",\"contrast\",\"yml\",\"preventdefault\",\"myproject\",\"performant\",\"wildcard\",\"ceo\",\"dx\",\"alliance\",\"autonomy\",\"overnight\",\"gray\",\"bare\",\"nyse\",\"tbody\",\"rootscope\",\"mellon\",\"seriously\",\"gist\",\"threshold\",\"cascade\",\"test1\",\"fluid\",\"di\",\"fade\",\"arrive\",\"january\",\"mastery\",\"composition\",\"scm\",\"annoying\",\"test2\",\"georgia\",\"builtin\",\"crucial\",\"historical\",\"alive\",\"quo\",\"quickbook\",\"evening\",\"nsnumber\",\"rarely\",\"charter\",\"fold\",\"mono\",\"producer\",\"printer\",\"actor\",\"nsindexpath\",\"aaa\",\"aviation\",\"oem\",\"loc\",\"isolate\",\"bower\",\"adept\",\"disposition\",\"recover\",\"london\",\"philadelphia\",\"competence\",\"licensing\",\"throughput\",\"caching\",\"breakdown\",\"smith\",\"minded\",\"customization\",\"remotely\",\"rabbitmq\",\"foreground\",\"subdirectory\",\"dec\",\"keycode\",\"ton\",\"clip\",\"aka\",\"weather\",\"vi\",\"substitution\",\"aggregation\",\"contenttype\",\"pioneer\",\"wise\",\"20px\",\"verse\",\"gms\",\"ic\",\"obstacle\",\"cable\",\"merchandise\",\"setvalue\",\"constructive\",\"gear\",\"salesforce.com\",\"gzip\",\"c99\",\"roughly\",\"multipart\",\"alertdialog\",\"ada\",\"swing\",\"threading\",\"accredit\",\"nsobject\",\"appendchild\",\"yaml\",\"addsubview\",\"beneficial\",\"saas\",\"forever\",\"counseling\",\"justify\",\"preprocessor\",\"jasmine\",\">\",\"un\",\"clarification\",\"exhaustive\",\"f2\",\"public_cloud\",\"sbt\",\"fulfil\",\"mongoose\",\"semiconductor\",\"morgan\",\"ld\",\"segue\",\"submittal\",\"analyzer\",\"superclass\",\"gettime\",\"consumption\",\"collective\",\"schwab\",\"ft\",\"incremental\",\"itune\",\"byt\",\"structural\",\"cos\",\"cipher\",\"managerial\",\"babel\",\"advocacy\",\"numerical\",\"fraction\",\"nserror\",\"subordinate\",\"gate\",\"unset\",\"transit\",\"collectionview\",\"breadth\",\"uniquely\",\"javafx\",\"resharper\",\"jose\",\"netbean\",\"oil\",\"illegal\",\"excite\",\"compact\",\"ejb\",\"menuitem\",\"inbound\",\"al\",\"hearing\",\"ethnicity\",\"visualize\",\"publickeytoken\",\"unlock\",\"scalar\",\"readability\",\"forkey\",\"foot\",\"timespan\",\"del\",\"nvarchar\",\"mockito\",\"mvn\",\"metro\",\"fleet\",\"complement\",\"proguard\",\"activation\",\"simpledateformat\",\"footprint\",\"verizon\",\"codec\",\"running\",\"vertically\",\"gesture\",\"parental\",\"harness\",\"comcast\",\"briefing\",\"geography\",\"sustainability\",\"kpi\",\"dependency_injection\",\"uint\",\"scaling\",\"fig\",\"existence\",\"exemplary\",\"honest\",\"incomplete\",\"cvs\",\"doubt\",\"stl\",\"cron\",\"connector\",\"obsess\",\"mapper\",\"ssrs\",\"sake\",\"irb\",\"texture\",\"colon\",\"parking\",\"overtime\",\"teacher\",\"reinstall\",\"fargo\",\"closed\",\"determination\",\"fabric\",\"stopwatch\",\"osha\",\"fancy\",\"difficulty\",\"naturally\",\"rev\",\"perception\",\"react_native\",\"coder\",\"pharmacy\",\"dark\",\"tweak\",\"flavor\",\"h3\",\"atlassian\",\"pig\",\"precede\",\"publishing\",\"clerk\",\"executor\",\"concatenation\",\"someclass\",\"golang\",\"pursuit\",\"feb\",\"f5\",\"adult\",\"nyc\",\"xor\",\"memorystream\",\"notch\",\"redundant\",\"versa\",\"debian\",\"sach\",\"prototyping\",\"pacific\",\"accomplishment\",\"jit\",\"graphical\",\"ffmpeg\",\"zygoteinit\",\"quotation\",\"allen\",\"caveat\",\"table1\",\"geometry\",\"climb\",\"nonatomic\",\"doctrine\",\"aircraft\",\"busy\",\"season\",\"windows\",\"synchronous\",\"col2\",\"popover\",\"sdks\",\"western\",\"privately\",\"analyse\",\"abs\",\"nl\",\"flip\",\"battery\",\"python3\",\"ansi\",\"bla\",\"invoicing\",\"imperative\",\"santa\",\"outbound\",\"orderby\",\"fidelity\",\"mv\",\"ggplot\",\"d1\",\"informatica\",\"alarm\",\"keychain\",\"precedence\",\"brokerage\",\"dangerous\",\"karma\",\"affair\",\"overridden\",\"bny\",\"bundler\",\"triangle\",\"cento\",\"dress\",\"isset\",\"yrs\",\"value1\",\"organizing\",\"seo\",\"spawn\",\"codebase\",\"comparator\",\"gps\",\"stoop\",\"readme\",\"teradata\",\"resourceful\",\"dice\",\"fort\",\"interior\",\"ecmascript\",\"reveal\",\"prepared\",\"cached\",\"offshore\",\"updating\",\"ghc\",\"curriculum\",\"applied\",\"idiom\",\"menlo\",\"accommodate\",\"boarding\",\"llp\",\"lay\",\"army\",\"symlink\",\"myservice\",\"rollback\",\"subscriber\",\"storm\",\"wage\",\"satisfactorily\",\"ilist\",\"telecommunication\",\"javac\",\"textcolor\",\"consequence\",\"firebug\",\"struggle\",\"ne\",\"economy\",\"jetty\",\"userinfo\",\"drink\",\"sleeve\",\"fd\",\"founder\",\"tls\",\"listbox\",\"uiimageview\",\"nth\",\"polygraph\",\"mirror\",\"lowercase\",\"dat\",\"promotional\",\"cold\",\"log4net\",\"viable\",\"polygon\",\"pendingintent\",\"httpd\",\"200px\",\"initiation\",\"dispatcher\",\"profiling\",\"cap\",\"tl\",\"eof\",\"getcontext\",\"bluetooth\",\"gift\",\"cheap\",\"b2\",\"phonegap\",\"portland\",\"paas\",\"intervention\",\"intercept\",\"continual\",\"lg\",\"errno\",\"motionevent\",\"positively\",\"picker\",\"violate\",\"uncover\",\"nurse\",\"tm\",\"startactivity\",\"accident\",\"asc\",\"inquire\",\"sox\",\"oregon\",\"copyright\",\"eventarg\",\"literally\",\"fantastic\",\"bigdecimal\",\"seamlessly\",\"elastic\",\"composite\",\"htaccess\",\"exclusive\",\"bom\",\"encapsulate\",\"innodb\",\"atom\",\"june\",\"tile\",\"triage\",\"sizing\",\"thoroughly\",\"copying\",\"value2\",\"superintendent\",\"provisioning\",\"blueprint\",\"inference\",\"lightweight\",\"latin\",\"hypothesis\",\"sharp\",\"chip\",\"carolina\",\"expenditure\",\"reinvent\",\"templat\",\"getbyte\",\"peak\",\"continuity\",\"periodically\",\"disrupt\",\"pragmatic\",\"pin\",\"marshal\",\"nsmutablearray\",\"dozen\",\"obligation\",\"sf\",\"metal\",\"pilot\",\"node_module\",\"liability\",\"traverse\",\"chmod\",\"rhs\",\"db2\",\"pennsylvania\",\"society\",\"getitem\",\"peripheral\",\"competent\",\"announcement\",\"rfp\",\"replicate\",\"compromise\",\"arizona\",\"gis\",\"adt\",\"java_home\",\"separation\",\"erase\",\"wayfair\",\"pyplot\",\"viewholder\",\"testable\",\"accidentally\",\"decrypt\",\"raytheon\",\"p&l\",\"shader\",\"hill\",\"procedural\",\"young\",\"hdfs\",\"homeland\",\"unrelated\",\"diman\",\"nurture\",\"elevate\",\"lease\",\"mapview\",\"latlng\",\"localstorage\",\"credibility\",\"favor\",\"capitalize\",\"circular\",\"empathy\",\"localization\",\"navy\",\"clipboard\",\"viewer\",\"vista\",\"cmp\",\"o2\",\"e1\",\"putextra\",\"imaging\",\"detach\",\"var_dump\",\"50px\",\"mockup\",\"epic\",\"ko\",\"vec\",\"file1\",\"improved\",\"l2\",\"erlang\",\"outgoing\",\"mis\",\"optionally\",\"androidmanifest\",\"getsystemservice\",\"getactivity\",\"l3\",\"hourly\",\"therapy\",\"l1\",\"dst\",\"dtype\",\"collaborator\",\"dword\",\"adp\",\"quarter\",\"ethnic\",\"playstation\",\"unique_ptr\",\"arrest\",\"kit\",\"telecom\",\"clerical\",\"badge\",\"bet\",\"rvalue\",\"ut\",\"accenture\",\"merely\",\"shuffle\",\"asm\",\"extent\",\"geospatial\",\"recipe\",\"integrator\",\"pmi\",\"earth\",\"weakness\",\"slider\",\"folk\",\"deem\",\"multithread\",\"cdn\",\"recur\",\"profiler\",\"april\",\"underwriting\",\"wizard\",\"uppercase\",\"reasonably\",\"groupby\",\"unchecked\",\"deep_learn\",\"lm\",\"unified\",\"addclass\",\"wsdl\",\"cucumber\",\"experimentation\",\"incredibly\",\"downside\",\"rental\",\"pivot\",\"wholesale\",\"seal\",\"glyphicon\",\"crazy\",\"mdash\",\"locationmanager\",\"unite\",\"rounded\",\"multidisciplinary\",\"rollout\",\"kanban\",\"bilingual\",\"supplemental\",\"xslt\",\"pg\",\"thumbnail\",\"mentality\",\"beach\",\"modular\",\"spam\",\"cooperation\",\"distinction\",\"verb\",\"favicon\",\"mutate\",\"bufferedreader\",\"reliably\",\"yahoo\",\"starting\",\"lifestyle\",\"breakthrough\",\"specified\",\"0x\",\"surprise\",\"getdate\",\"curl_setopt\",\"counterpart\",\"publicly\",\"minus\",\"standardized\",\"navigationcontroller\",\"informed\",\"sqlalchemy\",\"nonprofit\",\"coworker\",\"callable\",\"apache2\",\"pe\",\"delphi\",\"arg2\",\"phrase\",\"licensure\",\"decent\",\"anyobject\",\"oct\",\"optical\",\"2px\",\"demeanor\",\"ds\",\"slf4j\",\"scrolltop\",\"seminar\",\"ed\",\"sop\",\"specifier\",\"mp4\",\"itil\",\"diligence\",\"contingency\",\"csrf\",\"persona\",\"clinic\",\"satisfied\",\"debt\",\"juggle\",\"objc\",\"clue\",\"bubble\",\"symbolic\",\"uiscrollview\",\"disparate\",\"maturity\",\"maintainability\",\"php5\",\"cv2\",\"incompatible\",\"endless\",\"bandwidth\",\"cur\",\"sharedapplication\",\"ideation\",\"informal\",\"cgpoint\",\"terraform\",\"gl\",\"ldap\",\"beginner\",\"nlp\",\"notebook\",\"adaptive\",\"retrofit\",\"indirect\",\"newinstance\",\"signing\",\"esp\",\"ie9\",\"deserialize\",\"prediction\",\"ph.d\",\"thoughtful\",\"pertinent\",\"clever\",\"hsa\",\"biology\",\"samsung\",\"precisely\",\"gettext\",\"pivotal\",\"uncheck\",\"semicolon\",\"udp\",\"trillion\",\"decorate\",\"d2\",\"glob\",\"civilian\",\"youth\",\"shoot\",\"comprehend\",\"outlet\",\"hudson\",\"consecutive\",\"ordinary\",\"inset\",\"nasdaq\",\"invisible\",\"maketext\",\"emphasize\",\"solicit\",\"unit_test\",\"worksheet\",\"magnitude\",\"infer\",\"vr\",\"tolerance\",\"xamarin\",\"cad\",\"mvvm\",\"toolset\",\"unparalleled\",\"airport\",\"sandbox\",\"sqlite3\",\"nationally\",\"mixin\",\"sugar\",\"bitwise\",\"gwt\",\"evil\",\"robert\",\"continuation\",\"rationale\",\"bmp\",\"pk\",\"osgi\",\"lxml\",\"y1\",\"rise\",\"purely\",\"strlen\",\"transmission\",\"refuse\",\"visually\",\"fallback\",\"runtimeexception\",\"insensitive\",\"lifting\",\"instruct\",\"dbcontext\",\"neat\",\"bashrc\",\"equation\",\"winform\",\"emulate\",\"evt\",\"reboot\",\"constituent\",\"glassdoor\",\"power_point\",\"mandate\",\"lvalue\",\"lower\",\"kneel\",\"fda\",\"setattribute\",\"disseminate\",\"knit\",\"sequential\",\"newvalue\",\"dual\",\"advertiser\",\"itertool\",\"r1\",\"augment\",\"surgical\",\"disruptive\",\"spin\",\"9a\",\"staging\",\"geographic\",\"w2\",\"v8\",\"xrange\",\"hipaa\",\"horizontally\",\"damage\",\"onboard\",\"cart\",\"unchanged\",\"indentation\",\"entrepreneur\",\"tasking\",\"maryland\",\"removal\",\"workbridge\",\"developmental\",\"tiny\",\"e2\",\"passport\",\"diversify\",\"recipient\",\"uifont\",\"enforcement\",\"lua\",\"fiber\",\"pub\",\"startdate\",\"norm\",\"constexpr\",\"soc\",\"accessor\",\"lorem\",\"sorted\",\"supplement\",\"living\",\"unusual\",\"progressbar\",\"cuda\",\"penske\",\"logout\",\"increasingly\",\"multiplication\",\"unlikely\",\"doesn\",\"prepend\",\"partially\",\"confirmation\",\"freeze\",\"shut\",\"inverse\",\"trap\",\"beverage\",\"kotlin\",\"liner\",\"xsi\",\"influencer\",\"standardize\",\"aslist\",\"fx\",\"adaptability\",\"lighting\",\"warranty\",\"uploaded\",\"scss\",\"plane\",\"transcript\",\"sensitivity\",\"ethernet\",\"booz\",\"shorthand\",\"combobox\",\"httppost\",\"illustrator\",\"truth\",\"layout_weight\",\"safeguard\",\"sla\",\"joe\",\"banner\",\"pivot_table\",\"pittsburgh\",\"ln\",\"plumbing\",\"\\uf0a7\",\"m2\",\"1l\",\"standing\",\"rax\",\"ltd\",\"greet\",\"planner\",\"subcontract\",\"stupid\",\"objectatindex\",\"unload\",\"invision\",\"crawl\",\"dp\",\"corrupt\",\"temperature\",\"deletion\",\"stmt\",\"2f\",\"dl\",\"uml\",\"dropbox\",\"mailing\",\"fixture\",\"initwithframe\",\"classroom\",\"p.m.\",\"drawer\",\"david\",\"webservice\",\"routing\",\"allowance\",\"idle\",\"instantiation\",\"ipsum\",\"dao\",\"mysite\",\"derivative\",\"bulk\",\"attacker\",\"push_back\",\"edi\",\"walmart\",\"nib\",\"silly\",\"awt\",\"denote\",\"tower\",\"elif\",\"concisely\",\"crop\",\"skillset\",\"sole\",\"hey\",\"accessory\",\"thin\",\"pickle\",\"repeatable\",\"polymorphism\",\"fff\",\"webapi\",\"aecom\",\"targettype\",\"asynchronously\",\"bamboo\",\"surprised\",\"morning\",\"arch\",\"looper\",\"hpp\",\"exceptionally\",\"alto\",\"crew\",\"cl\",\"setonclicklistener\",\"rigorous\",\"charsequence\",\"ambition\",\"seasoned\",\"a.m.\",\"crypto\",\"narrow\",\"ev\",\"nov\",\"appdynamic\",\"onchange\",\"coursework\",\"isinstance\",\"phr\",\"peoplesoft\",\"shrink\",\"nunit\",\"arrangement\",\"virtualbox\",\"startswith\",\"tremendous\",\"dry\",\"erm\",\"obsolete\",\"rubygem\",\"charlotte\",\"ct\",\"governmental\",\"magento\"],\"x_coord\":{\"__ndarray__\":\"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\",\"dtype\":\"float32\",\"shape\":[5000]},\"y_coord\":{\"__ndarray__\":\"xyogwT7cTMF6SU3B/RAgwbIeUcGKYlo/pCOYQU+uLsEY13TCMGGuwc3pc0IUFwzB+0ZawojBwMCJzm7CXj9tQawElsAL9MLA/E9LwUGJdMLi42fCcevCwdFNO8HygiLBGaWewlS7U0LWCsfBAW1Xwor+gkKERxzBwUdlQgunRMFjAoDCz7+pwXpIycEPwQu/wyPvv9UBJsIl/AbBqQtLwdPUqEHRbErBvANkQiqEEcK8moDCn3oQwduaAsEOZnXCiW63wbZpZsL8VQDCjk8KwX4LIsLKPF3B9rw1wZfe3MD0QSjC9vo+wXLYScISETrBQhhKwQLjU8FnO8pBg1ZXwjOxD8KE5YhBQhaCQvzAQUFBpTvBVuGAwtcJK8FBfyXBUN0lwjdJPkGu2S3CiiWNQBZoFUIW40FBzdosQhKwL8FFaWFClToYv6KSEcKaHQnBtjaeQteDtMHjzadA43fswIu2TcGMVl3C8uRtQOiha8JnmrjB/9FIQVZu78DXILNA60AVwchOq8G5WITC5L42wVgRjUEAjhpCFLuPwlbiKkBCDcJBHuz7QTfjV0Grdn7CBYMJQqsZMMLVCoVCwQ1LwbII4cHqX6pBGx8Twk/cCMIoNKvBFV8Lwp9nCUJYyw7CewpPwtcrBcHMIMXBYWLkQFwji8JjyuTBdTw9waZtJ8DOr3bBXytOQRumgsLm35xBpW1LwvRBCkIW6lLBTaQmQpC38sGb0Y3CL83TwMYnn8JFmB7Ci2J1QoWfHz97zCjCLEAHwpczDsJT6n/BASdGwVEwTsIIFc5BxhpwQLOIFsE8mwHCjO1DwomqckCt+l3C2iaDQX2HPsJJbJFBGGzTwEkGP8IQV0jBEo3RwVgTG8GMMevBkj2FQc+fQsLpPURBacJgwQUrQcHekG3CMU/3weUqQsGeGaTBiosgwgQ0CMLobU7BtHauwfKfU0LRD78/XcraQAhRdsI3R6tA5j5UQW/9hsCUPbfBH+RCQQakJMJMwgbCszaBQjye3UGBIV/AK/inwWem1kCtgW3CFGwYQWlx18F/aCfBLynuwaSiW8GhqEFBVzHLwCVOg8J0TQjB+06AQddcJsJ1ShPClv/7P0i2R8HM0zxBSV/owKYnPkAyox3Cyp8bQSfh3kBSmYlB0PbewOQHoEH4gIvAe9glQm7ywkGveoLB0xLXwQTOR8FbySVCxjmUQS6qYELEQWTCS1saQAYk58BBe7NBL6Z6wTqyLsFF1cFBclE+wVL9i8Dj44TC7FVZQdw0U8C3IxPCYax/wktb0r+Mhg7CnGl2wfZWq0GhjlnCuu65wT55AMI5ILu/xa/RQXk3U0IpoilCIBsOwigohcJWXv/AxIEgQER2f8BrnQjBuPNbwsWqE8CAYbXB3+OFwv6zaEHoVmJCBEDOQU2onsAx/aVB6iBswsnB1UD3opJBdXWxQVAVN8If+znBWghFQCL6FMI600DCcfl2QVhxWkKMCnvBL6UQwXrPFkFRxLNB+FYPwp2ApkGVPf3BvPaOwuHn98F9BUXBpd4cQQM7SkEyLcpB0FtHwYABkMJ1CUnBdmzMQUo6NsGq/vZBt3A1QIhgEsFCz8vBspiJQf3iasHGPL4/nlwMQsOJJ0EQ9kPARQ2IwAmKosHTGJDAoQRSwnP3HMLNQ0VBGOUAwqnoj8KNf51Cfs5pwRoaFcFQWU3CrZj/wXek9sEMTKTC8yDaQbyvhsJTtInBErA2wY5l7EFuKxpCN++LwP9+zkEB3QjC2hb1wHr3AUC44kbBt1HtwcKGCcJpKVbCLSd8wiQgg8GKyRXCMOuvwQB6AcJwrArCAdHQwYWNuUCbrF7CbMG9wIbWuMDDYe8/p2uBQderIsLDwMDBcUewQXAUjUBOeiTCglI9wqmXMEJYQA/BJMAkQOaZCsIN+0RAnnRTwm7yecLqvgjCT0lYQjFWVEJNdbxBre7GwSXVCMEMGk/Al0HXwY4GhcGtI0xCcU8uwfZehMLuOWzCs1NTQrMyQcLSvv5BUlOXQU+wY0K+6ojC/05SwlnBhcLr45/BuZIIwdix5kHaH2y/LSRSwhxsOsFhLCbCcz0bQr5eSsGCFFtCEusXwek7P8IHMnrBSmXUwP75ycEbAIVCs68rwltufcLigPK/QqIMQiDNQcA6nxHCzrA9wiTlcsIK0BtBkHTuwWOceME6RcfBeC0QQWkagsI4KupBmtVAwv6fPMClmlRCuCgnQa57lsFh6gRAhJJjwkvZOMKeDlDCDL+KQEzhp8G+RgvBWT5UQdxhCcJaxxlCom+6wQdbLcIrjkTBUrl5wTgcAr+ttIxAyxzBwMBHNsKUv45BIlWKwE9RaMKYXvHByWhdwt74LsK10Q/B/DB3wAatO0F99N1B3FBYwvfvrUGeOiFB3EuwwC5ZOUFX5VZCwW4aQmi/W8G4hELB4esDQuJQCsHNu9k/0xkZQhLcrkDygsJBL0k6wYD70sHlsdTBpDuIwkopfkKl48RBwbR+wbfQbMF7e1TCLPKwQJDyQsJl2ozCh9c4wsaHIkGSEGZAMjZ0wc67i8AZ0AlBhXD/wY1dJ8AzbRFBoV/DQcWszMH5zuBBoJb2wfZ/fcGk9FzBLbLrwLsWk8LYqZdBgrsowjyL8sG8UsBBd1tIv4Q2ZkLNoITC1TzswWjtPkHpm4nBa6KqQTWDv8CzIwjBhhWPQSDTakLUrmFBBkyjQb7YiUJ832VCXxgUQLtzAMHC2ILBmY18wguiHcJqBtnBuhsKwo2piUJ3KkNB4VZZwvSE88E+yQxBLNp4wX9mRUH883zCabsfQaZ9TcHGo27C9TJAwkW+Y8AsDalBHifJwbJxGcI4c9FAgOUYwhXGbcHWdbk//0eIwGtpgML8/oRC3+QGwFYYyMDdjX9C9yELQXCJdkL8Z1JCbKOZQPzXLMIYeVrBrot8QaJaKEAnRIXClE8kwez//8AgWyNCEX0iwpdrkMEH/ILCFb9owhgdwEHupuXBi+T+wCX1e0EWhAlBuXKRwfRJ80F4zgvC215lwov+kEHYRqvBBOxoQpbSfsHCuoPCM5CcwVWFikDCkyVCBz/AQSdzhcGrOepBietIwUflKcHJD85A7t8CQdjgacIVH4TChtYBwcBPBMLbf1hCSGFAwcBYbsJy06vAg9VdQugIzkD+qLRA246UwYJ7IsKz6HrCMz5UQoGfy8En51xBcISIQrElvMFbiKjBIw1mwrFiQMJ2f2HCcVzAQZ8t4UEGEZjCmBgXwnQMT0JFWUTCdFLCwBdDHUKF87tBqpNJwBfmd8I1DENCWKb6Qfv31EF1N4TBSB0gwI4Ej8KPqAzC2qLPwL+0XcL18JJAPyDeQbmOH8KwKE3BdZFxQu0MRMInc9xBZpVAws61gcE4gQVAhjVHwZLiBMIFR/rBUEiawR1JicJ8GJFA1LrcwUFBU0HbzgjBk2iewjkz8cEjrVRB8mewwVuFIMKh62zCkjnjQVfoOMIiCVrCmW9VQRvlNkGdbKdB7YCBwor7bsLmo4NAMLPswFsuHkFV8QjBI3WHwuhJLkJHBKjAKZl7QsTF30HiWh9AHSq/P3j7eUHjrhLCAsj3wcNjjUFSxLXB5kC2QQaUgkKz9mnCTeVZQr/EEj6v8tjAOUaqwPesAMJNRBXCigNWwgFKoEAnVGTBnYILQrCMOMJ2xEzCoXZTQRBZsUGJihRC/3bHQOb7UcJA+95Bdg7ZP1hwXcJi3jvB2FTBwM24NMKkASPC1euGQZvKl0FymWTAGEMTQc6dyMH7OPfAm3b4PvJ+IkLnPkVBCIwOwuJRIsKzvs1Ba7xkQtKvLkFitJfAwg0vwgjYnsL6zabBP5G4QNSLZr+fLmfBlp4FwQCXiEDSPp3AtR97wrQADkGFuqXCYr+4wZEQ1cFpXFVC64ILwQDMBsIco8HASXr/wWXJNUDQRm5AyG5dwuhdssGb1xzAeJsCQQPRQMLtXhVCwnyLwrJOwkFjTinBiBsDwdheVsJ+1Q5Cv/zVv73t9T8z7kJB5rsCQghlXELo/mRCvUnCQXp2hkIgdRxCdXucwXFWakJSWtpBsaTfwYr1hsLUrY3CFB43QmMQm8F/FjpAgT14wSIlOMJUijnCyjqcQTeR3MHTT2bCzDxawiWGiEJetyVCfT4TQTvLxsFU6ynAS1cXwuiHY8FDf6BBwfVkwHfMRMEhv3PCzjENQtfvi0IHEcvBKQw9wcH1VUHT50PAl4FswsGtf0EE3FDBOYrOQIh+HMH0ih3CDtSVwtvEh0EnpJLCDdY9QRiMTMF1A9HBEEvXQc6fIcI1drRB6ejlwfmngMG8oGQ/fCQzQmBKTkC09XtCEqwMwZ64MEL3RARA04NUQpO7lcFuKkRBkbaKwkEmyUHqiiXBDtEiQlsWVEHaBeVBxIKqwXj2q8GLcKNBfWhkQrqsO8GdbHHBFviyQCQ6TsEv841CGpwMwlPbN8BdZyLBUmUaQXHEhkGzgbbBxI6iQfujTcIinwXC0VVQwQ+lQcFVWmfAyj8gQdfAdsFNdg/C8MGsQB7lqEEHogzCl8kmwnZ7H8LAwY/CVufJwRoCxMDveVrCiZeZQdrry8ASnh/CavDxwRZvqsHoCKPBr6t1wqM/8UHJnZ9BXpeSwhEwa8JsOn5AixmVwNGmn0AIrTlCLzEuwRCzWsHuQvxBqMAbwQigdcHHA2zBuUAAQjmUx0GufF1CSxQ6whXkZ0JlP1vBJoz7QQFbRMLfxs7Bp+xbwj9i50C8pnjCfbWkQZCpeMH0eYfBRfT4QdLYOsLqkgBCO+/xQYgY0z8LsXTBmC48wv4OMsCvmOZB0iUTwjlzJcAoRD5Avl50wg6+gMJVa6JAiX2BwonBJsEA5i7BoHWaQeBjsUAjW4DAyTaXvtdsLcJCsA3CrgckwRmJFUBaiatBzGC5QWw0jL/1Sj/C1DoLQvaS60Hp4IpAfgp4wUwMGcFA871AIGJswvrhC8E2dYxBOu44wEJ1mEHgIXRA62YywVeodELta4TA6U0CwpF0mkLdWK1B5u4swQ+zh0G8hojBV/vmP9pgf8JzC4nBDjxQwWNs/MHXMmDA13wmwjP+CUIdUO0+5JzZwUYyfUEBxxFCNBslQp55bEGnPYXAwlMXQnKBDsHgWfc//mSFwA24R8KjPXNCJSUPQjaQK8IbAA/CCF9DwAiSVkEWB7bBQFgqwkkLmcLbeaTBCbrEQfodkMKt/JdARZeWQcruYMIdKUXBn30WwmbL2cEeEnLC/CKMwr0II0G/vgDCiLSzQPfMlULi7U9CjVQHwXpJSsLFkc1BNbtZQvwEIsHpC4jCmetWQYz5ZEEYOIHCLGmJwooOSUAtXQLC6BznwZ7aS8LdhNfAWVL9QTzhYsKAyihBUczjwEEUtMFHYaFBn0omQsfNAb9Jf8HBMjBXwvXaTMKa8yhBFhKbv/3CIEKRltVAI5N4QWM+z0HlVPDBEZCOwHfrwME7SwhCmEr4wer32sFxEJfC+yRTwk8ZqkCG5ZzBtluWwluOskG4BcXAepSWQoIPXUF7bqVBh815wg7SBMLhb3zAUgLRQIoZ5ECwBx/C8tJFQfhBdEBwvE7CyYUUwk7Tj0Kez7XBrfn5QR2FAT6Fb0xBTFjmQec9ZcIgue7A+g8cQpRQ/sHs8UdCadiOwtc7TELN3v1AEizrwEGmhcKk9y1Caj8eQZGau0AExvFBMWSfQQVZIMFcz2lCI1o8wjjVd8Kx2BNBmjRgwU+xRMGPvTfB3nrAQeX6HULPuPbAzO+UQly9osECP97AR8bgQZJMi8CVxrZA7Bc2wlli+cEGhe7BvXvDQK6rB8K/fPFBT+UHwUPO0MGi8nTCJgpRQiiZL8Kc4KXBJlzVwS4FnEFCkpLBQpx1Qm8MK8GyVQHAJ/VzwU11zL4AXSTB3H1Fwmq7xEHhqw3CaXr3wJ5JSkLhDh7CXnhDwU8VKEKUHSvCZsT6wFpUmEE31IlAfMUxQh+aWEGnAVJB+iKJv+88t0HI6thABZKsQo/N5sFns7TBMOT5QRuxnUKzAqVAoz7WQYQWMUCxMoVBBAVZwQPlU8K6Ma3BoxZqQbJaeEJhEXHA375UwLF/gEBgY8nAY5VkQtIVc8Ea2DFCGFMLwhOaO0K3vDjBR4vNwKFfhUFNyoRBuHobQbn0JUJzeHRBR3DYP+WWskG4lJ++v+LRQBuzQMJ/teBBaBiTwQrc2UHYoQvCq8VIPxhSmEJBwzrCQSgqwXMpX8JlfGVB5hyqQC7IiMKU9VbCQ2/aQcPu18EzmQjCtfI7QM5HoMDecYZCvQ1RQuxDI8LWqJBBg6c6wuZnpcGIXFRBEnybQEPeZkIwlfo/R9NEwqGa3cE2uJpBT9oRQrjUwcHcMJDBIRIZQiZxV0FgJw7ANylDQp74zsBroDXA6DQNQeHGkUCWsmjBytlcQgRlDkLEXEPC5g1fQcVOMUK7gPLB7qOMwmH3s0EZJ45B5vngQffT3cFLiLXBKTGEQgSlFcBJrhLCSwYtQnYlKcAaUG3CWEBKwsVDHUI6KKLAn23cQXTRg8L9y+i9ujsCwhP1gcK3NvvA8fCTQdKQjcKHjk5BffVVwqtxM8Ce2QxAyWodwCsDpMAq2eFBDKmEQWgBEsJIVuRA1EKVQIBIf79jxbfBmjSQwsBWOMKuEmRBhHSswCoZF8K7BdtAjrpgQr5n+8HzFfzADln6QfzIbsDVfhtCeks0wPwW+UGPViBBrSNcwemKC0JdFAxCY2eGQGG03cGfiJnCVyiXwOv5msGjyuXBXg5fv//GBEJU71bCeGiewbzpt0Hsaf3B4yGtwDvZM0J71VDB9eSmwSLjPkLRu4ZB7lxVwhxGaEEivg1CXMsoP4cQgEF1mILBlRQmwoUBHUCYvEXCGsxQwmzeekKErRLC8P4tQD5zJMLL7bJBM0R1wgJI78GoSiVBDeZAQS6G2EAr/nLBWZXeQJ8UQsKKBAZBBKsTwvSjAsJs1hRBQJwoQRvX9sFlghzBB7uTwsgbSEKlXLc+5jQUQufDmMK++C/CZfqXQIb2NsLaLibCuMOEQhv3tsGhTKRB1lK1walItsGpTSLAYzkAQuOfQ8JIarbBjFtQwq3/t8EGzjdChrICwvRuI8Kt7w/A2qGJweKmTcJ3yirBOYWXPuqcDMH2LppAbaf2QbZI2MBzP1fBwFEpwYuqGELTutPB3QBtP/ligkIvD/7BXenWQJSW1sDUckvCcKzpQRx1gEI9QnvBlHcWQXguSsGZg8TB+6BtQlOQgcHnnEnCj1J8wUulLsGTkjfCMujFwO6ZB8GfYDjCvfdgQPeImkLhzltCbRuAQpb1j0ErX1/CGsTxQOL5nMJq0KRCuBJGwu9v6T9twDZCG5xvQk/py8GH5olCX2r1wF690EGpST7Cju2BQW2sPcKkGDPCVJ04wlzNgMJEJ8bAH7RywIFltUHsvxvC/MhcwM5/5MClJrrAkWBQQhpuWEAFCKBCy4WQQXQIZ8JbzT7ByeOoQcSZtELT4i7C3+iwQbm/A8EgEuzBJ9bpQR3UtcEddpu+sWpMQuzz/cHa0lxCpgnIvvnHN8JO5RbCBPRZQqBOYsLNyFvC5NB3QfKV/kHZzIDBeYRtwscud0ItbE9CZ8KXwl8UCcJ8IYjAMPsGwugY/MEm8pVC3BaPQslMl8BIUl9Cnd7DwZx8j0ET6tXAYy8kwpars0BidWDAU5PBQQWgTMJhmtvBgsTqwYXRJUFBT7fB1ec5wgHhREE1RDBCQBigwoCsAMLq1fdB+Fl9QpeiA8L/Ff9BKqV3wrXqE8KKQBRBB02MwaK7dUG0OVBCTFLRQRo3hMG3A2xCfolOQosY30BnroBBAB8rwv4H9EFw2SLBkoyfQsYgW8KfxIVCoPhiwhOlBcI2C/bBNBpVQeEEJkJHsLs/umRcQuvbK8A4NpxCJhzzQQIXZ0IhuBDCvdpPQp0qBsE/VyhCu1fqQBnzzsCM2BDC2nUYwbFbGcIn4Iq/UgWeQb3kFEKHJmXAJbvYQHGONMCT74dBiBB8QnZHtUBWsyHCfoZYwfCzCcLmc2lB1QifQX0Sv8BunhXCab2PwnJoxb936pVCkDUTQtdcFj4kqEfCVk5RQhAWysELxVPCklWWwZoRmsH3dqpBlmvLQYS6fj/jWvdBAKGDQjVQQsJblpbCPf8rwqeoSEJXzzBC4PJWwtz4ckLS/ShB8doDwXSDI8HPzInB29/mQQf3C8CTND1CkSVSQYXOxcAgyi1CyDOhQEteikH0cZFBNm5LQsbwKMIXe0HCs696QqM+BEBKChzCju5MQUWbBUEGl0zCA3U/wvSoFEKWPaxC9A8FwhUGKEKK1QNB9Tm9QJFkz8AgELNB4shPQpw/SsJniTTCmsTAwSoblMID4F9AExDnQG5L80BTF4jCbb8FQnhDZ0KYEklCOS6cwX8mi0HBmWc/O6R0QfC5IUKaAlVC01O7wExVisEF5R9CQ6kNQvL1NcFPSPo/1TeLQM8GYULZzFJB/TLeQR0y+0ENkWLCkXaHQjRfWsIeGyhB3hBBQmodlMKv/l7BmGY8QmyHUUHHfOHBL/oEwSGQLMABeEdBOX6KwZsfncEZWZvCVSP1QXK310FD9VbCmTBOwV8o78Hb37rB61bCQXzzG0FD7ow/EfjjwBqf0EEZVBrAZvSVwmENksI+aRrCl7ggwhXR0UGHPvs/CxZhwkuS4L/0j9FAKLTTwY0MhEAoc5lCtc3KwItbVcJgLfBAZl0EQt/pEMHDrZbBe/FjPUnTZ0LNxn/BLdA0wnsjd0KtEK3BsxmPwsi9x8FplSvC06V1wjIVVcLtPJ2/UzUdQg+MYULuJxLAXR8ywWTJOUF/FznCCT/OQY6/OkFA+m9CnejxQUp3nD9LuhTCvHSnwT+N2UDGRjtBBmgLQXlREcKY6c/Ar3MXwhsKl0AeC5E/W/tmwJxAGMLzYgrCUHyZwN7ROEKpMjxBiIcQwh26Y0HcDxrA0IFeQUL8ccDm6BDBaqCOwWj9hEBehxZCmyP5welzJ8EZs0DCX19lQf7Anj8ef+/BS5UAwvM8NcBeBLRB5g2nv3d+kcCCaT7CsYxoQlN+KcGTJbnBUewtwmVdh0FZJwfB9i3eQIIilUJDaZ9C83P1QFKseEJn4AJCSzb8QZKdKMDXjmjBvVhywe00gkGovpHCrH9xQsHVj0DezAnC9sDPwReYX0LaMwK/5FMfwZ+wK8JfxW1C4itywmyXR8JwA59AxeIfQi3AQcKmwzJB2hzDwGrkX0ILnD7CRt0pwsLpUUJ6W5XBubuDQYqQe0JkEgtCGXSbwXfWikIv2JpCrbj8wSZr/0H4dR0/miANP4TACkLmclfCS+iVQuHiJcJpLEPC5LwWwk7KXsA140PCZpQhwj5FS0K6ykHABv76wYzWB8LstzfCdVvhQcVSHj6yJ0tCr0CxwYdrVEKcCR1BizK5v6u5CcEALxLCkEQrwtOsI8IkvoXC5dxkQtoY4UHe9o7BobgSQm3dGMJHpINCcCgjQqKrW0Lkp4BCDhbfwcuuX8DzVDLCXkAeQtlO/cAEDlzBD+Y/whZNXkEQ8DNCbNc5wiElJEFIGWdC1P/7wextn0D1z69A0cGgQob5V0Li6BLBHfoUQiH3N0HYg0FC+ONWwmT1pcFg39bBWg+kwPVRjsKwHz/CzkndwYAUlUFCOx/CwPcsQTcviMFFFHnBdf6TQoUEAULpQzJBokIWwl2Hk8JmndnBjjqOwi9uFULN9VbC2ANbQawWDMGXhG1Bzd/VQU5260FFlVRB3FQKQtouzkGXOSTCmQjBQScwkUGbzE7Cp0V5wuoF18Fra1bAD9FvwupSisJiJFxAfl0CwahkI8EgzuRAIoYdQlf57MF5mSVBpVSsQfAvoEF+MHzCoecBPjqpn0INzBJCgeUTQmHpJUJGzjDALqBDQqQXpcEMLirCxGVdwuv2kUFgFI/B/NxFwhxg4sBGRpTAHtNMwrZaPUE6H7rBGAW+wWAWlMDpjudAtT2mwY4H80GX5VBBJyVkwc/gCMI5kKLA5ExaQhrUl0Avp/lBVOYywWtWgcJxuibB4cX4wUNyJ7+zUgtCZuVAwsNhiEKgBW1CyM8IQgoQo8HIbH3B0omhQGdU90CYYHjCOWCMwhghocJmM6lBLSgMwrU9ScJktWlCD5X5wTFszUCdPDA/f73+wXZtfkFNr55CBHfYwTz0ssHVP9FBP7G7wQTfFcBCWIPBOsd2wRszjkGM3FZAnjJjQUvVB0JYBoLABhYZQIoc+MG8Y5RCjMMdQL/PcUENeiNCXSNyQqQrfkJOaHpCzhsEQvwPKMH0/yfC4MhKwt13IcLJeQRBYrvhQdqin8EW/EXCj115QXjU88HGX1VCQ2CNQooRSkJAQzBBF+bTwRyoFMIYuZxBj2FzQRsxNkLcz/FANbjbwepTfEE0pBtCQrl0QRiLAUI6WF1CelmTwiFeysBHODxBG3ABwkQcf8LCQZDBWXLYwVF3asEB9kPCR7NNQj7sjsDPkCnAAjoBQuq48MGvg0FCYt7fwSnITMGMv94/P7cXwhUlQMLNpuVBVHyCQj29VkLQiWVCy7sOQrSDDkLTYD/BKuw/QnjvusE2mAPC5on5wOEWpkGrV6nALR4QQWB9gUBYS7vBmQfMQLE8KsIAKhtCBwmWQZlKb0Iku4xBrcBNwrU7V0JbOcdBBF+Fwm4YgsFJlSDCtrTvwSx5dcGdKv1BhheXwFPADkL+7jJB/Jh1QiX+N8KsupTB4yecv5xSl0LLb7lA19qVQpiYn0J15iDCcEpCwm+cLcFrMwHCXMaSQJK7ksKLpqfAua+9wdg6+cGxxjtAHDlkQnR7n0H5pvPBdLhewqVloMDu/NLBe/c1wjdcSELmNgm+evcEwdHPq8E5BRxCmAi4wdffh0L5YTtCb/pJwU5zmEJBPIrCnXaowek7dT5k8HzC8uQOQY4yMkIbLxXC1gvXwZFsPkLO5jjCO/m6wXMN7kFDgwJCLeS3wacf2EH+z/RBvImNwaMVKsIWJYBBg7UhQtDT/0E6RvvB/9XxP85iysEAwzvCbXCkQlLN1sBPhI7A6A7GQVwYz8FltyHCyeCYP3w2g0HAsuG/U+ViwnDRrEJUnOpB3YVQQs+zkkFFND5ClysUwpJ+aEJez7pBAWsowinhn8IS4dRBTd2CQQ13jsG5iBPC2lgaQnS+CcKO1kzA/8zFQcUEmUJD6B5Ch0HCwHEEbkIfgLNBQP8BwrNNkkLHp/hB/RqmQqGhc0LSOqhBARXJvkH3h0EcMxLC33WHQktRNsG0lZXAdMylQdbLZEHi3QvC+V5FQNrdHMAEVQbBhpiYQpEhjcIJTz7Cl7NTwvFIZsL0eQpB0r4aQpknlEJBp8DBWtNgwmbWF0KoiVdBimdLQdlWHkIWbzPCskSUQnJ6wr+7ujJA2TJhQp2Ji0J+umjAGDXWQecshEIhw+tApB0vwlp+OkLRKuPA31KHQf/RAkLsPpHCakxXQtjXh0JVrOZBAS8uweyjx0A5t+XB4IipQcXURcKKO4VCMKpJwl2/ZMGTmZ/BSfaFQlYamkEusIFBPEeMQpiCOMH+PZTAbC5SQhL9X0KLiqXCB+cdQufwZELUWIPCPk4zQYU3DEGxyYLBzroEQmdCp0KaVxFBm4eYwgZZJUHxGZHB0DMYQstekEIn27bBa4KVwu50eEKq/GzCbB5tQvE4+EFI1Ow+9q3YwXgGvMAD1ghCiP7VwYYDZUCOd5k/ye5hwcOSYcK1gyVCGK8HQVPVYsKU0QDCDI3xQS9Q80FXrqhC8EOrwRe3Y0GYQ/hBs6zxQTfmW8BcB+NB66RBwiazHkLFzNdBnioeQvMJt0GbA1TCBQN7QsDkQkJvxAlCtSKzwZ894UEmwePBtCOOQSPbUEKGmP/B1CjNQTa2Mr4ov5RCI2dxwZMCYEE0+lPBdWUUwnWDIkJyRZTBwpdbwbt9/MHYJejBG05dwUPJ+EF21ifCRhCPwoIBqMLR6Q9CX0IEvzRdJsKcwkLCuy7rQcK0GkKdSoDC8jKYQDJp1sDLNO5BtzJSwoAXWUEHiIJCnNIRQhA4f0HNF89BMlfPQR/DM0KPq5pCK2yUQGifC8LNpM3AJreKQaEPK0IHJoZCHk5LwhwY00FLHGlCDDl+wsCJM8K1otjBysSbQtovE0F0V3PB9xdEQQRp2MEDuQLBqG0jQqrvXUCpHVZCUpnFwQIZ78F2zk5Bz8FgQoKpakITfyjBykRGwbilBcL5PhFCepX9wcxUpkGaBbhACxIywe1zgsEvAIBCmOwDwO1uUEFfbmHCUyqPwvCv/kABOA1BAsF0wWWMG8GugMZAv3AXwtJrFsI/Wo1BLO8WwjdZUsKs8y1Cjt+2QMiNlEJDxDRCioqLwnbMd8HLSbxAcW8eQszY4MHIBLPAo04pwq7veMFU0kfCzLpMwjqzxMB1gZ3BczdTv3raScKjCv3A4RBJQoXIhkE1zJ/COX1DQgVpAL7wrvXBDLQ2QgGxA8IPi6hCjUSUQqxXkUEc3Q/BgWnXQSlrWUAjhQTBhp5SQpfMN8H0VblBQXdXwoJh7sAd645AFAEQwghwmEGQjItCJN5/QtRk97+1DGZCymsSwvT+5UHbEo8/JGp3wFGAKMIllOLAiGplwB5bqUJB71A/UCHRwc2BQMLkBxRANqLOP4+bKcGQOlFCkOtPQqSoSEJjHpJCP5xQwZqa6sFBYLbBu5ElQsDlJ8AYj1DBFqAcQr5wLMH1PonCgUFYQtKSNEJeBXPCCX+JQtupBMK7ARBCfEvFQSYydMI0ubnBXvdywiD8HEIOKwrBheMhwWsqgUKRuFlCENGTwE7QJ8KBgnRCqAWEQuK4T8K1PYFCN5SiwrrldMJQ3QVBpxlGwvtXfEH2PbJB3VYKQlIjsUJQX4pBMsBoQROxBEKM1aPAEuOnwvQ41cHjZ6FCT6FtwRXNDEHcd5VAwAMjwE4V7MEd6GtAMtPnwZFwOUL4h6TCmjQAQlZQscGQ/K9AT20GQXjWjMJw/0hBFyuoQCY3i8LkiIJC7YX+QZ1SOEDMFqVCrdiVQQm5LsH+fhPClKdhQVuhtL+7uabAmTY9QT8lQ0LQWUtBgW0TwntArkGD1Q/C0CCEwGV8EsLuMgbCuKYNQqi+FMKHRUBCScUpQo9vBb/IqIlCu1d8Qs3wNkLGb/bBwZF9QWdhHkKFYvW/7IizQS3d+0GiFA9Chm6hv7Xah0J64HHBfuHKwbEzasK0omVBGGBFQjIDn0Jm/hZAN3RdwrAdYkEECo9AUlj4wVON6cADmqdCElk2QiM6gEGC1ghCkiq1v05wFML9S41AAsBzwvI3U0JaJ2rCRbuAP4sjaEJcgZDBk6FzQqjA7EB5KK9CGPpwwJ0uzUE3QJnBofBlQXYtgEADOhHBE4+TP8B3vMHcYBfCDkuWQSN2zkHKIqvBIx+TwbP/V8FnXiZCfbtLQcj7SELrCJXC0Ks1QrWtlsKVXynCW97sQQ/LQ8IUhdZBnesBQohiQMKw/RnCTlSsPzAZcMEC4oe/BrsNQnAvh0IhJWZBGtSTQd4XpkJ6qIvCP9cgQdxxdUKubeM/gGONweWOj8KnswjC52vpQWHuNcKYVVrBH1QXwcXmq8HDfHFBiq4owfQlAUJnzl5BjfatQWRZukCBjmtCv8GLwQMjK0A4P0NBu3alwLd1a0DLvD7Chd18Qsv+kMEoKIfBFGY5QT9ZIMERkorCh50zQRI2k0BujFDCGUiCQUuKn0J/NQFCvrWpQiaqekKk10LCbNRHQSWucEJjyktCgHONQVRBH8KZ52fAoNVGQh14AEJ4okBC2UWVQngFQULbsT7C77UsQgZCVUL5F1FCSid6QAFShUH8vgZCR9r+wDVzT8L1NyzAYx5gQUf5UEJlL3NCtNeawvWxsMHc4m5CXurSwTEi0EHSYsDB/q0yQTt1A8E5rnJCFH7YQERxo0DsWqVCJMSDwuz3fsEsD5XCtN2TwkXWB8JZSU9BVzwZwe//hUJLK1rCyWcWQXwS4MGtiJ/B6DhOv0J1xkAxyuZB4ijMQVfqrUG2I+xBTk1YQvGsCEEOtZFA0zpmwsaMGsLhU0NBPilhwW24Q8KPjBXCoWERwh2yO0CowdPBiupoQJ4SFcKKQcNAEpGiQcFWgUEvEfVAR74owAHodcBRY4nC7DYPwt+ITj+lNe7B5t+BQpU5KMI8MI4/M9dUQopQVUGy77/BRRh8QkkpA8EMHD5CGXpnwkl1hcDMDYDB59SnQEV7ksIDmZDCgZCrQuaojcLSXWzBTb3qwB9h6r5j5VzCJwTmQD45bkL/3g3Ae+cUwhyIoULY3EfC9s8RQXlVTMKrgYlCh77FQZk60ECcFsnAO+AaQXuFI0KF1FRCxENsQHJjQ0LxVEjBRYpfweLWoEIE4IHCJssBQsHzOcI3HspBXp67wEFHPcHAJlVCQNvPwN94vMFRtOZBp54nwp3yQMEs0qdA+1uUwvBUFcIlVMlB7kobQk87iMFxS84/JwbLQCLIEULVW3BBW68Swd76nkAleJ5BbiurQdoIx0HtlUDAebv5wazcnsHpnF3CuT75waLlIkLRcmfCrbouQNRMl0K4dWRCUHJLQtJfgkIfhVVCBgapwO4y/0Ay0D3CruifQD0VBkJXLD1BzWVZQtDGnr+ps/bBzrsvwKl/Q0BfcKXAT21JQuvu1MEW+4vC0s6EQCQvmEGViQbBkWiFQnBJl0JUHAPBtIYpQt3xJEIMRifBe8r9weCqkUH8JGPCK6kGQmobqr99Zh5BaJr7wX6ZcEJe2X/BaIUmQpat2sEmsuFBtg4WQlcd60HorhdCM5gWQmVvDD/mz0lCvclWQW7KpsC2uDBC6RWtQhXb+sGKXETCNOSXQUJ6gEJQ6ClBxuesQifLg8ICF2+/BbUVwrbYWkL7nVvCf5lKwn8610H6Op7A/Mpfwi8ZgsIhg9k+laHVP6uhj8Krfp7BbUpLwgwWXUFbronCcEbhwXLBlsF6vWBCppbcwR9LAkJaTktCxtSqQukyJsI2blDCfItkwqQfBsIF1pPCJemEQLbtoELyk0VCJ+WIwpcpocGS/7JBeoFDQiaV3sHPJqvAuAsfQT2TIULgnptCHbFMQVjxVsJ+SARCC3IRwHOsi0AWorfBeCp7P8RoPEGZY/tBrQhVwtUzEsEiBhNCyFGOQTwppMFJK3VCgz+Dwhsxb0LPFqTAmeTnQTVyPkJEfGpCRViswTCpuEF/v8K/nrUDwruvQ8Kbh8zBYJCjQqlnHEI6w8bBiHOXwmD2+0E7oL9AcqIhwhSYFEJX4CnCCH5VQvjKC0JK9IXA1T1TwktliMJHAsDAthh8QodC9kGiuAXCnd6BQkyCNUEBakfCZVIRwUOUaUKnVOxBnONfwWqOUkHOtJDCVzerQo8yKsFajaPCLVntwT8ke8HDf1hCkX+eQcm+wcHmMUVC7+aFQotB1b8y5+I+5/2dQEd/ncHhpJDBt2M7vWYj3sFqX1pCSh2hwe1wKEK4+zW/zoSbwggkpUE7PQJB+d8vQedNGcIP4AvCL5BswgydksIRW5fBVjOlwvZ4jsIl3n/B5otlQmnFW8KuNJ3BUFlGQU4U40Ed7AhCZh8zQdw0T8Ir/p5CV+2VwgZ+iUL7AJJCrWx9wXJuoEBnLoTBlG0tP8W8zkEL7u1BEE3BP1OSaULkrE3Cw+rRwfTEb8KA5YdBqvBRQa4TNcFAtkVAjFOWwa+JUULoJQXCMh3GwN2+TEFAcZtCt4WIwtMvBMI+eSXC5KI0wlJvqkIMWuVB052cwv2fmkJ4eT/C0FnkQRJsfMLRoUxBEiy9P6GWK8JpEG9AwhqXwZX+i8FuWC7Cf1kuQo5tt0EARwXCXTI/Qhb07EGZrFBBxOWLwpdXZsINy1DCype9v6DWj0HloCPCn80cwkUIUcKkGFK/brK9QSiYZkJgZFNCo+eiwsmZysE1B9bBM3hdwrb/x8F1Kqw/R7QBwv3mbkH0H07BeYkkP5eBjEJij7rAOMQCwdTQKMFYARfCTE9cPy29p8GxaShCiGnRP4rsX0L8l77BoLyawf6ajsLSbkfC5jtWwoAPFcKPNz7COSjpwI65UcLMcbPB8tXTQeyAuEGn6bjBS99LQQL6MsIFESBCoklyQqMiekL7RjjCZu0xQWE6WULXYSNCwjZOP7s/LEE5lXxCOIc5QvLQAsEw6Py/KGL2wa7oZMHm2+ZBtRCzQpuRLcJ0VFFBQRlNwSd6k8IxG01CNnmJQmML8MC0cetBZJWMQpb9X8IcZe0/1TRgQr0ADULZCTtCPn7PQZf1X0BMu/3AIPGOQaQIAMIgjt7BqiEswl2WAUIuHinCsVk1wkdf/MERK4VCUzBTQswCpsK0ApLBdlfZQHF0l0L7S6pCWQ0owjrBmUKfKObAYIM3wiND5UDPDelBW6RjQko9WcCP5oBBKoIhwv4PucDrG5bAFSWaQYEtHkLN7S7BOKFlwbSgx0CvlQnBrEZlQmJP7cE0iwHC+a0GQuNDK8KB5Z3BAQcEwm2fHcIxpkDC03aGwsp3E0KskTpB8/4nQCInrj/gv5HCNmn2QFNBTsEeBbTBN2PGQYbOKMKs6sXA7XEwwnw87MHoRmhBNolOQuEIecHRosVBbhVHwjtRJ0LxgKhCP4zbwetLTEGdPBTBDj3LPuAMMMKqxyBCNXZWQFcEYMLYU/fBHEJuQsgyK8JIVLHATZQzwl+9skFuCPjBx50IQscddkJ5bqdCuTT9QZBF7z7ZXRlCN5JHQSR+XMIcQ+TAM5pqwi6/hEKnAvBB0d42wr4aN8KpEFPCxQwIQu1g4EAsQlPCmcsFQkaBk0Iz+oK9vcpYwgUWIcJaCoRC0whxwkOE8sDB0iZBQwt9wCTXvD+/lJdACtKJQp+zmUEtq1jBaczkQM3ANkL+CyBCpUVJQkaM5EDSjBRB/3h8QaSSNML8R4VC5nc5wlxmTEIVC1LBqGGWwrsSI8BdTUZCh+egwXL9m8LTSTfCMjAnQnBvd0JV6rhBzhl0Qp8q38EkCARCP8vjwFHHssEldp/Bm3ZDQlvNY8AavWhCvUnswGZLP0KKjYlCloLZwcPTe0GZhsI+LWC7wArjg0L+muRBxaksQnb6KUIb9qRBYo4VwtKtG8D0gxrCav+sQtZKTELIcdbBUN2hwCHPskEoXjJCgumZwSiouUF+YM7BhuOUwUtlIsJPdSRCike/QDhsVcLZv5vBoEs5Ql7AKD81W3rAoHAuwkzNTUL0xuZB/xcUQnqHZUKDSpbCzlyLQSy+Y8LV/v3BqpAeQn4KasCvWgvBXG6EQNdzhkELdAhCTfXmQbyrtcEiEphCZrNIwWJ0u0EjGpTC8zYKQXlhKkLoPidCxV3lQbdkgsGfYaBAb1smQWgSRML71SbC8461wSzAFUELaFBCXPxYQnn/LML5FQa/qqCGQeNBa8GFS3VCJ01MQrZ/0ME3DF5C/tJHQdoFZMGXS2tCoP5dQPBhJ8BOMztCGdmjQdT6i0JFRZPArM4owreiaUE13EnCVEtIQtZ6+kEDg/jBlaNNQvCVmsH9KIJC0mJpwPInRkKBqKfCg6cbwZWrkUKOP+DB3IACQf9GB8Bsvvs/odOPQuRQOcL8u5BBtKfqwbi4Q8F2ngXBEU0cwkgLDkE62kNCjIZ0QeLXscHVARrBvzUGQhn+D8EUd2Y/TOuIQp9FhUGHuejBEB8kwulNzMGAxydCMAXPQVGsR8Ip2idCsZgWQi7m98E5x7hBarirQQF0FECDJCdCHGDvQZerwcA1KuxBTdN8QHIjVsIl4BtCSp7CwcptZMBlhifCOEZFQv3wY8JAYBPCfVaZwIc0UkIuPUXADTeCwpOnJELw9XTCEaCGQpTtjUIc6lhC8/uIQv9s1sFsKaPCi2NVQlWLX8AH/TnBvBTWwTxUZ0LbfUVBPz8PQL1ugEKOSsrA4spBwp4Dh0HFciXAPwD3QJQoU8IHygzC65UOwWpRG0JIytVBl8KUQmA+n8KlEVvBIZjvQTlEDMFRXRPBC9g9QqxNmcFwxyFCQkrdQSovfEEQoGnBLP0PwpdSbEJTiUrAVnIOwtagc8I8x9/AMo1FQdJ7AEJWk6NCIar/QRVggcCcJjRCDJB8wbIfckIvp9tAPF0/QVS9DMFTpVjBqhPDQdUNjsE5TbNCr9hNQb2PVEK3uQTCZ8SGwOofhcEwk+jBiKCzwRLbDMFLN1DCQcdZQkHRGcHrt2VB/SEiQtgLRUK89YDCGL8RwhCwo0LJj6NCfI+LQix7lsJvuCRCmCyMQYuZc8C/BEbC1VqOwcumIEJ5Vf1BsP+Twdc65MAJgkhCOJokQsdk18GySnNCKKqlwsUB3EB/nXxC3/KXQT/ZssFdpj9C1OWYQqvzZkEwLWJCrz4EQqpOoMFQkEhC3AfFvltbikF9n1dCTa3JQBlSvsDqlYRCHAcLQbtSKkKrRK9AJIGWQUErZMIw0tfBpSZMwu1J9cHgQt/B8ltrQsKBcMEqYdpBlQMawsXtFULC01/CK9dKwnMFr0G3VvVA+Z0bQtKUdEASIR9ClpgFQlQuJsH4DIvBdalFwvZY70FmvMHBF9pRweAx7EBuVNS+2QwgwjMO2sFsuNhBbmSWwsQtgMCdUSvC3CNTwtudCEETNO/ByFkkQifjHkIMwdFBdu4HwarFhELnA4zCwMSqwcLtS0KE2DTCfr2XQNAIO0IWHW4/5raIwYtEr0IRym7ByaygQTkdk8JFjcrAR9uLwgRqD0Jz03DC1xGsQDQ4/EEjGovCpdp2wOrNoL8+pt3B52xaQqUq+0FrLYDCfD05wP0GVULSmJdCSs79QOYXaUEwpeBASa0CQEIqj0GTaPJByprpwasSOMJD1qJCJF6bQaT7d8HIRlTCko+OQcMZMMKyvjJClc6WwYejTELYCXVBN+ikwmUH/0Hg70zCh1iWQi48n8LXaC9B2z2BwgagNsHWwhpA7OOqQkfrhkF3GOtBgZthQaPye0BW7zlBSC4rwqdefMBHOtXBTHYsQCDsVUK6iz/Cx67FwKbQMEKr1/JB6XiwQgdNScJKWmnA9jFCQKqRjcKu4MjA+9nnwIC5f8LgGCbBEXyLwvgTlkKB8FhBhehpwfqf3sE9GVy/7ieVwL3HIkJIwLjBURaXwmwMeEIS+QJB4f+LwDBPucGlHQhCNO9xQRXqTcIQhSfCQNxVwb63uEF0ZulBWRtaQbmCkcH0X2FCeSbrQdx2a0L7x69CJ6//wUoV1EExMCVCijSPwaZlvj8FZtPBvawoQnXbHkJN72jCS9FZwr5ej0Lz/NJBGRz7QQiX8UGbodjBRb26QdcHo8LcbHo+OjEqwn6vCEGhXJPBA+tWQqYCQcKrKQfCYMeoQuLJWcCgO8nBSBNJQkCOucE52Z/AvsgbQuysFsJqejhB4kZ7Qvy520GV09xBKBwdQMFkgkGMiR5CLMqsvVS9kEIO3VlBXyYcQaD310Hnw3XCfmkCwgI6acFApAnC4u05QQMVgEIZWlFBh6pKwbejVsKSFCPBi7aWQB1HM0IDfAfAfsyTwmZLZkKFrNBAS7SSQDqQbcKmW5dCtoUXwm48K0IYhjJCqJgVQv1aHcL+WnzCelYVwmdtxkEmpJ3Boo1mwpdLt8ATW0/BTVFFwiBERsJGo4LBMRC1QJ0iU8KT4mJCekSjQUgjG0JuVNvBOGMQwjp6XcIzVUxCXmibQXmfUUHP9/VB3fsOQqikAcLEZUpCEFNFQnnwwEHw5GhCVeuLwRU7FEElQIRC/QEGwl6iU8BMrR1Bb2eNwJFr7r+6TKfA/tklwHK0YcJa3AJCMm8KQXdn4EGnl11BXdlnQny6p0KQMYxBTXXSQUjfNcI0x5RB/NHkwQFoHsL3sI3Bd1fUwCR+KsLBa0/CBPPzwYOcQkJLFiTCS6OWQXPaGMLsiD7CraqAwl/6iEIjxo/C1R6GQvqm7MGh60PCmxSNQnubkUF48h9Bk4IRwOGIWUKhNlFCyzlYwjc2ZMLTDiFChs+NQokN/0GCbFHB32m1QqOPQcEC4K4/UMKYwCbDcEGltoxCI+dawp7GZcLRl+tBRoJXQv01I0HfjiBCt1jZwQxuAkK3smFC2JNkwmMEisK1N0/CjI/zQbK6F0LycqtC4u2MQn59/kH80SNCGhqnQX4uQELDtNG/DPbPQJClfMHmPKJBpGT5wYRkEULMqlnAPoQpQtXcVkEJQUFB4Pffv8sVekLl1BjC8T+UQguhHELG/mbCPLoeQrmJuUGrVwFCcpqKwoC+BcFWEQ5CUmpHwk2eVEHSS9dBzsCXwSpWRkBjfF9BaSsowjg0hMKvzXtC6tbSQM7VgEENEQZBEVL4Qd4aq0J1FPZB8Ns9wuPRLUGMMJDCJh5oQjIAQcL19GVCLZzNQUWGMUKTRKRBW+HpQeqg0EDincDB8n0TwhPOHkJlXttBxtZOQfyLwMFC8jPB7Buivo5OmELvYXfBRQMmwiR3hr9d8TBCC8mWwUgj0ECbjBxCeQ2FQdVU5kHufg5C0oGXwmHONkL2a6XCmnspwucmiUK7BZpCUrGnQJToTkL/KTRB9WNkwtKeX0LoTafBCnUGwqtLXsIN39DBaihQQuq3YcJjXOTBvfIlwn0GsMEl0DfCxaeiQelQpcHYITRCQ2XmwQrnZkJ5gw1CKNYRwrvccsLRBBJC5ytewaid90FtzELCMScpwfADncHa0pdB7XFbwhFzSkHdD1bCGSe6P25UO0Jf2ShBfX+ewW5gNsKajkbCjCg8QUa8x0Du/pVBd6YfQrN5sD8772VCiDyPwZQRnMESv2tCvrITQoa8pMD93azBaUlCQZZQmcGZPK9C1DWdQarTDUKLAoVCSGY4wuOGucHN2CdBT9IuwnaApcF000rCEaykQkuOeUFma2ZCSZ9VQq9viUE6oF3ADHZ6QN6wAEIE7DhBwtCQwXzFrUHlX4bC55k5QQDfwMEtpDBCWySTQO7+qr55i/5B7/ldQqY1lUENibbBTCTsQTgAr0LXHZ3CIwstQMpxLkLSb4BCwkvZwTyPKEKwWGVC8ORkwpCY3MFvzKTAhAHAvYPD1UBgRAnCL1hDQhZN70H43EJBEk6WQl1VQEJsVZfClR+iwX3oDUJcXOxBfN8ZwkZlAcIV51ZBQfrYQfCJRcKetmxCFdYlQvaC7UESf4hCv19XQS//gT98whZCDcyewfEqXkJR5TdCIsmMwoe2cUHLevXBfpABwsPZkcFrFA1CIi7Bwffi5z4aN/xBwiTjwDherkJzqxlCdJKhwYcFBkKtDoTB5AFOQiO49MFNvPBBX12kQt1x1cD7dR5CxNyewRWW6UHBgKU+UpSFwi4pL8KI2XbCt5WSweUleEGJJTtChEn6QU4urkLuCTpBWFJmQor47MAVFk7CdSyCQnhdOMLeY1PCYyBtQoMAwsBm11fC+2P5QeETHMGC9NRAys8iwsSjocL9SAvCRVnawUYHeUI8x9/BnX3ewdE1VsKli9zAEt3UQDFioEJPKD3CJpMQQIdOjkBbshvCUZfFwGf7RkLRGmlCngEPwg/bT0IOo/JBIwKSwbs0V8JZwbZBvf88QhIis0FGC/rB0cfrQPPhTUKrik5C+cMAQuHJX8Bj1JPCSkOLwFpW58GiZrHBv26jQmp+pkJlfxNBvbq+QUmlxkHbdsrBHtnjQUhnjEL87p4/God6wbClQsKJCkvCh9AJwUttbMJLGoVC7YQqwrVDGEH2TQ3AQElnP97UWULDYizCZREHQXplD8K/as7B6TDqQSKI+kAZqRfBgIPawUMRIsJl75BC22BMQTZ1L0LYumBCl2D0wOixxEFuLCxCO2ETwt8+ucHzRYVBo232Qdux3cF1+ejBzpsoQlQelcJN/ujBAwUpQn4aGcIp2D7CbRSGwjop7cHBhIfBIE8rwrj2CMKojgNCJglowY6ucsHpSYXC5uugQnIwN0JasPRApoL6QPWC0kF2wVjCi9WCwrLbVMH6k5zCMTdDQmHUd0KqFTvCsSAAwpfIFEI9HB1CZqIewYG0XkK+TrVBcTvkQCc8fEItQqlCSPycwVKpZ8It1M9AyaUnQn5FAkJeZpDBfUcBQi0wkMJXxilCjAcFQmPx6kE36xXCRWQKQkoFR0Luhx/C4VhcQnmd+cGyulJBgtmgv+YZlcKG9mnCVgGqQp/Wc8L6HjtCQZqVwU2fwD8DplzBmH6Xwj92+8FATU9C6gwuQqNXEkKwKVpC38wQwjexYcIYpdzBDUDUQffkhcEojw7CqbNWQiGHWUIATuRAiaikwOGDhMJwHofC6lSlQnDXUUJxlcVBVLGAwmncfEJXamhCkYi7QeU1DEKF2RRCtjUSwi6pcsGRghHCsH5+QlZyjUEalJxCEtcYQh7uhEKFpZFBv2TDQZuIocKmSg7BvZM9wmkHA0J6d0PBkcXpwCZBEEGL4jHB/JyPQjxYzb8CBEpBhpEQwkLOjsKSF9o/agBpwWyAJcIeoXHBqkaawu2WKEJIq0hB6CmFQlqRbEJv4yZCWBtPwks6WEKsXRDCX33SQEwDbcIQYifA1zomQs6AKMGrc/g+slO4wGCSRcJEIDdC82CNwpOjA8Kn91FCNrUEwUfWUcE4HQjCdMAnwju+XcKNyEDCYscyQVEMtkEweENCEdoFwkg2R0G5iibA+M1twrWFYEEAlIRCCJENwqoWOULqLKdC76gkQqq2jsDqC99AnZ7RPsY5q0HEnEfCEXCAQpUSwcE+25ZCWzRmQfw7KsJT3mHCRj4VQsZCLsJRamBBcgagQubZwj9M7RPAUO4kQt5UUEIvwSrCI8akwr5ETEJyD/nBhW8fQq5xT8LBEf/B3uXOvwxTDMKsZm3CEfSZQv5NnkL3gYFADiLzQatVM0IcWhBC88A3Qr+MQMLFOcFArFikQSpbPkLYhfnBp+qnQk7UTkLuOrA+nS7DwaBuV8IHBP1B0mz3QcVrK8JRhu7BBJ2/wSEAnUCIemdC7PZOvyZvhcLDqDJCclYjwfkdbUK3qJbCgbkjQuHhRsIZ6YVCnqIewqaXK0KTxGZAGfnpQfcxjUEcgBDCfPu2wUcgsT/ddTRClpJOQpHLVcLjAi7CPc22v82HkkKu6KhC3b0nQuvVjsLm+cy/fj0VwlZpx8Hle/xBaTxEwmYcAcI4HiNCTj8LQi3j58GOV69CWyoTwQ7IWkJN24xCYAVXQakHjkJ9+2PCEPafwoe8j8Kfu7pBP5BGwof0aEJAm/NBuDpSv77KLUK5g4HC6EKswcsRJ0GRTFLCHhXrvpu3sUJuu7FBRfmTwgFwFcLwPYpCsOEJwT+5IMIWgjxC680Ywo+B88HLCfDBd6k+wughlULCcE7CZQiWQZZi80EY/pBBhcxcQnOiisJGNHc/V6cdQnpWr8GcGaDCVlclwU5e1UHFevXBRQhFQGigGULVbSxCokQzwvJtk8GmdihCil6CQr/O3UC8VuxBhwmMwu5dqUJzm1jCAyhAQjIl9sHjFY1Bd3xEQW+YHcKYYSjCZbOdQE68DMJRuApBvJ/hP3XfREKLGYPC17uywRQ/lUEbFB2+d/llQtseHkISjJ9CrDu4Qcz9KcI+hRdBp7cQQVzO00Eq+CXBFttbwrIZCsGTMqLCMuLSwSuAzUD/AL3BCAvSwGQRLcIUB3tCCLgbv4OCk8CORKTAAJqfwNiyPsKswGZAxNUdQjtYQsIqtRpChIfcQQXdd8F4/xFCKOn4P+9AP7/5FCVCJ+CeQmlZ6kGl8tVB4C19wrJrsEC09ARC4TK3QUmEJkI0w9xBTO20vzz1rsGdhiDBv4ANwnPLeEIgcwhCXXmuQs5XPEIwp71BueCTwgSQWkJLLSxBCXhXwmz2H0HazC3C6ZehQtjJJkKt3XvBPwk3Qmzs48HA4YJCRvQNQliRRMA3L5ZBAUqgQvrwhEKVvG/Cw0yAwlWcKj6IOJHBRKLYQR5v/0FsaqvBcDeewXQXs78UFZbBWjOOQgup2kH1LilCZXOtQtpa9sHajTdCWxdCwkFaikJpUWZCC3qowWRaekGd49I/JelTQr8ftMHIRxxCUX5ZwhzPpkDNUojBPgWUQesAHcA32btAy7VdQpn/jUJ0WjnCxU0PQo77T8ItuilCpoo0wn+C7EGKNLLBXhZUQigHnMEFth7Cck0ewXt2wcHoOHrBwvf5wQEtREFQk1/C15SnQJT5IEK8gAXC+otFQiyHHUJkwqvAUVd5wooWpsHLvq3B65ohQmGOZ0LDjkpCI70gQpJMU0JtoeVBURstwC61JkLtYk9CvG9oQk0VW0LUFyVCcx05QchWlkLDTmzCBYstQv4EQEJg18PBfF7awCqgQEAHfUNCWV+OQrpYJ0AK1ZVBKrDuQRWj1EEPB4VCP2Rmwq5zS0J9IUFCZO9lQqIZdUHGSw3CNc4WP1E1+UGoB+rB/CUwwqEHLELvviHCtUd7QlxBXkK+3XDCDA2WQVIUDsG5VN1BBzAawrY090HhqwNC1OIAQqKpFsL5DpbCiAmCwnktUL8fdt/A3BwJQHzTX0KBB6JBRU5ZQsVBHcEdgB/CNMGbwDr1hkDGwiZCWmuaQi5Jq8Ds5sxBlqq9QXN/lcE8dtVBPLxwQizvc8Jbs5PC1mHSwd//4z8VEaVCfCegwT/qQ8IGnklBKMHHwWmHXMJgLErCB3cKwMtV6cBFnHZAj0kGQt6lO0FHj4RC1WnoQXnemr3iyYVB3kSBvwFaZEK64AjCSla7QWirf0IUC89Bc90RwRSQB8IoRv1AtgKXwi6FOUJWylJB5WkxwbngoMKTDBlCadlfwirYhb8CLJBB4O9CQrX+MMFUehfCNSSEQgh1MkJpFgPBat6YP4khJEL0YYzCAWo2wpaLHkKS94JCLKcPQvoT87/VTxVCzJg/QhFcqkHnwZNBqboAwgxsQ0HZFUtCJwk1wR1IZULKcBjBfeogwuixPEBD4yjCMCBkwiKq4sEJU1TAsmq0P2a4jMFD1qLCMMrcQWHMq8Ex64pCiHbBQasHCMI9fRzCZtzMQZr5AEJztdzBSDtgwuScSkKC7BXC23AWQfKp70EdQTjCT7/KQdHtLEJCBb7AO8axwVryvcGccylCv9RXwpoTXMFTwdBBuZ0gQqnXkL8GPhZC3wsUwa01eUK8/w5CaqAFQobQvb9b30vCsuxgwictHsIXl0RBIUAkwm2hgEKCIz7BeXv3QRXhaMLmG4tCtI44QpyAnsAyoIS/+qD1wbdbYMIIw35CXnwrQMRS1MCBK4JCaCOAwQM4n8GKnz9B0IvJQYz51cEohRtChxfmQaMeC8DKDiJCU/KcwYcJjsKE5hpCPBWTwuh2Y8LI8dZBnnhaQt36CsLJTJHCY3RKQnE0jMIvfA1BzsLFQNTxlsIGTps92ueQQgsKB8K6Cvc/ub9mwBuW/sAVw5TCzVBAwpAa/0HclChCZWnxwcFqVEEg0jdCUce9wUdguMGERFzCFkMvwcWinEFgaVJCHRQ0wdEjpsI/0SjBf1hKwiJ8AkIUp5LCgiz1wef2LsLfuxzC2FrAQUBdgkIuqfvBIdhDQWtgQEBJaP9BIYtOQj9fIEK/TjrCZ3UvQVwoWkC8Fm9Bs/jnwB2YMr+D2phBi0YOQQ3xDkI9qwZCbVJRQi9b5kEkNOY/7vCaQT3ZZsLpHoVCHMKRQuMMh8JoqxhBZPwfQpf3ccHN9JNBgsxcQuPhakJpOIHBMwqZwf55PkIROfHAKkWiQt8kKEHBLXVCn7c7QpJzOkFsjexBB0PwwUK6f0JgYMvBQhrPwYCwG0KsZWrCTAExQioIUsIuu2RCKfr7QX8LXkEz+SdCJnvPwQmJRUL9SDJBGbWUQjcDNkJsX8S/wCHNwZkiJELVbl9C5T8DwuKRQsGF0t5BrzZuwBPFI0LvZG1Btp80wOVCvcFij0XCyFoJwvstAkL4YwTCLjqKQpibgcIBvGbBLE+BwliAmkHU4Q/Bd6cMQNrBakLic5k/grIzQkBtFEKYpOrB07mLwrhqIEJLZitCO/TdQDxzJELWBqBC65cTQfdW9cFPWzXCNnfQwSq9JkHYObPBpLo/QsnRxkEqjIxCQkHfQZ6nA8I21KVCEnBewi8KMkIMicNBOM+Iwo2b6EF96VJCv9MpQsRScEK02kRCM1kpQo+BFULg9ILAtQ0QwqjWV0IukM3Bpq1NQiJs/kFgeaTBNTpaQmLLJ0FxRRnCSpO1wWTdL0Khj/zBHStqwv3RgEFJIYPCLHDqwRV8IkKN8W9CBY7jwbbOjkKgFZXCsegnwj9mgEJkFgDC0eK+wDGORUL+w53C7NCDwiwZaUKdeGbAmaubQZ0qREFR3SpCYLBmQg7g+sEtKYPAXx6VwkVwGkBLgjVCc1DYQAV/E0C4y9DBVg/tQZgw+UFwRiS/JxNiQjfiH8GsIS7CDEWXwYkO6cGJA+vAC6ORwmaWgEI4seTBv8z/wZjIXsJ8peS/K7loQiEEQsL6ayrCgx9mQZXlzUAnl6hCAEkgQrIwLULLNNTBtNWjvycLTcFgL+NAq8KoQK/Ob0IYv5XBfuXBQVuFKMJNM4RCicFSwgvZGcKMySFCZszFQKeWTELc7xrC5N7NQXOjgcKXxzRCQB5pwo/oVkEjCV1BnnoNQstPBEJSkrvB1e+WwhWfrELTWa1C2YQgQnYw70E=\",\"dtype\":\"float32\",\"shape\":[5000]}},\"selected\":null,\"selection_policy\":null},\"id\":\"2c74269e-a4cc-4f88-a73e-c3031d266614\",\"type\":\"ColumnDataSource\"},{\"attributes\":{\"formatter\":{\"id\":\"b6f8b370-e158-40c7-866f-0eefebbbda6d\",\"type\":\"BasicTickFormatter\"},\"plot\":{\"id\":\"a62dc695-9ee0-4115-9ad1-326282a8decd\",\"subtype\":\"Figure\",\"type\":\"Plot\"},\"ticker\":{\"id\":\"0829cd16-9276-4fcd-8234-33116e73a0da\",\"type\":\"BasicTicker\"},\"visible\":false},\"id\":\"c404d6c1-fa5c-4be8-82d1-79cc63223d87\",\"type\":\"LinearAxis\"},{\"attributes\":{\"overlay\":{\"id\":\"609b5d6e-3457-4bc3-bcf3-0c44f3c05834\",\"type\":\"BoxAnnotation\"}},\"id\":\"5c6411ef-ddb2-4336-be15-4f83bad8ce8d\",\"type\":\"BoxZoomTool\"},{\"attributes\":{},\"id\":\"2af7e0ef-af04-445e-be7c-13e7ae497d67\",\"type\":\"ResetTool\"},{\"attributes\":{},\"id\":\"d33bdb33-c76b-4500-8992-0e484e17845c\",\"type\":\"LinearScale\"},{\"attributes\":{\"dimension\":1,\"grid_line_color\":{\"value\":null},\"plot\":{\"id\":\"a62dc695-9ee0-4115-9ad1-326282a8decd\",\"subtype\":\"Figure\",\"type\":\"Plot\"},\"ticker\":{\"id\":\"0829cd16-9276-4fcd-8234-33116e73a0da\",\"type\":\"BasicTicker\"}},\"id\":\"b4e75c9c-286b-41ad-8ebb-f771bd0cbefc\",\"type\":\"Grid\"},{\"attributes\":{\"callback\":null,\"overlay\":{\"id\":\"47a1e147-2735-4070-b42b-94d901f23c7d\",\"type\":\"BoxAnnotation\"},\"renderers\":[{\"id\":\"99965cca-c725-42c8-8ba9-59ad14a1bcaa\",\"type\":\"GlyphRenderer\"}]},\"id\":\"75a60861-0254-4752-9eda-2d7c3dd4a6aa\",\"type\":\"BoxSelectTool\"},{\"attributes\":{},\"id\":\"4d56186e-8292-4b4a-9a04-096459496c63\",\"type\":\"LinearScale\"},{\"attributes\":{\"formatter\":{\"id\":\"408fce25-1ad1-4a6c-967f-0baac64657e6\",\"type\":\"BasicTickFormatter\"},\"plot\":{\"id\":\"a62dc695-9ee0-4115-9ad1-326282a8decd\",\"subtype\":\"Figure\",\"type\":\"Plot\"},\"ticker\":{\"id\":\"bfdb2532-dc36-4a73-b398-09c5cb880cdb\",\"type\":\"BasicTicker\"},\"visible\":false},\"id\":\"e5a30dc0-7657-4767-8a12-09a2f1b9b995\",\"type\":\"LinearAxis\"},{\"attributes\":{},\"id\":\"bfdb2532-dc36-4a73-b398-09c5cb880cdb\",\"type\":\"BasicTicker\"},{\"attributes\":{\"bottom_units\":\"screen\",\"fill_alpha\":{\"value\":0.5},\"fill_color\":{\"value\":\"lightgrey\"},\"left_units\":\"screen\",\"level\":\"overlay\",\"line_alpha\":{\"value\":1.0},\"line_color\":{\"value\":\"black\"},\"line_dash\":[4,4],\"line_width\":{\"value\":2},\"plot\":null,\"render_mode\":\"css\",\"right_units\":\"screen\",\"top_units\":\"screen\"},\"id\":\"47a1e147-2735-4070-b42b-94d901f23c7d\",\"type\":\"BoxAnnotation\"},{\"attributes\":{\"grid_line_color\":{\"value\":null},\"plot\":{\"id\":\"a62dc695-9ee0-4115-9ad1-326282a8decd\",\"subtype\":\"Figure\",\"type\":\"Plot\"},\"ticker\":{\"id\":\"bfdb2532-dc36-4a73-b398-09c5cb880cdb\",\"type\":\"BasicTicker\"}},\"id\":\"bec99670-4cd9-4637-a079-2035ef4e8ec1\",\"type\":\"Grid\"},{\"attributes\":{},\"id\":\"280e8e6c-1a4a-48ac-b412-d816fe3d8830\",\"type\":\"PanTool\"},{\"attributes\":{\"fill_color\":{\"value\":\"#1f77b4\"},\"size\":{\"units\":\"screen\",\"value\":10},\"x\":{\"field\":\"x_coord\"},\"y\":{\"field\":\"y_coord\"}},\"id\":\"2ee50038-29ae-4dc8-adea-328b25c8ac15\",\"type\":\"Circle\"},{\"attributes\":{},\"id\":\"94cf2dda-6d2f-47c5-8c64-6dda1a9ea657\",\"type\":\"WheelZoomTool\"},{\"attributes\":{\"plot\":null,\"text\":\"t-SNE Word Embeddings\",\"text_font_size\":{\"value\":\"16pt\"}},\"id\":\"7fa396f6-8563-4ae4-be73-bdf9e12e03f5\",\"type\":\"Title\"},{\"attributes\":{\"fill_alpha\":{\"value\":0.1},\"fill_color\":{\"value\":\"#1f77b4\"},\"line_alpha\":{\"value\":0.1},\"line_color\":{\"value\":\"#1f77b4\"},\"size\":{\"units\":\"screen\",\"value\":10},\"x\":{\"field\":\"x_coord\"},\"y\":{\"field\":\"y_coord\"}},\"id\":\"bedc3ea4-98b3-4441-ab2f-85724bb5f8b6\",\"type\":\"Circle\"}],\"root_ids\":[\"a62dc695-9ee0-4115-9ad1-326282a8decd\"]},\"title\":\"Bokeh Application\",\"version\":\"0.12.15\"}};\n",
       "  var render_items = [{\"docid\":\"226264f9-e249-4d6e-a312-a63c4cd7521d\",\"elementid\":\"e3ac2608-9914-47c3-82ce-7b53b53d6101\",\"modelid\":\"a62dc695-9ee0-4115-9ad1-326282a8decd\"}];\n",
       "  root.Bokeh.embed.embed_items_notebook(docs_json, render_items);\n",
       "\n",
       "  }\n",
       "  if (root.Bokeh !== undefined) {\n",
       "    embed_document(root);\n",
       "  } else {\n",
       "    var attempts = 0;\n",
       "    var timer = setInterval(function(root) {\n",
       "      if (root.Bokeh !== undefined) {\n",
       "        embed_document(root);\n",
       "        clearInterval(timer);\n",
       "      }\n",
       "      attempts++;\n",
       "      if (attempts > 100) {\n",
       "        console.log(\"Bokeh: ERROR: Unable to run BokehJS code because BokehJS library is missing\")\n",
       "        clearInterval(timer);\n",
       "      }\n",
       "    }, 10, root)\n",
       "  }\n",
       "})(window);"
      ],
      "application/vnd.bokehjs_exec.v0+json": ""
     },
     "metadata": {
      "application/vnd.bokehjs_exec.v0+json": {
       "id": "a62dc695-9ee0-4115-9ad1-326282a8decd"
      }
     },
     "output_type": "display_data"
    }
   ],
   "source": [
    "# add our DataFrame as a ColumnDataSource for Bokeh\n",
    "plot_data = ColumnDataSource(tsne_vectors)\n",
    "\n",
    "# create the plot and configure the\n",
    "# title, dimensions, and tools\n",
    "tsne_plot = figure(title=u't-SNE Word Embeddings',\n",
    "                   plot_width = 1000,\n",
    "                   plot_height = 1000,\n",
    "                   tools= (u'pan, wheel_zoom, box_zoom,'\n",
    "                           u'box_select, reset'),\n",
    "                   active_scroll=u'wheel_zoom')\n",
    "\n",
    "# add a hover tool to display words on roll-over\n",
    "tsne_plot.add_tools( HoverTool(tooltips = u'@word') )\n",
    "\n",
    "# draw the words as circles on the plot\n",
    "tsne_plot.circle(u'x_coord', u'y_coord', source=plot_data,\n",
    "                 color=u'green', line_alpha=0.2, fill_alpha=0.1,\n",
    "                 size=10, hover_line_color=u'black')\n",
    "\n",
    "# configure visual elements of the plot\n",
    "tsne_plot.title.text_font_size = value(u'16pt')\n",
    "tsne_plot.xaxis.visible = False\n",
    "tsne_plot.yaxis.visible = False\n",
    "tsne_plot.grid.grid_line_color = None\n",
    "tsne_plot.outline_line_color = None\n",
    "\n",
    "# engage!\n",
    "show(tsne_plot);"
   ]
  },
  {
   "cell_type": "markdown",
   "metadata": {
    "collapsed": true
   },
   "source": [
    "# Assess Model on Original Word2vec Analogy Task"
   ]
  },
  {
   "cell_type": "code",
   "execution_count": 55,
   "metadata": {},
   "outputs": [],
   "source": [
    "def model_accuracy(model, questions):\n",
    "\n",
    "    accuracy = model.wv.accuracy(questions)\n",
    "    \n",
    "    sum_corr = len(accuracy[-1]['correct'])\n",
    "    sum_incorr = len(accuracy[-1]['incorrect'])\n",
    "    total = sum_corr + sum_incorr\n",
    "    percent = lambda a: a / total * 100\n",
    "    \n",
    "    print('Total tasks: {}, Correct: {:.2f}%, Incorrect: {:.2f}%'.format(total, percent(sum_corr), percent(sum_incorr)))"
   ]
  },
  {
   "cell_type": "code",
   "execution_count": 56,
   "metadata": {},
   "outputs": [
    {
     "name": "stdout",
     "output_type": "stream",
     "text": [
      "Total tasks: 3212, Correct: 28.08%, Incorrect: 71.92%\n"
     ]
    }
   ],
   "source": [
    "model_accuracy(skill2vec, 'question-words.txt')"
   ]
  },
  {
   "cell_type": "code",
   "execution_count": 57,
   "metadata": {},
   "outputs": [],
   "source": [
    "# skill2vec.wv.accuracy('question-words.txt')"
   ]
  },
  {
   "cell_type": "markdown",
   "metadata": {},
   "source": [
    "## Clustering (for use with Tensorboard)"
   ]
  },
  {
   "cell_type": "code",
   "execution_count": 35,
   "metadata": {},
   "outputs": [
    {
     "name": "stderr",
     "output_type": "stream",
     "text": [
      "/home/goodgame/anaconda3/lib/python3.6/site-packages/ipykernel_launcher.py:1: DeprecationWarning: Call to deprecated `__getitem__` (Method will be removed in 4.0.0, use self.wv.__getitem__() instead).\n",
      "  \"\"\"Entry point for launching an IPython kernel.\n"
     ]
    }
   ],
   "source": [
    "X = skill2vec[skill2vec.wv.vocab]\n",
    "words = list(skill2vec.wv.vocab)"
   ]
  },
  {
   "cell_type": "code",
   "execution_count": 45,
   "metadata": {},
   "outputs": [
    {
     "name": "stdout",
     "output_type": "stream",
     "text": [
      "[75 70 96 48 48 64 48 48 48 64]\n",
      "['factory', 'automation', 'software_engineer', 'to', 'support', 'semiconductor', 'development', 'in', 'a', 'semiconductor_equipment']\n",
      "CPU times: user 4min 35s, sys: 4min 28s, total: 9min 4s\n",
      "Wall time: 3min 53s\n"
     ]
    }
   ],
   "source": [
    "%%time\n",
    "from sklearn import cluster\n",
    "from sklearn import metrics\n",
    "kmeans = cluster.KMeans(n_clusters=100)\n",
    "kmeans.fit(X)\n",
    "\n",
    "labels = kmeans.labels_\n",
    "centroids = kmeans.cluster_centers_\n",
    "print(labels[:10])\n",
    "print(words[:10])"
   ]
  },
  {
   "cell_type": "code",
   "execution_count": 46,
   "metadata": {
    "collapsed": true
   },
   "outputs": [],
   "source": [
    "sklearn_clust_dict = {}\n",
    "\n",
    "for i, word in enumerate(words):  \n",
    "    sklearn_clust_dict[word] = str(labels[i])"
   ]
  },
  {
   "cell_type": "code",
   "execution_count": 47,
   "metadata": {},
   "outputs": [
    {
     "name": "stdout",
     "output_type": "stream",
     "text": [
      "75\n",
      "70\n",
      "96\n",
      "48\n",
      "48\n",
      "64\n",
      "48\n",
      "48\n",
      "48\n",
      "64\n"
     ]
    }
   ],
   "source": [
    "# Test some terms\n",
    "sample_words = ['factory', 'automation', 'software_engineer', 'to', \n",
    "                'support', 'semiconductor', 'development', 'in', 'a', \n",
    "                'semiconductor_equipment']\n",
    "\n",
    "for word in sample_words:\n",
    "    print(sklearn_clust_dict[word])"
   ]
  },
  {
   "cell_type": "code",
   "execution_count": 48,
   "metadata": {},
   "outputs": [
    {
     "name": "stdout",
     "output_type": "stream",
     "text": [
      "91590\n"
     ]
    }
   ],
   "source": [
    "print(len(sklearn_clust_dict.keys()))"
   ]
  },
  {
   "cell_type": "markdown",
   "metadata": {},
   "source": [
    "## Put the clusters into a metadata file, for ingestion by Tensorboard"
   ]
  },
  {
   "cell_type": "code",
   "execution_count": 51,
   "metadata": {
    "collapsed": true
   },
   "outputs": [],
   "source": [
    "# We'll overwrite this file\n",
    "!rm ../projector/v2/w2x_metadata.tsv"
   ]
  },
  {
   "cell_type": "code",
   "execution_count": 52,
   "metadata": {},
   "outputs": [
    {
     "name": "stdout",
     "output_type": "stream",
     "text": [
      "CPU times: user 357 ms, sys: 16.6 ms, total: 373 ms\n",
      "Wall time: 362 ms\n"
     ]
    }
   ],
   "source": [
    "%%time\n",
    "# Create updated tsv file for uploading to Tensorboard\n",
    "with open('../projector/w2x_metadata.tsv', 'r') as infile:\n",
    "    with open('../projector/v2/w2x_metadata.tsv', 'w+') as outfile:\n",
    "        outfile.write('label\\tcluster\\n')\n",
    "        for line in infile:\n",
    "            word = line.replace('\\n','')\n",
    "            clust = sklearn_clust_dict[word]\n",
    "            outfile.write(word)\n",
    "            outfile.write('\\t')\n",
    "            outfile.write(clust)\n",
    "            outfile.write('\\n')"
   ]
  },
  {
   "cell_type": "code",
   "execution_count": 60,
   "metadata": {},
   "outputs": [
    {
     "name": "stdout",
     "output_type": "stream",
     "text": [
      "########## Hard skill words: ##########\n",
      "postgresql : 52\n",
      "sql : 52\n",
      "python : 99\n",
      "java : 100\n",
      "r : 66\n",
      "ubuntu : 75\n",
      "linux : 11\n",
      "perl : 50\n",
      "c++ : 50\n",
      "oop : 50\n",
      "git : 93\n",
      "jira : 51\n",
      "cloud_compute : 68\n",
      "elasticsearch : 68\n",
      "cassandra : 68\n",
      "kafka : 68\n",
      "photoshop : 69\n",
      "invision : 69\n",
      "js : 179\n",
      "excel : 196\n",
      "unit_test : 32\n",
      "regression_test : 32\n",
      "automate : 47\n",
      "\n",
      " ########## Non-skill words: ##########\n",
      "program : 21\n",
      "job : 21\n",
      "sale : 4\n",
      "obvious : 135\n",
      "\n",
      " ########## Soft skill words: ##########\n",
      "interpersonal : 191\n",
      "organizational : 191\n",
      "listening : 191\n",
      "communication_skill : 191\n",
      "adaptable : 146\n"
     ]
    }
   ],
   "source": [
    "hard_skill_clusters = []\n",
    "\n",
    "hard_skill_examples = ['postgresql', 'sql', 'python', 'java', 'r', \n",
    "                'ubuntu', 'linux', 'perl', 'c++', 'oop', 'git', 'jira',\n",
    "               'cloud_compute', 'elasticsearch', 'cassandra', 'kafka', \n",
    "               'photoshop', 'invision', 'js', 'excel', 'unit_test', 'regression_test',\n",
    "               'automate']\n",
    "print('#'*10,\"Hard skill words:\", '#'*10)\n",
    "for word in hard_skill_examples:\n",
    "    print(word,\":\",sklearn_clust_dict[word])\n",
    "    hard_skill_clusters.append(sklearn_clust_dict[word])\n",
    "    \n",
    "bad_words = ['program', 'job', 'sale', 'obvious']\n",
    "print('\\n','#'*10,\"Non-skill words:\", '#'*10)\n",
    "for word in bad_words:\n",
    "    print(word,\":\",sklearn_clust_dict[word])\n",
    "    \n",
    "soft_skills = ['interpersonal', 'organizational', 'listening', 'communication_skill', 'adaptable']\n",
    "print('\\n','#'*10, 'Soft skill words:', '#'*10)\n",
    "for word in soft_skills:\n",
    "    print(word,\":\",sklearn_clust_dict[word])"
   ]
  },
  {
   "cell_type": "code",
   "execution_count": 61,
   "metadata": {},
   "outputs": [
    {
     "name": "stdout",
     "output_type": "stream",
     "text": [
      "Clusters containing hard skills: [51, 11, 32, 66, 93, 50, 52, 196, 68, 75, 99, 100, 47, 179, 69]\n"
     ]
    }
   ],
   "source": [
    "unique_hard_skill_clusts = [int(item) for item in list(set(sorted(hard_skill_clusters)))]\n",
    "print(\"Clusters containing hard skills:\", unique_hard_skill_clusts)"
   ]
  },
  {
   "cell_type": "code",
   "execution_count": 62,
   "metadata": {
    "collapsed": true
   },
   "outputs": [],
   "source": [
    "# This is the list of hard skills that we can use later.\n",
    "all_skill_words = [k for k,v in sklearn_clust_dict.items() if int(v) in unique_hard_skill_clusts]"
   ]
  },
  {
   "cell_type": "code",
   "execution_count": 63,
   "metadata": {
    "collapsed": true
   },
   "outputs": [],
   "source": [
    "# Write the list to file for later use.\n",
    "with open('../models_05apr/hard_skills_from_nn2.txt', 'w') as outfile:\n",
    "    for item in sorted(all_skill_words):\n",
    "        outfile.write(item)\n",
    "        outfile.write('\\n')"
   ]
  },
  {
   "cell_type": "code",
   "execution_count": 2,
   "metadata": {},
   "outputs": [],
   "source": [
    "# !tail -100 ../models_data_lower/hard_skills_from_nn.txt"
   ]
  }
 ],
 "metadata": {
  "kernelspec": {
   "display_name": "Python 3",
   "language": "python",
   "name": "python3"
  },
  "language_info": {
   "codemirror_mode": {
    "name": "ipython",
    "version": 3
   },
   "file_extension": ".py",
   "mimetype": "text/x-python",
   "name": "python",
   "nbconvert_exporter": "python",
   "pygments_lexer": "ipython3",
   "version": "3.6.5"
  }
 },
 "nbformat": 4,
 "nbformat_minor": 2
}
